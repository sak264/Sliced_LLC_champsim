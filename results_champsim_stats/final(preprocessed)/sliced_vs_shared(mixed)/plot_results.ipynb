{
 "cells": [
  {
   "cell_type": "code",
   "execution_count": 1,
   "metadata": {},
   "outputs": [
    {
     "data": {
      "text/plain": [
       "'\\nUsage details:\\nStep 1: Get preprocessed data using get_data.sh script.\\n    a. Verify that all the files in a particular directory have valid content.\\n       If some file doesn\\'t have complete data then the script will output empty data.\\n    b. Run the script like \"get_data.sh file.txt num_cores is_shared\". is_shared is 1 if\\n       the results are for shared llc, 0 otherwise. This has to be done for each file.\\n       for FILE in *; do get_data.sh file.txt num_cores is_shared; done\\n    c. The above step will generate file_preprocessed.txt in a folder named \"preprocessed_results\" \\n    for different file_names. Move the results in the desired place.\\nStep 2:\\n    a. List the two data points to compare and corresponding directories.\\n    b. Get the processed_data for each file for each of the two data points.\\n       Signature : process_file(file, num_core)\\n       Data point structure:\\n       For each data point(e.g.\"shared\", \"sliced\"):\\n       [ [(sim_inst_count, cpu_data)] for each file in a data point]\\n       cpu_data structure\\n       [(global_mpki, ipc, cache_data) for each cpu]\\n       cache_data structure:\\n       [[total_access, hit, miss, mpki] for each cache] : 4x4\\n    c. Use the processed data as needed.\\n'"
      ]
     },
     "execution_count": 1,
     "metadata": {},
     "output_type": "execute_result"
    }
   ],
   "source": [
    "\"\"\"\n",
    "Usage details:\n",
    "Step 1: Get preprocessed data using get_data.sh script.\n",
    "    a. Verify that all the files in a particular directory have valid content.\n",
    "       If some file doesn't have complete data then the script will output empty data.\n",
    "    b. Run the script like \"get_data.sh file.txt num_cores is_shared\". is_shared is 1 if\n",
    "       the results are for shared llc, 0 otherwise. This has to be done for each file.\n",
    "       for FILE in *; do get_data.sh file.txt num_cores is_shared; done\n",
    "    c. The above step will generate file_preprocessed.txt in a folder named \"preprocessed_results\" \n",
    "    for different file_names. Move the results in the desired place.\n",
    "Step 2:\n",
    "    a. List the two data points to compare and corresponding directories.\n",
    "    b. Get the processed_data for each file for each of the two data points.\n",
    "       Signature : process_file(file, num_core)\n",
    "       Data point structure:\n",
    "       For each data point(e.g.\"shared\", \"sliced\"):\n",
    "       [ [(sim_inst_count, cpu_data)] for each file in a data point]\n",
    "       cpu_data structure\n",
    "       [(global_mpki, ipc, cache_data) for each cpu]\n",
    "       cache_data structure:\n",
    "       [[total_access, hit, miss, mpki] for each cache] : 4x4\n",
    "    c. Use the processed data as needed.\n",
    "\"\"\""
   ]
  },
  {
   "cell_type": "code",
   "execution_count": 2,
   "metadata": {},
   "outputs": [],
   "source": [
    "def add(l1,l2):\n",
    "    temp = []\n",
    "    for i in range(0,len(l1)):\n",
    "        temp.append(l1[i]+l2[i])\n",
    "    return temp"
   ]
  },
  {
   "cell_type": "code",
   "execution_count": 3,
   "metadata": {},
   "outputs": [],
   "source": [
    "def find_labels1(x):\n",
    "    temp = []\n",
    "    for i in range(len(x)):\n",
    "        a = x[i].split('_')[0]\n",
    "        temp.append(a.split('-')[0] + '(' +  a + ')')\n",
    "        \n",
    "    return temp"
   ]
  },
  {
   "cell_type": "code",
   "execution_count": 4,
   "metadata": {},
   "outputs": [],
   "source": [
    "def find_labels2(x):\n",
    "    \n",
    "    temp = [] \n",
    "    for i in range(len(x)):\n",
    "        a = x[i].split('_')[0]\n",
    "        temp.append(a.split('-')[1] + '(' +  a + ')')\n",
    "        \n",
    "    return temp"
   ]
  },
  {
   "cell_type": "code",
   "execution_count": 5,
   "metadata": {},
   "outputs": [],
   "source": [
    "import numpy as np"
   ]
  },
  {
   "cell_type": "code",
   "execution_count": 6,
   "metadata": {},
   "outputs": [],
   "source": [
    "import matplotlib.pyplot as plt"
   ]
  },
  {
   "cell_type": "code",
   "execution_count": 7,
   "metadata": {},
   "outputs": [],
   "source": [
    "import os"
   ]
  },
  {
   "cell_type": "code",
   "execution_count": 8,
   "metadata": {},
   "outputs": [
    {
     "data": {
      "text/plain": [
       "['preprocess_result_sliced',\n",
       " '__pycache__',\n",
       " 'preprocess_result_shared',\n",
       " 'process_data2.py',\n",
       " '.ipynb_checkpoints',\n",
       " 'plot_results.ipynb',\n",
       " 'process_data1.py']"
      ]
     },
     "execution_count": 8,
     "metadata": {},
     "output_type": "execute_result"
    }
   ],
   "source": [
    "os.listdir()"
   ]
  },
  {
   "cell_type": "code",
   "execution_count": 9,
   "metadata": {},
   "outputs": [],
   "source": [
    "from process_data2 import process_file2\n",
    "from process_data1 import process_file1\n"
   ]
  },
  {
   "cell_type": "code",
   "execution_count": 10,
   "metadata": {},
   "outputs": [],
   "source": [
    "shared_dir = \"preprocess_result_shared\"\n",
    "sliced_dir = \"preprocess_result_sliced\"\n",
    "\n",
    "\"\"\"\n",
    "The processed files must be defined manually like :\n",
    "shared_preprocessed_files = [\"file1.txt\", \"file2.txt\", ...].\n",
    "\n",
    "The result will be in the same order as the files.\n",
    "\"\"\" \n",
    "\n",
    "shared_preprocessed_files = os.listdir(shared_dir)\n",
    "\n",
    "sliced_preprocessed_files = os.listdir(sliced_dir)"
   ]
  },
  {
   "cell_type": "code",
   "execution_count": 11,
   "metadata": {},
   "outputs": [],
   "source": [
    "shared_preprocessed_files.sort()"
   ]
  },
  {
   "cell_type": "code",
   "execution_count": 12,
   "metadata": {},
   "outputs": [
    {
     "data": {
      "text/plain": [
       "['bwaves-omen_shared_preprocessed.txt',\n",
       " 'gcc-perl_shared_preprocessed.txt',\n",
       " 'mcf-cactu_shared_preprocessed.txt',\n",
       " 'mcf-wrf_preprocessed.txt',\n",
       " 'omen-gcc_preprocessed.txt']"
      ]
     },
     "execution_count": 12,
     "metadata": {},
     "output_type": "execute_result"
    }
   ],
   "source": [
    "shared_preprocessed_files"
   ]
  },
  {
   "cell_type": "code",
   "execution_count": 13,
   "metadata": {},
   "outputs": [],
   "source": [
    "sliced_preprocessed_files.sort()"
   ]
  },
  {
   "cell_type": "code",
   "execution_count": 14,
   "metadata": {},
   "outputs": [
    {
     "data": {
      "text/plain": [
       "['bwaves-omen_preprocessed.txt',\n",
       " 'gcc-perl_preprocessed.txt',\n",
       " 'mcf-cactu_preprocessed.txt',\n",
       " 'mcf-wrf_preprocessed.txt',\n",
       " 'omen-gcc_preprocessed.txt']"
      ]
     },
     "execution_count": 14,
     "metadata": {},
     "output_type": "execute_result"
    }
   ],
   "source": [
    "sliced_preprocessed_files"
   ]
  },
  {
   "cell_type": "code",
   "execution_count": 15,
   "metadata": {},
   "outputs": [
    {
     "data": {
      "text/plain": [
       "[(100000000,\n",
       "  [(46.3177,\n",
       "    1.00461,\n",
       "    [[6489066, 4761084, 1727982, 17.27982],\n",
       "     [12, 5, 7, 7e-05],\n",
       "     [1727993, 113, 1727880, 17.2788],\n",
       "     [1727881, 278, 1727603, 17.27603]]),\n",
       "   (12.0475,\n",
       "    0.35996,\n",
       "    [[35951882, 34081234, 1870648, 18.70648],\n",
       "     [9405691, 9355523, 50168, 0.50168],\n",
       "     [2829602, 1460388, 1369214, 13.69214],\n",
       "     [2037392, 808223, 1229169, 12.29169]])]),\n",
       " (100000000,\n",
       "  [(19.5668,\n",
       "    0.28885,\n",
       "    [[22591323, 20179734, 2411589, 24.11589],\n",
       "     [0, 0, 0, 0],\n",
       "     [2417918, 637518, 1780400, 17.804],\n",
       "     [1782861, 5316, 1777545, 17.77545]]),\n",
       "   (6.36664,\n",
       "    0.982804,\n",
       "    [[32406518, 32033780, 372738, 3.72738],\n",
       "     [7883897, 7330824, 553073, 5.53073],\n",
       "     [1019594, 844809, 174785, 1.74785],\n",
       "     [207503, 56832, 150671, 1.50671]])]),\n",
       " (100000000,\n",
       "  [(2.29487,\n",
       "    0.109667,\n",
       "    [[46680031, 41807812, 4872219, 48.72219],\n",
       "     [6748169, 6748169, 0, 0.0],\n",
       "     [5389693, 589556, 4800137, 48.00137],\n",
       "     [5261118, 448438, 4812680, 48.1268]]),\n",
       "   (0.00356941,\n",
       "    0.897439,\n",
       "    [[28006921, 16552817, 11454104, 114.54104],\n",
       "     [10091014, 10091014, 0, 0.0],\n",
       "     [12124894, 10896533, 1228361, 12.28361],\n",
       "     [1339504, 569509, 769995, 7.69995]])]),\n",
       " (300000000,\n",
       "  [(2.91428,\n",
       "    0.145684,\n",
       "    [[127217348, 109526964, 17690384, 58.96794666666667],\n",
       "     [17210861, 17210851, 10, 3.3333333333333335e-05],\n",
       "     [18977921, 1471563, 17506358, 58.354526666666665],\n",
       "     [18654288, 1649640, 17004648, 56.68216]]),\n",
       "   (3.54428,\n",
       "    1.17109,\n",
       "    [[66982424, 64910919, 2071505, 6.905016666666667],\n",
       "     [12693390, 12274681, 418709, 1.3956966666666666],\n",
       "     [3643616, 3182679, 460937, 1.5364566666666666],\n",
       "     [754995, 330391, 424604, 1.4153466666666668]])]),\n",
       " (300000000,\n",
       "  [(12.0731,\n",
       "    0.439032,\n",
       "    [[108350578, 102729203, 5621375, 18.737916666666667],\n",
       "     [28272647, 28113734, 158913, 0.52971],\n",
       "     [8511684, 4408887, 4102797, 13.67599],\n",
       "     [6104433, 3085352, 3019081, 10.063603333333333]]),\n",
       "   (19.5731,\n",
       "    0.187497,\n",
       "    [[66597543, 59365088, 7232455, 24.108183333333333],\n",
       "     [0, 0, 0, 0],\n",
       "     [7251508, 1910337, 5341171, 17.803903333333334],\n",
       "     [5348746, 13572, 5335174, 17.783913333333334]])])]"
      ]
     },
     "execution_count": 15,
     "metadata": {},
     "output_type": "execute_result"
    }
   ],
   "source": [
    "shared_preprocessed_result = []\n",
    "for file in shared_preprocessed_files:\n",
    "    file_path = os.path.join(shared_dir, file)\n",
    "    sim_inst_count, cpu_data = process_file2(file_path, 2)\n",
    "    shared_preprocessed_result.append((sim_inst_count, cpu_data))\n",
    "shared_preprocessed_result"
   ]
  },
  {
   "cell_type": "code",
   "execution_count": 16,
   "metadata": {},
   "outputs": [
    {
     "name": "stdout",
     "output_type": "stream",
     "text": [
      "46.2118\n",
      "12.0475\n",
      "19.5715\n",
      "6.40675\n",
      "2.29487\n",
      "0.00356585\n",
      "2.91428\n",
      "3.53365\n",
      "12.0583\n",
      "19.5729\n"
     ]
    },
    {
     "data": {
      "text/plain": [
       "[(100000000,\n",
       "  [(46.2118,\n",
       "    0.990368,\n",
       "    [[6490686, 4762706, 1727980, 17.2798],\n",
       "     [11, 4, 7, 7e-05],\n",
       "     [1727991, 111, 1727880, 17.2788],\n",
       "     [863824, 19, 863805, 8.63805],\n",
       "     [864057, 228, 863829, 8.63829]]),\n",
       "   (12.0475,\n",
       "    0.337612,\n",
       "    [[35796305, 33925667, 1870638, 18.70638],\n",
       "     [9462971, 9412711, 50260, 0.5026],\n",
       "     [2828828, 1459077, 1369751, 13.69751],\n",
       "     [1020493, 189140, 831353, 8.31353],\n",
       "     [1016729, 185378, 831351, 8.31351]])]),\n",
       " (100000000,\n",
       "  [(19.5715,\n",
       "    0.286766,\n",
       "    [[22590568, 20178919, 2411649, 24.11649],\n",
       "     [0, 0, 0, 0],\n",
       "     [2417980, 637570, 1780410, 17.8041],\n",
       "     [891796, 2435, 889361, 8.89361],\n",
       "     [891074, 2002, 889072, 8.89072]]),\n",
       "   (6.40675,\n",
       "    0.962686,\n",
       "    [[32253566, 31880824, 372742, 3.72742],\n",
       "     [7898221, 7344803, 553418, 5.53418],\n",
       "     [1019952, 840347, 179605, 1.79605],\n",
       "     [105338, 19791, 85547, 0.85547],\n",
       "     [107144, 21020, 86124, 0.86124]])]),\n",
       " (100000000,\n",
       "  [(2.29487,\n",
       "    0.109387,\n",
       "    [[46605564, 41733363, 4872201, 48.72201],\n",
       "     [6748292, 6748292, 0, 0.0],\n",
       "     [5389655, 589409, 4800246, 48.00246],\n",
       "     [2631856, 117755, 2514101, 25.14101],\n",
       "     [2629320, 116846, 2512474, 25.12474]]),\n",
       "   (0.00356585,\n",
       "    0.896046,\n",
       "    [[27824958, 16408603, 11416355, 114.16355],\n",
       "     [10067098, 10067098, 0, 0.0],\n",
       "     [12068484, 10735315, 1333169, 13.33169],\n",
       "     [725595, 330755, 394840, 3.9484],\n",
       "     [724216, 329184, 395032, 3.95032]])]),\n",
       " (300000000,\n",
       "  [(2.91428,\n",
       "    0.134308,\n",
       "    [[126898510, 109208089, 17690421, 58.96807],\n",
       "     [17214902, 17214892, 10, 3.3333333333333335e-05],\n",
       "     [18977984, 1471017, 17506967, 58.35655666666667],\n",
       "     [9330316, 406356, 8923960, 29.746533333333332],\n",
       "     [9324605, 404877, 8919728, 29.732426666666665]]),\n",
       "   (3.53365,\n",
       "    1.12315,\n",
       "    [[65964244, 63902285, 2061959, 6.873196666666667],\n",
       "     [12651972, 12231058, 420914, 1.4030466666666668],\n",
       "     [3629847, 3175130, 454717, 1.5157233333333333],\n",
       "     [371994, 99430, 272564, 0.9085466666666666],\n",
       "     [372350, 99778, 272572, 0.9085733333333333]])]),\n",
       " (300000000,\n",
       "  [(12.0583,\n",
       "    0.414827,\n",
       "    [[108342884, 102721527, 5621357, 18.737856666666666],\n",
       "     [28282591, 28123738, 158853, 0.52951],\n",
       "     [8509557, 4406761, 4102796, 13.675986666666667],\n",
       "     [3059090, 1377608, 1681482, 5.60494],\n",
       "     [3043625, 1365054, 1678571, 5.595236666666667]]),\n",
       "   (19.5729,\n",
       "    0.184285,\n",
       "    [[66396072, 59163582, 7232490, 24.1083],\n",
       "     [0, 0, 0, 0],\n",
       "     [7251544, 1910567, 5340977, 17.803256666666666],\n",
       "     [2675110, 4646, 2670464, 8.901546666666666],\n",
       "     [2673447, 4242, 2669205, 8.89735]])])]"
      ]
     },
     "execution_count": 16,
     "metadata": {},
     "output_type": "execute_result"
    }
   ],
   "source": [
    "sliced_preprocessed_result = []\n",
    "for file in sliced_preprocessed_files:\n",
    "    file_path = os.path.join(sliced_dir, file)\n",
    "    sim_inst_count, cpu_data = process_file1(file_path, 2)\n",
    "    sliced_preprocessed_result.append((sim_inst_count, cpu_data))\n",
    "sliced_preprocessed_result"
   ]
  },
  {
   "cell_type": "code",
   "execution_count": 17,
   "metadata": {},
   "outputs": [],
   "source": [
    "sliced = {'INST': 0}\n",
    "shared = {'INST' : 0}"
   ]
  },
  {
   "cell_type": "code",
   "execution_count": 18,
   "metadata": {},
   "outputs": [],
   "source": [
    "sliced_fields = {'MPKI','L2_ACCESS', 'L2_MISS', 'L2_HIT', 'LLC0_ACCESS', 'LLC0_MISS','LLC0_HIT' , 'LLC1_ACCESS', 'LLC1_MISS','LLC1_HIT','LLC1_MPKI','LLC0_MPKI','L2_MPKI'  }\n",
    "shared_fields = {'MPKI','L2_ACCESS', 'L2_MISS', 'L2_HIT', 'LLC_ACCESS', 'LLC_MISS','LLC_HIT','L2_MPKI', 'LLC_MPKI'  }"
   ]
  },
  {
   "cell_type": "code",
   "execution_count": 19,
   "metadata": {},
   "outputs": [
    {
     "data": {
      "text/plain": [
       "100000000"
      ]
     },
     "execution_count": 19,
     "metadata": {},
     "output_type": "execute_result"
    }
   ],
   "source": [
    "sliced_preprocessed_result[0][0]"
   ]
  },
  {
   "cell_type": "code",
   "execution_count": 20,
   "metadata": {},
   "outputs": [],
   "source": [
    "for i in sliced_fields:\n",
    "    \n",
    "    sliced['C0_'+i] = 0\n",
    "    sliced['C1_'+i] = 0\n",
    "    \n",
    "for i in shared_fields:\n",
    "    \n",
    "    shared['C0_'+i] = 0\n",
    "    shared['C1_'+i] = 0"
   ]
  },
  {
   "cell_type": "code",
   "execution_count": 21,
   "metadata": {},
   "outputs": [],
   "source": [
    "def fun(dic, label):\n",
    "    temp = []\n",
    "    \n",
    "    for i in range(len(dic)):\n",
    "        temp.append(dic[i][label])\n",
    "        \n",
    "    return temp"
   ]
  },
  {
   "cell_type": "code",
   "execution_count": 22,
   "metadata": {},
   "outputs": [
    {
     "data": {
      "text/plain": [
       "5"
      ]
     },
     "execution_count": 22,
     "metadata": {},
     "output_type": "execute_result"
    }
   ],
   "source": [
    "len(sliced_preprocessed_result)"
   ]
  },
  {
   "cell_type": "code",
   "execution_count": 23,
   "metadata": {},
   "outputs": [],
   "source": [
    "sliced_lis = []\n",
    "shared_lis = []\n",
    "for i in range(0,len(sliced_preprocessed_result)):\n",
    "    temp1 = sliced.copy()\n",
    "    temp2 = shared.copy()\n",
    "    sliced_lis.append(temp1)\n",
    "    shared_lis.append(temp2)"
   ]
  },
  {
   "cell_type": "code",
   "execution_count": 24,
   "metadata": {},
   "outputs": [
    {
     "data": {
      "text/plain": [
       "[{'INST': 0,\n",
       "  'C0_L2_MPKI': 0,\n",
       "  'C1_L2_MPKI': 0,\n",
       "  'C0_MPKI': 0,\n",
       "  'C1_MPKI': 0,\n",
       "  'C0_LLC_MISS': 0,\n",
       "  'C1_LLC_MISS': 0,\n",
       "  'C0_L2_MISS': 0,\n",
       "  'C1_L2_MISS': 0,\n",
       "  'C0_L2_HIT': 0,\n",
       "  'C1_L2_HIT': 0,\n",
       "  'C0_LLC_MPKI': 0,\n",
       "  'C1_LLC_MPKI': 0,\n",
       "  'C0_L2_ACCESS': 0,\n",
       "  'C1_L2_ACCESS': 0,\n",
       "  'C0_LLC_ACCESS': 0,\n",
       "  'C1_LLC_ACCESS': 0,\n",
       "  'C0_LLC_HIT': 0,\n",
       "  'C1_LLC_HIT': 0},\n",
       " {'INST': 0,\n",
       "  'C0_L2_MPKI': 0,\n",
       "  'C1_L2_MPKI': 0,\n",
       "  'C0_MPKI': 0,\n",
       "  'C1_MPKI': 0,\n",
       "  'C0_LLC_MISS': 0,\n",
       "  'C1_LLC_MISS': 0,\n",
       "  'C0_L2_MISS': 0,\n",
       "  'C1_L2_MISS': 0,\n",
       "  'C0_L2_HIT': 0,\n",
       "  'C1_L2_HIT': 0,\n",
       "  'C0_LLC_MPKI': 0,\n",
       "  'C1_LLC_MPKI': 0,\n",
       "  'C0_L2_ACCESS': 0,\n",
       "  'C1_L2_ACCESS': 0,\n",
       "  'C0_LLC_ACCESS': 0,\n",
       "  'C1_LLC_ACCESS': 0,\n",
       "  'C0_LLC_HIT': 0,\n",
       "  'C1_LLC_HIT': 0},\n",
       " {'INST': 0,\n",
       "  'C0_L2_MPKI': 0,\n",
       "  'C1_L2_MPKI': 0,\n",
       "  'C0_MPKI': 0,\n",
       "  'C1_MPKI': 0,\n",
       "  'C0_LLC_MISS': 0,\n",
       "  'C1_LLC_MISS': 0,\n",
       "  'C0_L2_MISS': 0,\n",
       "  'C1_L2_MISS': 0,\n",
       "  'C0_L2_HIT': 0,\n",
       "  'C1_L2_HIT': 0,\n",
       "  'C0_LLC_MPKI': 0,\n",
       "  'C1_LLC_MPKI': 0,\n",
       "  'C0_L2_ACCESS': 0,\n",
       "  'C1_L2_ACCESS': 0,\n",
       "  'C0_LLC_ACCESS': 0,\n",
       "  'C1_LLC_ACCESS': 0,\n",
       "  'C0_LLC_HIT': 0,\n",
       "  'C1_LLC_HIT': 0},\n",
       " {'INST': 0,\n",
       "  'C0_L2_MPKI': 0,\n",
       "  'C1_L2_MPKI': 0,\n",
       "  'C0_MPKI': 0,\n",
       "  'C1_MPKI': 0,\n",
       "  'C0_LLC_MISS': 0,\n",
       "  'C1_LLC_MISS': 0,\n",
       "  'C0_L2_MISS': 0,\n",
       "  'C1_L2_MISS': 0,\n",
       "  'C0_L2_HIT': 0,\n",
       "  'C1_L2_HIT': 0,\n",
       "  'C0_LLC_MPKI': 0,\n",
       "  'C1_LLC_MPKI': 0,\n",
       "  'C0_L2_ACCESS': 0,\n",
       "  'C1_L2_ACCESS': 0,\n",
       "  'C0_LLC_ACCESS': 0,\n",
       "  'C1_LLC_ACCESS': 0,\n",
       "  'C0_LLC_HIT': 0,\n",
       "  'C1_LLC_HIT': 0},\n",
       " {'INST': 0,\n",
       "  'C0_L2_MPKI': 0,\n",
       "  'C1_L2_MPKI': 0,\n",
       "  'C0_MPKI': 0,\n",
       "  'C1_MPKI': 0,\n",
       "  'C0_LLC_MISS': 0,\n",
       "  'C1_LLC_MISS': 0,\n",
       "  'C0_L2_MISS': 0,\n",
       "  'C1_L2_MISS': 0,\n",
       "  'C0_L2_HIT': 0,\n",
       "  'C1_L2_HIT': 0,\n",
       "  'C0_LLC_MPKI': 0,\n",
       "  'C1_LLC_MPKI': 0,\n",
       "  'C0_L2_ACCESS': 0,\n",
       "  'C1_L2_ACCESS': 0,\n",
       "  'C0_LLC_ACCESS': 0,\n",
       "  'C1_LLC_ACCESS': 0,\n",
       "  'C0_LLC_HIT': 0,\n",
       "  'C1_LLC_HIT': 0}]"
      ]
     },
     "execution_count": 24,
     "metadata": {},
     "output_type": "execute_result"
    }
   ],
   "source": [
    "shared_lis"
   ]
  },
  {
   "cell_type": "code",
   "execution_count": 25,
   "metadata": {},
   "outputs": [],
   "source": [
    "for i in range(0,len(sliced_lis)):\n",
    "    sliced_lis[i]['INST'] =  sliced_preprocessed_result[i][0]\n",
    "    sliced_lis[i]['C0_L2_MISS'] = sliced_preprocessed_result[i][1][0][2][2][2]\n",
    "    sliced_lis[i]['C1_L2_MISS']=  sliced_preprocessed_result[i][1][1][2][2][2]\n",
    "    sliced_lis[i]['C0_L2_HIT'] =  sliced_preprocessed_result[i][1][0][2][2][1]\n",
    "    sliced_lis[i]['C1_L2_HIT'] =  sliced_preprocessed_result[i][1][1][2][2][1]\n",
    "    sliced_lis[i]['C0_LLC1_MISS']= sliced_preprocessed_result[i][1][0][2][4][2]\n",
    "    sliced_lis[i]['C1_LLC1_MISS'] =  sliced_preprocessed_result[i][1][1][2][4][2]\n",
    "    sliced_lis[i]['C0_LLC0_ACCESS'] = sliced_preprocessed_result[i][1][0][2][3][0]\n",
    "    sliced_lis[i]['C1_LLC0_ACCESS'] =  sliced_preprocessed_result[i][1][1][2][3][0]\n",
    "    sliced_lis[i]['C0_LLC1_HIT'] = sliced_preprocessed_result[i][1][0][2][4][1]\n",
    "    sliced_lis[i]['C1_LLC1_HIT'] = sliced_preprocessed_result[i][1][1][2][4][1]\n",
    "    sliced_lis[i]['C0_IPC']=  sliced_preprocessed_result[i][1][0][1]\n",
    "    sliced_lis[i]['C1_IPC'] = sliced_preprocessed_result[i][1][1][1]\n",
    "    sliced_lis[i]['C0_MPKI']=  sliced_preprocessed_result[i][1][0][0]\n",
    "    sliced_lis[i]['C1_MPKI'] = sliced_preprocessed_result[i][1][1][0]\n",
    "    sliced_lis[i]['C0_LLC0_MISS'] = sliced_preprocessed_result[i][1][0][2][3][2]\n",
    "    sliced_lis[i]['C1_LLC0_MISS'] = sliced_preprocessed_result[i][1][1][2][3][2]\n",
    "    sliced_lis[i]['C0_LLC1_ACCESS'] = sliced_preprocessed_result[i][1][0][2][4][0]\n",
    "    sliced_lis[i]['C1_LLC1_ACCESS'] =  sliced_preprocessed_result[i][1][1][2][4][0]\n",
    "    sliced_lis[i]['C0_L2_ACCESS'] =  sliced_preprocessed_result[i][1][0][2][2][0]\n",
    "    sliced_lis[i]['C1_L2_ACCESS'] =  sliced_preprocessed_result[i][1][1][2][2][0]\n",
    "    sliced_lis[i]['C0_LLC0_HIT']  = sliced_preprocessed_result[i][1][0][2][3][1]\n",
    "    sliced_lis[i]['C1_LLC0_HIT']  = sliced_preprocessed_result[i][1][1][2][3][1]\n",
    "    sliced_lis[i]['C0_LLC1_MPKI'] = sliced_preprocessed_result[i][1][0][2][4][3]\n",
    "    sliced_lis[i]['C1_LLC1_MPKI'] = sliced_preprocessed_result[i][1][1][2][4][3]\n",
    "    sliced_lis[i]['C0_L2_MPKI'] =  sliced_preprocessed_result[i][1][0][2][2][3]\n",
    "    sliced_lis[i]['C1_L2_MPKI'] =  sliced_preprocessed_result[i][1][1][2][2][3]"
   ]
  },
  {
   "cell_type": "code",
   "execution_count": 26,
   "metadata": {},
   "outputs": [],
   "source": [
    "for i in range(0,len(shared_lis)):\n",
    "    shared_lis[i]['INST'] =  shared_preprocessed_result[i][0]\n",
    "    shared_lis[i]['C0_L2_MISS'] = shared_preprocessed_result[i][1][0][2][2][2]\n",
    "    shared_lis[i]['C1_L2_MISS']=  shared_preprocessed_result[i][1][1][2][2][2]\n",
    "    shared_lis[i]['C0_L2_HIT'] =  shared_preprocessed_result[i][1][0][2][2][1]\n",
    "    shared_lis[i]['C1_L2_HIT'] =  shared_preprocessed_result[i][1][1][2][2][1]\n",
    "    shared_lis[i]['C0_LLC_MISS']= shared_preprocessed_result[i][1][0][2][3][2]\n",
    "    shared_lis[i]['C1_LLC_MISS'] =  shared_preprocessed_result[i][1][1][2][3][2]\n",
    "    shared_lis[i]['C0_LLC_HIT'] = shared_preprocessed_result[i][1][0][2][3][1]\n",
    "    shared_lis[i]['C1_LLC_HIT'] = shared_preprocessed_result[i][1][1][2][3][1]\n",
    "    shared_lis[i]['C0_IPC']=  shared_preprocessed_result[i][1][0][1]\n",
    "    shared_lis[i]['C1_IPC'] = shared_preprocessed_result[i][1][1][1]\n",
    "    shared_lis[i]['C0_MPKI']=  shared_preprocessed_result[i][1][0][0]\n",
    "    shared_lis[i]['C1_MPKI'] = shared_preprocessed_result[i][1][1][0]\n",
    "    shared_lis[i]['C0_LLC_ACCESS'] = shared_preprocessed_result[i][1][0][2][3][0]\n",
    "    shared_lis[i]['C1_LLC_ACCESS'] =  shared_preprocessed_result[i][1][1][2][3][0]\n",
    "    shared_lis[i]['C0_L2_ACCESS'] =  shared_preprocessed_result[i][1][0][2][2][0]\n",
    "    shared_lis[i]['C1_L2_ACCESS'] =  shared_preprocessed_result[i][1][1][2][2][0]\n",
    "    shared_lis[i]['C0_LLC_MPKI'] = shared_preprocessed_result[i][1][0][2][3][3]\n",
    "    shared_lis[i]['C1_LLC_MPKI'] = shared_preprocessed_result[i][1][1][2][3][3]\n",
    "    shared_lis[i]['C0_L2_MPKI'] =  shared_preprocessed_result[i][1][0][2][2][3]\n",
    "    shared_lis[i]['C1_L2_MPKI'] =  shared_preprocessed_result[i][1][1][2][2][3]"
   ]
  },
  {
   "cell_type": "code",
   "execution_count": 27,
   "metadata": {},
   "outputs": [
    {
     "data": {
      "text/plain": [
       "[{'INST': 100000000,\n",
       "  'C0_L2_MPKI': 17.2788,\n",
       "  'C1_L2_MPKI': 13.69214,\n",
       "  'C0_MPKI': 46.3177,\n",
       "  'C1_MPKI': 12.0475,\n",
       "  'C0_LLC_MISS': 1727603,\n",
       "  'C1_LLC_MISS': 1229169,\n",
       "  'C0_L2_MISS': 1727880,\n",
       "  'C1_L2_MISS': 1369214,\n",
       "  'C0_L2_HIT': 113,\n",
       "  'C1_L2_HIT': 1460388,\n",
       "  'C0_LLC_MPKI': 17.27603,\n",
       "  'C1_LLC_MPKI': 12.29169,\n",
       "  'C0_L2_ACCESS': 1727993,\n",
       "  'C1_L2_ACCESS': 2829602,\n",
       "  'C0_LLC_ACCESS': 1727881,\n",
       "  'C1_LLC_ACCESS': 2037392,\n",
       "  'C0_LLC_HIT': 278,\n",
       "  'C1_LLC_HIT': 808223,\n",
       "  'C0_IPC': 1.00461,\n",
       "  'C1_IPC': 0.35996},\n",
       " {'INST': 100000000,\n",
       "  'C0_L2_MPKI': 17.804,\n",
       "  'C1_L2_MPKI': 1.74785,\n",
       "  'C0_MPKI': 19.5668,\n",
       "  'C1_MPKI': 6.36664,\n",
       "  'C0_LLC_MISS': 1777545,\n",
       "  'C1_LLC_MISS': 150671,\n",
       "  'C0_L2_MISS': 1780400,\n",
       "  'C1_L2_MISS': 174785,\n",
       "  'C0_L2_HIT': 637518,\n",
       "  'C1_L2_HIT': 844809,\n",
       "  'C0_LLC_MPKI': 17.77545,\n",
       "  'C1_LLC_MPKI': 1.50671,\n",
       "  'C0_L2_ACCESS': 2417918,\n",
       "  'C1_L2_ACCESS': 1019594,\n",
       "  'C0_LLC_ACCESS': 1782861,\n",
       "  'C1_LLC_ACCESS': 207503,\n",
       "  'C0_LLC_HIT': 5316,\n",
       "  'C1_LLC_HIT': 56832,\n",
       "  'C0_IPC': 0.28885,\n",
       "  'C1_IPC': 0.982804},\n",
       " {'INST': 100000000,\n",
       "  'C0_L2_MPKI': 48.00137,\n",
       "  'C1_L2_MPKI': 12.28361,\n",
       "  'C0_MPKI': 2.29487,\n",
       "  'C1_MPKI': 0.00356941,\n",
       "  'C0_LLC_MISS': 4812680,\n",
       "  'C1_LLC_MISS': 769995,\n",
       "  'C0_L2_MISS': 4800137,\n",
       "  'C1_L2_MISS': 1228361,\n",
       "  'C0_L2_HIT': 589556,\n",
       "  'C1_L2_HIT': 10896533,\n",
       "  'C0_LLC_MPKI': 48.1268,\n",
       "  'C1_LLC_MPKI': 7.69995,\n",
       "  'C0_L2_ACCESS': 5389693,\n",
       "  'C1_L2_ACCESS': 12124894,\n",
       "  'C0_LLC_ACCESS': 5261118,\n",
       "  'C1_LLC_ACCESS': 1339504,\n",
       "  'C0_LLC_HIT': 448438,\n",
       "  'C1_LLC_HIT': 569509,\n",
       "  'C0_IPC': 0.109667,\n",
       "  'C1_IPC': 0.897439},\n",
       " {'INST': 300000000,\n",
       "  'C0_L2_MPKI': 58.354526666666665,\n",
       "  'C1_L2_MPKI': 1.5364566666666666,\n",
       "  'C0_MPKI': 2.91428,\n",
       "  'C1_MPKI': 3.54428,\n",
       "  'C0_LLC_MISS': 17004648,\n",
       "  'C1_LLC_MISS': 424604,\n",
       "  'C0_L2_MISS': 17506358,\n",
       "  'C1_L2_MISS': 460937,\n",
       "  'C0_L2_HIT': 1471563,\n",
       "  'C1_L2_HIT': 3182679,\n",
       "  'C0_LLC_MPKI': 56.68216,\n",
       "  'C1_LLC_MPKI': 1.4153466666666668,\n",
       "  'C0_L2_ACCESS': 18977921,\n",
       "  'C1_L2_ACCESS': 3643616,\n",
       "  'C0_LLC_ACCESS': 18654288,\n",
       "  'C1_LLC_ACCESS': 754995,\n",
       "  'C0_LLC_HIT': 1649640,\n",
       "  'C1_LLC_HIT': 330391,\n",
       "  'C0_IPC': 0.145684,\n",
       "  'C1_IPC': 1.17109},\n",
       " {'INST': 300000000,\n",
       "  'C0_L2_MPKI': 13.67599,\n",
       "  'C1_L2_MPKI': 17.803903333333334,\n",
       "  'C0_MPKI': 12.0731,\n",
       "  'C1_MPKI': 19.5731,\n",
       "  'C0_LLC_MISS': 3019081,\n",
       "  'C1_LLC_MISS': 5335174,\n",
       "  'C0_L2_MISS': 4102797,\n",
       "  'C1_L2_MISS': 5341171,\n",
       "  'C0_L2_HIT': 4408887,\n",
       "  'C1_L2_HIT': 1910337,\n",
       "  'C0_LLC_MPKI': 10.063603333333333,\n",
       "  'C1_LLC_MPKI': 17.783913333333334,\n",
       "  'C0_L2_ACCESS': 8511684,\n",
       "  'C1_L2_ACCESS': 7251508,\n",
       "  'C0_LLC_ACCESS': 6104433,\n",
       "  'C1_LLC_ACCESS': 5348746,\n",
       "  'C0_LLC_HIT': 3085352,\n",
       "  'C1_LLC_HIT': 13572,\n",
       "  'C0_IPC': 0.439032,\n",
       "  'C1_IPC': 0.187497}]"
      ]
     },
     "execution_count": 27,
     "metadata": {},
     "output_type": "execute_result"
    }
   ],
   "source": [
    "shared_lis"
   ]
  },
  {
   "cell_type": "code",
   "execution_count": 28,
   "metadata": {},
   "outputs": [
    {
     "data": {
      "image/png": "[encoded data removed]",
      "text/plain": [
       "<Figure size 432x288 with 1 Axes>"
      ]
     },
     "metadata": {
      "needs_background": "light"
     },
     "output_type": "display_data"
    }
   ],
   "source": [
    "x=[2,4,8,12,16]\n",
    "plt.title('MPKI_L1D PART 2')\n",
    "plt.plot(x,fun(sliced_lis,'C0_MPKI'), 'r' ,marker='o',label=\"malloc\")\n",
    "plt.plot(x,fun(shared_lis,'C0_MPKI'), 'b' ,marker='o',label='mmap')\n",
    "plt.grid()\n",
    "plt.legend(loc='best')\n",
    "plt.show()"
   ]
  },
  {
   "cell_type": "code",
   "execution_count": 30,
   "metadata": {},
   "outputs": [
    {
     "data": {
      "text/plain": [
       "<matplotlib.legend.Legend at 0x7fa038a8ec10>"
      ]
     },
     "execution_count": 30,
     "metadata": {},
     "output_type": "execute_result"
    },
    {
     "data": {
      "image/png": "[encoded data removed]",
      "text/plain": [
       "<Figure size 864x576 with 1 Axes>"
      ]
     },
     "metadata": {
      "needs_background": "light"
     },
     "output_type": "display_data"
    }
   ],
   "source": [
    "fig, ax = plt.subplots(figsize=(12, 8))\n",
    "x = np.arange(5)\n",
    "\n",
    "# Define bar width. We'll use this to offset the second bar.\n",
    "bar_width = 0.4\n",
    "plt.title('CPU0 IPC')\n",
    "# Note we add the `width` parameter now which sets the width of each bar.\n",
    "a = [x - 0.0 for x in fun(sliced_lis,'C0_IPC')]\n",
    "b1 = ax.bar(x, a, width=bar_width,label='sliced' )\n",
    "\n",
    "# Same thing, but offset the x by the width of the bar.\n",
    "b2 = ax.bar(x + bar_width, fun(shared_lis,'C0_IPC'), width=bar_width, label='shared')\n",
    "\n",
    "# Fix the x-axes.\n",
    "ax.set_xticks(x + bar_width / 2)\n",
    "#ax.set_xticklabels([\"mcf (mcf-wrf) \", \"mcf (mcf-cuctu)\", \"gcc(gcc-perl)\", \"bwaves(bwaves-omen)\"])\n",
    "ax.set_xticklabels(find_labels1(shared_preprocessed_files))\n",
    "# Add legend.\n",
    "ax.legend()"
   ]
  },
  {
   "cell_type": "code",
   "execution_count": 31,
   "metadata": {},
   "outputs": [
    {
     "data": {
      "text/plain": [
       "<matplotlib.legend.Legend at 0x7fa038a041f0>"
      ]
     },
     "execution_count": 31,
     "metadata": {},
     "output_type": "execute_result"
    },
    {
     "data": {
      "image/png": "[encoded data removed]",
      "text/plain": [
       "<Figure size 864x576 with 1 Axes>"
      ]
     },
     "metadata": {
      "needs_background": "light"
     },
     "output_type": "display_data"
    }
   ],
   "source": [
    "fig, ax = plt.subplots(figsize=(12, 8))\n",
    "x = np.arange(5)\n",
    "plt.title('CPU1 IPC')\n",
    "# Define bar width. We'll use this to offset the second bar.\n",
    "bar_width = 0.4\n",
    "\n",
    "# Note we add the `width` parameter now which sets the width of each bar.\n",
    "a = [x - 0.0 for x in fun(sliced_lis,'C1_IPC')]\n",
    "b1 = ax.bar(x, a, width=bar_width,label='sliced' )\n",
    "\n",
    "# Same thing, but offset the x by the width of the bar.\n",
    "b2 = ax.bar(x + bar_width, fun(shared_lis,'C1_IPC'), width=bar_width, label='shared')\n",
    "\n",
    "# Fix the x-axes.\n",
    "ax.set_xticks(x + bar_width / 2)\n",
    "#ax.set_xticklabels([\"mcf (mcf-wrf) \", \"mcf (mcf-cuctu)\", \"gcc(gcc-perl)\", \"bwaves(bwaves-omen)\"])\n",
    "ax.set_xticklabels(find_labels2(shared_preprocessed_files))\n",
    "# Add legend.\n",
    "ax.legend()"
   ]
  },
  {
   "cell_type": "code",
   "execution_count": 46,
   "metadata": {},
   "outputs": [
    {
     "data": {
      "text/plain": [
       "<matplotlib.legend.Legend at 0x7ff3f4c17940>"
      ]
     },
     "execution_count": 46,
     "metadata": {},
     "output_type": "execute_result"
    },
    {
     "data": {
      "image/png": "[encoded data removed]",
      "text/plain": [
       "<Figure size 864x576 with 1 Axes>"
      ]
     },
     "metadata": {
      "needs_background": "light"
     },
     "output_type": "display_data"
    }
   ],
   "source": [
    "fig, ax = plt.subplots(figsize=(12, 8))\n",
    "x = np.arange(5)\n",
    "\n",
    "# Define bar width. We'll use this to offset the second bar.\n",
    "bar_width = 0.4\n",
    "plt.title('CPU0 MPKI')\n",
    "# Note we add the `width` parameter now which sets the width of each bar.\n",
    "b1 = ax.bar(x, fun(sliced_lis,'C0_MPKI'), width=bar_width,label='shared' )\n",
    "# Same thing, but offset the x by the width of the bar.\n",
    "b2 = ax.bar(x + bar_width, fun(shared_lis,'C0_MPKI'), width=bar_width, label='sliced')\n",
    "\n",
    "# Fix the x-axes.\n",
    "ax.set_xticks(x + bar_width / 2)\n",
    "\n",
    "ax.set_xticklabels(find_labels1(shared_preprocessed_files))\n",
    "# Add legend.\n",
    "ax.legend()"
   ]
  },
  {
   "cell_type": "code",
   "execution_count": 28,
   "metadata": {},
   "outputs": [
    {
     "data": {
      "text/plain": [
       "<matplotlib.legend.Legend at 0x7fce81485bb0>"
      ]
     },
     "execution_count": 28,
     "metadata": {},
     "output_type": "execute_result"
    },
    {
     "data": {
      "image/png": "[encoded data removed]",
      "text/plain": [
       "<Figure size 864x576 with 1 Axes>"
      ]
     },
     "metadata": {
      "needs_background": "light"
     },
     "output_type": "display_data"
    }
   ],
   "source": [
    "fig, ax = plt.subplots(figsize=(12, 8))\n",
    "x = np.arange(5)\n",
    "\n",
    "# Define bar width. We'll use this to offset the second bar.\n",
    "bar_width = 0.4\n",
    "\n",
    "# Note we add the `width` parameter now which sets the width of each bar.\n",
    "a = [x - 0.05 for x in fun(sliced_lis,'C0_IPC')]\n",
    "b1 = ax.bar(x, fun(sliced_lis,'C0_IPC'), width=bar_width,label='sliced' )\n",
    "\n",
    "# Same thing, but offset the x by the width of the bar.\n",
    "b2 = ax.bar(x + bar_width, fun(shared_lis,'C0_IPC'), width=bar_width, label='shared')\n",
    "\n",
    "# Fix the x-axes.\n",
    "ax.set_xticks(x + bar_width / 2)\n",
    "#ax.set_xticklabels([\"mcf (mcf-wrf) \", \"mcf (mcf-cuctu)\", \"gcc(gcc-perl)\", \"bwaves(bwaves-omen)\"])\n",
    "ax.set_xticklabels(find_labels1(shared_preprocessed_files))\n",
    "# Add legend.\n",
    "ax.legend()"
   ]
  },
  {
   "cell_type": "code",
   "execution_count": 32,
   "metadata": {},
   "outputs": [
    {
     "data": {
      "text/plain": [
       "<matplotlib.legend.Legend at 0x7fa0389f8190>"
      ]
     },
     "execution_count": 32,
     "metadata": {},
     "output_type": "execute_result"
    },
    {
     "data": {
      "image/png": "[encoded data removed]",
      "text/plain": [
       "<Figure size 864x576 with 1 Axes>"
      ]
     },
     "metadata": {
      "needs_background": "light"
     },
     "output_type": "display_data"
    }
   ],
   "source": [
    "fig, ax = plt.subplots(figsize=(12, 8))\n",
    "x = np.arange(5)\n",
    "plt.title('CPU0')\n",
    "# Define bar width. We'll use this to offset the second bar.\n",
    "bar_width = 0.4\n",
    "res = [i / j for i, j in zip(add(fun(sliced_lis,'C0_LLC1_MISS') ,fun(sliced_lis,'C0_LLC1_MISS') ), fun(sliced_lis,'INST'))]\n",
    "# Note we add the `width` parameter now which sets the width of each bar.\n",
    "\n",
    "a = [x + 0.00 for x in res]\n",
    "b1 = ax.bar(x, a, width=bar_width,label='sliced' )\n",
    "# Same thing, but offset the x by the width of the bar.\n",
    "\n",
    "res = [i / j for i, j in zip(fun(shared_lis,'C0_LLC_MISS'), fun(shared_lis,'INST'))]\n",
    "#a = [x - 0.05 for x in res]\n",
    "b2 = ax.bar(x + bar_width, res, width=bar_width, label='shared')\n",
    "\n",
    "# Fix the x-axes.\n",
    "ax.set_xticks(x + bar_width / 2)\n",
    "\n",
    "ax.set_xticklabels(find_labels1(shared_preprocessed_files))\n",
    "# Add legend.\n",
    "ax.legend()"
   ]
  },
  {
   "cell_type": "code",
   "execution_count": 33,
   "metadata": {},
   "outputs": [
    {
     "data": {
      "text/plain": [
       "<matplotlib.legend.Legend at 0x7fa0389657f0>"
      ]
     },
     "execution_count": 33,
     "metadata": {},
     "output_type": "execute_result"
    },
    {
     "data": {
      "image/png": "[encoded data removed]",
      "text/plain": [
       "<Figure size 864x576 with 1 Axes>"
      ]
     },
     "metadata": {
      "needs_background": "light"
     },
     "output_type": "display_data"
    }
   ],
   "source": [
    "fig, ax = plt.subplots(figsize=(12, 8))\n",
    "x = np.arange(5)\n",
    "plt.title('CPU1')\n",
    "# Define bar width. We'll use this to offset the second bar.\n",
    "bar_width = 0.4\n",
    "res = [i / j for i, j in zip(add(fun(sliced_lis,'C1_LLC1_MISS') ,fun(sliced_lis,'C1_LLC1_MISS') ), fun(sliced_lis,'INST'))]\n",
    "# Note we add the `width` parameter now which sets the width of each bar.\n",
    "\n",
    "a = [x + 0.00 for x in res]\n",
    "b1 = ax.bar(x, a, width=bar_width,label='sliced' )\n",
    "# Same thing, but offset the x by the width of the bar.\n",
    "\n",
    "res = [i / j for i, j in zip(fun(shared_lis,'C1_LLC_MISS'), fun(shared_lis,'INST'))]\n",
    "#a = [x - 0.05 for x in res]\n",
    "b2 = ax.bar(x + bar_width, res, width=bar_width, label='shared')\n",
    "\n",
    "# Fix the x-axes.\n",
    "ax.set_xticks(x + bar_width / 2)\n",
    "\n",
    "ax.set_xticklabels(find_labels2(shared_preprocessed_files))\n",
    "# Add legend.\n",
    "ax.legend()"
   ]
  },
  {
   "cell_type": "code",
   "execution_count": 115,
   "metadata": {},
   "outputs": [
    {
     "data": {
      "text/plain": [
       "17.2788"
      ]
     },
     "execution_count": 115,
     "metadata": {},
     "output_type": "execute_result"
    }
   ],
   "source": [
    "shared_lis[0]['C0_L2_MPKI']"
   ]
  },
  {
   "cell_type": "code",
   "execution_count": 148,
   "metadata": {},
   "outputs": [],
   "source": [
    "x =\"sas_ewd\".split(\"_\")[0]"
   ]
  },
  {
   "cell_type": "code",
   "execution_count": 149,
   "metadata": {},
   "outputs": [
    {
     "data": {
      "text/plain": [
       "'sas'"
      ]
     },
     "execution_count": 149,
     "metadata": {},
     "output_type": "execute_result"
    }
   ],
   "source": [
    "x"
   ]
  },
  {
   "cell_type": "code",
   "execution_count": null,
   "metadata": {},
   "outputs": [],
   "source": []
  }
 ],
 "metadata": {
  "kernelspec": {
   "display_name": "Python 3",
   "language": "python",
   "name": "python3"
  },
  "language_info": {
   "codemirror_mode": {
    "name": "ipython",
    "version": 3
   },
   "file_extension": ".py",
   "mimetype": "text/x-python",
   "name": "python",
   "nbconvert_exporter": "python",
   "pygments_lexer": "ipython3",
   "version": "3.8.10"
  }
 },
 "nbformat": 4,
 "nbformat_minor": 5
}
