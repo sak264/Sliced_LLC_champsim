{
 "cells": [
  {
   "cell_type": "code",
   "execution_count": 2,
   "metadata": {},
   "outputs": [
    {
     "data": {
      "text/plain": [
       "'\\nUsage details:\\nStep 1: Get preprocessed data using get_data.sh script.\\n    a. Verify that all the files in a particular directory have valid content.\\n       If some file doesn\\'t have complete data then the script will output empty data.\\n    b. Run the script like \"get_data.sh file.txt num_cores is_shared\". is_shared is 1 if\\n       the results are for shared llc, 0 otherwise. This has to be done for each file.\\n       for FILE in *; do get_data.sh file.txt num_cores is_shared; done\\n    c. The above step will generate file_preprocessed.txt in a folder named \"preprocessed_results\" \\n    for different file_names. Move the results in the desired place.\\nStep 2:\\n    a. List the two data points to compare and corresponding directories.\\n    b. Get the processed_data for each file for each of the two data points.\\n       Signature : process_file(file, num_core)\\n       Data point structure:\\n       For each data point(e.g.\"shared\", \"sliced\"):\\n       [ [(sim_inst_count, cpu_data)] for each file in a data point]\\n       cpu_data structure\\n       [(global_mpki, ipc, cache_data) for each cpu]\\n       cache_data structure:\\n       [[total_access, hit, miss, mpki] for each cache] : 4x4\\n    c. Use the processed data as needed.\\n'"
      ]
     },
     "execution_count": 2,
     "metadata": {},
     "output_type": "execute_result"
    }
   ],
   "source": [
    "\"\"\"\n",
    "Usage details:\n",
    "Step 1: Get preprocessed data using get_data.sh script.\n",
    "    a. Verify that all the files in a particular directory have valid content.\n",
    "       If some file doesn't have complete data then the script will output empty data.\n",
    "    b. Run the script like \"get_data.sh file.txt num_cores is_shared\". is_shared is 1 if\n",
    "       the results are for shared llc, 0 otherwise. This has to be done for each file.\n",
    "       for FILE in *; do get_data.sh file.txt num_cores is_shared; done\n",
    "    c. The above step will generate file_preprocessed.txt in a folder named \"preprocessed_results\" \n",
    "    for different file_names. Move the results in the desired place.\n",
    "Step 2:\n",
    "    a. List the two data points to compare and corresponding directories.\n",
    "    b. Get the processed_data for each file for each of the two data points.\n",
    "       Signature : process_file(file, num_core)\n",
    "       Data point structure:\n",
    "       For each data point(e.g.\"shared\", \"sliced\"):\n",
    "       [ [(sim_inst_count, cpu_data)] for each file in a data point]\n",
    "       cpu_data structure\n",
    "       [(global_mpki, ipc, cache_data) for each cpu]\n",
    "       cache_data structure:\n",
    "       [[total_access, hit, miss, mpki] for each cache] : 4x4\n",
    "    c. Use the processed data as needed.\n",
    "\"\"\""
   ]
  },
  {
   "cell_type": "code",
   "execution_count": 3,
   "metadata": {},
   "outputs": [],
   "source": [
    "import matplotlib.pyplot as plt"
   ]
  },
  {
   "cell_type": "code",
   "execution_count": 4,
   "metadata": {},
   "outputs": [],
   "source": [
    "import os"
   ]
  },
  {
   "cell_type": "code",
   "execution_count": 5,
   "metadata": {},
   "outputs": [
    {
     "data": {
      "text/plain": [
       "['preprocess_result_sliced',\n",
       " 'preprocess_result_shared',\n",
       " '.ipynb_checkpoints',\n",
       " 'plot_results.ipynb']"
      ]
     },
     "execution_count": 5,
     "metadata": {},
     "output_type": "execute_result"
    }
   ],
   "source": [
    "os.listdir()"
   ]
  },
  {
   "cell_type": "code",
   "execution_count": 6,
   "metadata": {},
   "outputs": [
    {
     "ename": "ModuleNotFoundError",
     "evalue": "No module named 'process_data'",
     "output_type": "error",
     "traceback": [
      "\u001b[0;31m---------------------------------------------------------------------------\u001b[0m",
      "\u001b[0;31mModuleNotFoundError\u001b[0m                       Traceback (most recent call last)",
      "\u001b[0;32m<ipython-input-6-b55ffc0b7473>\u001b[0m in \u001b[0;36m<module>\u001b[0;34m\u001b[0m\n\u001b[0;32m----> 1\u001b[0;31m \u001b[0;32mfrom\u001b[0m \u001b[0mprocess_data\u001b[0m \u001b[0;32mimport\u001b[0m \u001b[0mprocess_file\u001b[0m\u001b[0;34m\u001b[0m\u001b[0;34m\u001b[0m\u001b[0m\n\u001b[0m",
      "\u001b[0;31mModuleNotFoundError\u001b[0m: No module named 'process_data'"
     ]
    }
   ],
   "source": [
    "from process_data import process_file"
   ]
  },
  {
   "cell_type": "code",
   "execution_count": 1,
   "metadata": {},
   "outputs": [
    {
     "ename": "NameError",
     "evalue": "name 'os' is not defined",
     "output_type": "error",
     "traceback": [
      "\u001b[0;31m---------------------------------------------------------------------------\u001b[0m",
      "\u001b[0;31mNameError\u001b[0m                                 Traceback (most recent call last)",
      "\u001b[0;32m<ipython-input-1-ee698df61c3c>\u001b[0m in \u001b[0;36m<module>\u001b[0;34m\u001b[0m\n\u001b[1;32m      9\u001b[0m \"\"\" \n\u001b[1;32m     10\u001b[0m \u001b[0;34m\u001b[0m\u001b[0m\n\u001b[0;32m---> 11\u001b[0;31m \u001b[0mshared_preprocessed_files\u001b[0m \u001b[0;34m=\u001b[0m \u001b[0mos\u001b[0m\u001b[0;34m.\u001b[0m\u001b[0mlistdir\u001b[0m\u001b[0;34m(\u001b[0m\u001b[0mshared_dir\u001b[0m\u001b[0;34m)\u001b[0m\u001b[0;34m\u001b[0m\u001b[0;34m\u001b[0m\u001b[0m\n\u001b[0m\u001b[1;32m     12\u001b[0m \u001b[0;34m\u001b[0m\u001b[0m\n\u001b[1;32m     13\u001b[0m \u001b[0msliced_preprocessed_files\u001b[0m \u001b[0;34m=\u001b[0m \u001b[0mos\u001b[0m\u001b[0;34m.\u001b[0m\u001b[0mlistdir\u001b[0m\u001b[0;34m(\u001b[0m\u001b[0msliced_dir\u001b[0m\u001b[0;34m)\u001b[0m\u001b[0;34m\u001b[0m\u001b[0;34m\u001b[0m\u001b[0m\n",
      "\u001b[0;31mNameError\u001b[0m: name 'os' is not defined"
     ]
    }
   ],
   "source": [
    "shared_dir = \"preprocess_result_shared\"\n",
    "sliced_dir = \"preprocess_result_sliced\"\n",
    "\n",
    "\"\"\"\n",
    "The processed files must be defined manually like :\n",
    "shared_preprocessed_files = [\"file1.txt\", \"file2.txt\", ...].\n",
    "\n",
    "The result will be in the same order as the files.\n",
    "\"\"\" \n",
    "\n",
    "shared_preprocessed_files = os.listdir(shared_dir)\n",
    "\n",
    "sliced_preprocessed_files = os.listdir(sliced_dir)"
   ]
  },
  {
   "cell_type": "code",
   "execution_count": 6,
   "metadata": {},
   "outputs": [
    {
     "data": {
      "text/plain": [
       "[(500000000,\n",
       "  [(6.03454,\n",
       "    1.30925,\n",
       "    [[165487782, 164673047, 814735, 1.62947],\n",
       "     [27810217, 26667057, 1143160, 2.28632],\n",
       "     [2161914, 1719056, 442858, 0.885716],\n",
       "     [525343, 174245, 351098, 0.702196]]),\n",
       "   (6.026,\n",
       "    1.30564,\n",
       "    [[165423878, 164609077, 814801, 1.629602],\n",
       "     [26923828, 25780460, 1143368, 2.286736],\n",
       "     [2162316, 1715215, 447101, 0.894202],\n",
       "     [530171, 179416, 350755, 0.70151]])]),\n",
       " (500000000,\n",
       "  [(11.9969,\n",
       "    0.40413,\n",
       "    [[180626552, 171231336, 9395216, 18.790432],\n",
       "     [47124582, 46866167, 258415, 0.51683],\n",
       "     [14222144, 7359219, 6862925, 13.72585],\n",
       "     [10213032, 4983733, 5229299, 10.458598]]),\n",
       "   (11.9962,\n",
       "    0.403554,\n",
       "    [[180076513, 170681272, 9395241, 18.790482],\n",
       "     [47021422, 46762782, 258640, 0.51728],\n",
       "     [14221197, 7358164, 6863033, 13.726066],\n",
       "     [10213718, 4987456, 5226262, 10.452524]])]),\n",
       " (500000000,\n",
       "  [(4.53599,\n",
       "    0.882022,\n",
       "    [[115804986, 109935115, 5869871, 11.739742],\n",
       "     [23105180, 22559871, 545309, 1.090618],\n",
       "     [9586057, 7275100, 2310957, 4.621914],\n",
       "     [3533263, 1768824, 1764439, 3.528878]]),\n",
       "   (4.56205,\n",
       "    0.877512,\n",
       "    [[115347849, 109477996, 5869853, 11.739706],\n",
       "     [23115218, 22571049, 544169, 1.088338],\n",
       "     [9585062, 7271489, 2313573, 4.627146],\n",
       "     [3539185, 1771200, 1767985, 3.53597]])]),\n",
       " (500000000,\n",
       "  [(0.00357562,\n",
       "    0.676129,\n",
       "    [[140230627, 83147323, 57083304, 114.166608],\n",
       "     [50461603, 50461603, 0, 0.0],\n",
       "     [60280777, 54010470, 6270307, 12.540614],\n",
       "     [6847116, 2998309, 3848807, 7.697614]]),\n",
       "   (0.003576,\n",
       "    0.676104,\n",
       "    [[139975361, 82756205, 57219156, 114.438312],\n",
       "     [50486555, 50486555, 0, 0.0],\n",
       "     [60531657, 54179862, 6351795, 12.70359],\n",
       "     [6931137, 3082502, 3848635, 7.69727]])]),\n",
       " (500000000,\n",
       "  [(19.5772,\n",
       "    0.215986,\n",
       "    [[112995605, 100869029, 12126576, 24.253152],\n",
       "     [0, 0, 0, 0],\n",
       "     [12158317, 3212554, 8945763, 17.891526],\n",
       "     [8958291, 49944, 8908347, 17.816694]]),\n",
       "   (19.5772,\n",
       "    0.216075,\n",
       "    [[110955705, 98829069, 12126636, 24.253272],\n",
       "     [0, 0, 0, 0],\n",
       "     [12158377, 3213069, 8945308, 17.890616],\n",
       "     [8957834, 49511, 8908323, 17.816646]])])]"
      ]
     },
     "execution_count": 6,
     "metadata": {},
     "output_type": "execute_result"
    }
   ],
   "source": [
    "shared_preprocessed_result = []\n",
    "for file in shared_preprocessed_files:\n",
    "    file_path = os.path.join(shared_dir, file)\n",
    "    sim_inst_count, cpu_data = process_file(file_path, 2)\n",
    "    shared_preprocessed_result.append((sim_inst_count, cpu_data))\n",
    "shared_preprocessed_result"
   ]
  },
  {
   "cell_type": "code",
   "execution_count": 7,
   "metadata": {},
   "outputs": [
    {
     "data": {
      "text/plain": [
       "[(500000000,\n",
       "  [(12.6128,\n",
       "    0.416195,\n",
       "    [[115929574, 107743147, 8186427, 16.372854],\n",
       "     [173030, 173030, 0, 0.0],\n",
       "     [8276530, 4194999, 4081531, 8.163062],\n",
       "     [2062323, 23278, 2039045, 4.07809]]),\n",
       "   (12.613,\n",
       "    0.41303,\n",
       "    [[115907021, 107720592, 8186429, 16.372858],\n",
       "     [171793, 171793, 0, 0.0],\n",
       "     [8276534, 4195633, 4080901, 8.161802],\n",
       "     [2064604, 23806, 2040798, 4.081596]])]),\n",
       " (500000000,\n",
       "  [(4.5334,\n",
       "    0.827493,\n",
       "    [[115740687, 109870867, 5869820, 11.73964],\n",
       "     [23104799, 22559459, 545340, 1.09068],\n",
       "     [9585876, 7246024, 2339852, 4.679704],\n",
       "     [1764163, 698550, 1065613, 2.131226]]),\n",
       "   (4.56204,\n",
       "    0.820844,\n",
       "    [[114143108, 108273562, 5869546, 11.739092],\n",
       "     [23170859, 22624384, 546475, 1.09295],\n",
       "     [9586480, 7283011, 2303469, 4.606938],\n",
       "     [1763264, 697927, 1065337, 2.130674]])]),\n",
       " (500000000,\n",
       "  [(6.07549,\n",
       "    1.29678,\n",
       "    [[165483838, 164669045, 814793, 1.629586],\n",
       "     [27810346, 26666793, 1143553, 2.287106],\n",
       "     [2162375, 1717326, 445049, 0.890098],\n",
       "     [264668, 69718, 194950, 0.3899]]),\n",
       "   (6.02359,\n",
       "    1.28126,\n",
       "    [[164800036, 163985827, 814209, 1.628418],\n",
       "     [26990934, 25847810, 1143124, 2.286248],\n",
       "     [2161304, 1712630, 448674, 0.897348],\n",
       "     [267173, 71216, 195957, 0.391914]])]),\n",
       " (500000000,\n",
       "  [(0.00357478,\n",
       "    0.715133,\n",
       "    [[140230102, 83134394, 57095708, 114.191416],\n",
       "     [50454530, 50454530, 0, 0.0],\n",
       "     [60293389, 53988973, 6304416, 12.608832],\n",
       "     [3471927, 1457184, 2014743, 4.029486]]),\n",
       "   (0.00356202,\n",
       "    0.714145,\n",
       "    [[139098134, 82025005, 57073129, 114.146258],\n",
       "     [50338366, 50338366, 0, 0.0],\n",
       "     [60328481, 53966249, 6362232, 12.724464],\n",
       "     [3464935, 1449390, 2015545, 4.03109]])])]"
      ]
     },
     "execution_count": 7,
     "metadata": {},
     "output_type": "execute_result"
    }
   ],
   "source": [
    "sliced_preprocessed_result = []\n",
    "for file in sliced_preprocessed_files:\n",
    "    file_path = os.path.join(sliced_dir, file)\n",
    "    sim_inst_count, cpu_data = process_file(file_path, 2)\n",
    "    sliced_preprocessed_result.append((sim_inst_count, cpu_data))\n",
    "sliced_preprocessed_result"
   ]
  },
  {
   "cell_type": "code",
   "execution_count": 24,
   "metadata": {},
   "outputs": [],
   "source": [
    "sliced = {'INST': 0}\n",
    "shared = {'INST' : 0}"
   ]
  },
  {
   "cell_type": "code",
   "execution_count": 25,
   "metadata": {},
   "outputs": [],
   "source": [
    "sliced_fields = {'MPKI','L2_ACCESS', 'L2_MISS', 'L2_HIT', 'LLC0_ACCESS', 'LLC0_MISS','LLC0_HIT' , 'LLC1_ACCESS', 'LLC1_MISS','LLC1_HIT'  }\n",
    "shared_fields = {'MPKI','L2_ACCESS', 'L2_MISS', 'L2_HIT', 'LLC_ACCESS', 'LLC_MISS','LLC_HIT'  }"
   ]
  },
  {
   "cell_type": "code",
   "execution_count": 26,
   "metadata": {},
   "outputs": [
    {
     "data": {
      "text/plain": [
       "500000000"
      ]
     },
     "execution_count": 26,
     "metadata": {},
     "output_type": "execute_result"
    }
   ],
   "source": [
    "sliced_preprocessed_result[0][0]"
   ]
  },
  {
   "cell_type": "code",
   "execution_count": 27,
   "metadata": {},
   "outputs": [],
   "source": [
    "for i in sliced_fields:\n",
    "    \n",
    "    sliced['C0_'+i] = 0\n",
    "    sliced['C1_'+i] = 0\n",
    "    \n",
    "for i in shared_fields:\n",
    "    \n",
    "    shared['C0_'+i] = 0\n",
    "    shared['C1_'+i] = 0"
   ]
  },
  {
   "cell_type": "code",
   "execution_count": 28,
   "metadata": {},
   "outputs": [],
   "source": [
    "def fun(dic, label):\n",
    "    temp = []\n",
    "    \n",
    "    for i in range(len(dic)):\n",
    "        temp.append(dic[i][label])\n",
    "        \n",
    "    return temp"
   ]
  },
  {
   "cell_type": "code",
   "execution_count": 29,
   "metadata": {},
   "outputs": [
    {
     "data": {
      "text/plain": [
       "4"
      ]
     },
     "execution_count": 29,
     "metadata": {},
     "output_type": "execute_result"
    }
   ],
   "source": [
    "len(sliced_preprocessed_result)"
   ]
  },
  {
   "cell_type": "code",
   "execution_count": 30,
   "metadata": {},
   "outputs": [],
   "source": [
    "sliced_lis = []\n",
    "shared_lis = []\n",
    "for i in range(0,len(sliced_preprocessed_result)):\n",
    "    temp1 = sliced.copy()\n",
    "    temp2 = shared.copy()\n",
    "    sliced_lis.append(temp1)\n",
    "    shared_lis.append(temp2)"
   ]
  },
  {
   "cell_type": "code",
   "execution_count": 31,
   "metadata": {},
   "outputs": [],
   "source": [
    "for i in range(0,len(sliced_lis)):\n",
    "    sliced_lis[i]['INST'] =  sliced_preprocessed_result[i][0]\n",
    "    sliced_lis[i]['C0_L2_MISS'] = sliced_preprocessed_result[i][1][0][2][2][2]\n",
    "    sliced_lis[i]['C1_L2_MISS']=  sliced_preprocessed_result[i][1][1][2][2][2]\n",
    "    sliced_lis[i]['C0_L2_HIT'] =  sliced_preprocessed_result[i][1][0][2][2][1]\n",
    "    sliced_lis[i]['C1_L2_HIT'] =  sliced_preprocessed_result[i][1][1][2][2][1]\n",
    "    sliced_lis[i]['C0_LLC1_MISS']= sliced_preprocessed_result[i][1][0][2][3][2]\n",
    "    sliced_lis[i]['C1_LLC1_MISS'] =  sliced_preprocessed_result[i][1][1][2][3][2]\n",
    "    sliced_lis[i]['C0_LLC0_ACCESS'] = 0\n",
    "    sliced_lis[i]['C1_LLC0_ACCESS'] = 0\n",
    "    sliced_lis[i]['C0_LLC1_HIT'] = sliced_preprocessed_result[i][1][0][2][3][1]\n",
    "    sliced_lis[i]['C1_LLC1_HIT'] = sliced_preprocessed_result[i][1][1][2][3][1]\n",
    "    sliced_lis[i]['C0_MPKI']=  sliced_preprocessed_result[i][1][0][1]\n",
    "    sliced_lis[i]['C1_MPKI'] = sliced_preprocessed_result[i][1][1][1]\n",
    "    sliced_lis[i]['C0_LLC0_MISS'] = 0,\n",
    "    sliced_lis[i]['C1_LLC0_MISS'] = 0,\n",
    "    sliced_lis[i]['C0_LLC1_ACCESS'] = sliced_preprocessed_result[i][1][0][2][3][0]\n",
    "    sliced_lis[i]['C1_LLC1_ACCESS'] =  sliced_preprocessed_result[i][1][1][2][3][0]\n",
    "    sliced_lis[i]['C0_L2_ACCESS'] =  sliced_preprocessed_result[i][1][0][2][2][0]\n",
    "    sliced_lis[i]['C1_L2_ACCESS'] =  sliced_preprocessed_result[i][1][1][2][2][0]\n",
    "    sliced_lis[i]['C0_LLC0_HIT']  = 0,\n",
    "    sliced_lis[i]['C1_LLC0_HIT']  = 0"
   ]
  },
  {
   "cell_type": "code",
   "execution_count": 32,
   "metadata": {},
   "outputs": [],
   "source": [
    "for i in range(0,len(shared_lis)):\n",
    "    shared_lis[i]['INST'] =  shared_preprocessed_result[i][0]\n",
    "    shared_lis[i]['C0_L2_MISS'] = shared_preprocessed_result[i][1][0][2][2][2]\n",
    "    shared_lis[i]['C1_L2_MISS']=  shared_preprocessed_result[i][1][1][2][2][2]\n",
    "    shared_lis[i]['C0_L2_HIT'] =  shared_preprocessed_result[i][1][0][2][2][1]\n",
    "    shared_lis[i]['C1_L2_HIT'] =  shared_preprocessed_result[i][1][1][2][2][1]\n",
    "    shared_lis[i]['C0_LLC_MISS']= shared_preprocessed_result[i][1][0][2][3][2]\n",
    "    shared_lis[i]['C1_LLC_MISS'] =  shared_preprocessed_result[i][1][1][2][3][2]\n",
    "    shared_lis[i]['C0_LLC_HIT'] = shared_preprocessed_result[i][1][0][2][3][1]\n",
    "    shared_lis[i]['C1_LLC_HIT'] = shared_preprocessed_result[i][1][1][2][3][1]\n",
    "    shared_lis[i]['C0_MPKI']=  shared_preprocessed_result[i][1][0][1]\n",
    "    shared_lis[i]['C1_MPKI'] = shared_preprocessed_result[i][1][1][1]\n",
    "    shared_lis[i]['C0_LLC_ACCESS'] = shared_preprocessed_result[i][1][0][2][3][0]\n",
    "    shared_lis[i]['C1_LLC_ACCESS'] =  shared_preprocessed_result[i][1][1][2][3][0]\n",
    "    shared_lis[i]['C0_L2_ACCESS'] =  shared_preprocessed_result[i][1][0][2][2][0]\n",
    "    shared_lis[i]['C1_L2_ACCESS'] =  shared_preprocessed_result[i][1][1][2][2][0]"
   ]
  },
  {
   "cell_type": "code",
   "execution_count": 33,
   "metadata": {},
   "outputs": [
    {
     "data": {
      "text/plain": [
       "[{'INST': 500000000,\n",
       "  'C0_L2_HIT': 1719056,\n",
       "  'C1_L2_HIT': 1715215,\n",
       "  'C0_L2_ACCESS': 2161914,\n",
       "  'C1_L2_ACCESS': 2162316,\n",
       "  'C0_LLC_MISS': 351098,\n",
       "  'C1_LLC_MISS': 350755,\n",
       "  'C0_LLC_HIT': 174245,\n",
       "  'C1_LLC_HIT': 179416,\n",
       "  'C0_LLC_ACCESS': 525343,\n",
       "  'C1_LLC_ACCESS': 530171,\n",
       "  'C0_MPKI': 1.30925,\n",
       "  'C1_MPKI': 1.30564,\n",
       "  'C0_L2_MISS': 442858,\n",
       "  'C1_L2_MISS': 447101},\n",
       " {'INST': 500000000,\n",
       "  'C0_L2_HIT': 7359219,\n",
       "  'C1_L2_HIT': 7358164,\n",
       "  'C0_L2_ACCESS': 14222144,\n",
       "  'C1_L2_ACCESS': 14221197,\n",
       "  'C0_LLC_MISS': 5229299,\n",
       "  'C1_LLC_MISS': 5226262,\n",
       "  'C0_LLC_HIT': 4983733,\n",
       "  'C1_LLC_HIT': 4987456,\n",
       "  'C0_LLC_ACCESS': 10213032,\n",
       "  'C1_LLC_ACCESS': 10213718,\n",
       "  'C0_MPKI': 0.40413,\n",
       "  'C1_MPKI': 0.403554,\n",
       "  'C0_L2_MISS': 6862925,\n",
       "  'C1_L2_MISS': 6863033},\n",
       " {'INST': 500000000,\n",
       "  'C0_L2_HIT': 7275100,\n",
       "  'C1_L2_HIT': 7271489,\n",
       "  'C0_L2_ACCESS': 9586057,\n",
       "  'C1_L2_ACCESS': 9585062,\n",
       "  'C0_LLC_MISS': 1764439,\n",
       "  'C1_LLC_MISS': 1767985,\n",
       "  'C0_LLC_HIT': 1768824,\n",
       "  'C1_LLC_HIT': 1771200,\n",
       "  'C0_LLC_ACCESS': 3533263,\n",
       "  'C1_LLC_ACCESS': 3539185,\n",
       "  'C0_MPKI': 0.882022,\n",
       "  'C1_MPKI': 0.877512,\n",
       "  'C0_L2_MISS': 2310957,\n",
       "  'C1_L2_MISS': 2313573},\n",
       " {'INST': 500000000,\n",
       "  'C0_L2_HIT': 54010470,\n",
       "  'C1_L2_HIT': 54179862,\n",
       "  'C0_L2_ACCESS': 60280777,\n",
       "  'C1_L2_ACCESS': 60531657,\n",
       "  'C0_LLC_MISS': 3848807,\n",
       "  'C1_LLC_MISS': 3848635,\n",
       "  'C0_LLC_HIT': 2998309,\n",
       "  'C1_LLC_HIT': 3082502,\n",
       "  'C0_LLC_ACCESS': 6847116,\n",
       "  'C1_LLC_ACCESS': 6931137,\n",
       "  'C0_MPKI': 0.676129,\n",
       "  'C1_MPKI': 0.676104,\n",
       "  'C0_L2_MISS': 6270307,\n",
       "  'C1_L2_MISS': 6351795}]"
      ]
     },
     "execution_count": 33,
     "metadata": {},
     "output_type": "execute_result"
    }
   ],
   "source": [
    "shared_lis"
   ]
  },
  {
   "cell_type": "code",
   "execution_count": 34,
   "metadata": {},
   "outputs": [
    {
     "data": {
      "image/png": "[encoded data removed]",
      "text/plain": [
       "<Figure size 432x288 with 1 Axes>"
      ]
     },
     "metadata": {
      "needs_background": "light"
     },
     "output_type": "display_data"
    }
   ],
   "source": [
    "x=[2,4,8,12]\n",
    "plt.title('MPKI_L1D PART 2')\n",
    "plt.plot(x,fun(sliced_lis,'C0_MPKI'), 'r' ,marker='o',label=\"malloc\")\n",
    "plt.plot(x,fun(shared_lis,'C0_MPKI'), 'b' ,marker='o',label='mmap')\n",
    "plt.grid()\n",
    "plt.legend(loc='best')\n",
    "plt.show()"
   ]
  },
  {
   "cell_type": "code",
   "execution_count": null,
   "metadata": {},
   "outputs": [],
   "source": []
  }
 ],
 "metadata": {
  "kernelspec": {
   "display_name": "Python 3",
   "language": "python",
   "name": "python3"
  },
  "language_info": {
   "codemirror_mode": {
    "name": "ipython",
    "version": 3
   },
   "file_extension": ".py",
   "mimetype": "text/x-python",
   "name": "python",
   "nbconvert_exporter": "python",
   "pygments_lexer": "ipython3",
   "version": "3.8.10"
  }
 },
 "nbformat": 4,
 "nbformat_minor": 5
}
