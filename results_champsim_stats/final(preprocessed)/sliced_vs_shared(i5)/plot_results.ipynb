{
 "cells": [
  {
   "cell_type": "code",
   "execution_count": 1,
   "metadata": {},
   "outputs": [
    {
     "data": {
      "text/plain": [
       "'\\nUsage details:\\nStep 1: Get preprocessed data using get_data.sh script.\\n    a. Verify that all the files in a particular directory have valid content.\\n       If some file doesn\\'t have complete data then the script will output empty data.\\n    b. Run the script like \"get_data.sh file.txt num_cores is_shared\". is_shared is 1 if\\n       the results are for shared llc, 0 otherwise. This has to be done for each file.\\n       for FILE in *; do get_data.sh file.txt num_cores is_shared; done\\n    c. The above step will generate file_preprocessed.txt in a folder named \"preprocessed_results\" \\n    for different file_names. Move the results in the desired place.\\nStep 2:\\n    a. List the two data points to compare and corresponding directories.\\n    b. Get the processed_data for each file for each of the two data points.\\n       Signature : process_file(file, num_core)\\n       Data point structure:\\n       For each data point(e.g.\"shared\", \"sliced\"):\\n       [ [(sim_inst_count, cpu_data)] for each file in a data point]\\n       cpu_data structure\\n       [(global_mpki, ipc, cache_data) for each cpu]\\n       cache_data structure:\\n       [[total_access, hit, miss, mpki] for each cache] : 4x4\\n    c. Use the processed data as needed.\\n'"
      ]
     },
     "execution_count": 1,
     "metadata": {},
     "output_type": "execute_result"
    }
   ],
   "source": [
    "\"\"\"\n",
    "Usage details:\n",
    "Step 1: Get preprocessed data using get_data.sh script.\n",
    "    a. Verify that all the files in a particular directory have valid content.\n",
    "       If some file doesn't have complete data then the script will output empty data.\n",
    "    b. Run the script like \"get_data.sh file.txt num_cores is_shared\". is_shared is 1 if\n",
    "       the results are for shared llc, 0 otherwise. This has to be done for each file.\n",
    "       for FILE in *; do get_data.sh file.txt num_cores is_shared; done\n",
    "    c. The above step will generate file_preprocessed.txt in a folder named \"preprocessed_results\" \n",
    "    for different file_names. Move the results in the desired place.\n",
    "Step 2:\n",
    "    a. List the two data points to compare and corresponding directories.\n",
    "    b. Get the processed_data for each file for each of the two data points.\n",
    "       Signature : process_file(file, num_core)\n",
    "       Data point structure:\n",
    "       For each data point(e.g.\"shared\", \"sliced\"):\n",
    "       [ [(sim_inst_count, cpu_data)] for each file in a data point]\n",
    "       cpu_data structure\n",
    "       [(global_mpki, ipc, cache_data) for each cpu]\n",
    "       cache_data structure:\n",
    "       [[total_access, hit, miss, mpki] for each cache] : 4x4\n",
    "    c. Use the processed data as needed.\n",
    "\"\"\""
   ]
  },
  {
   "cell_type": "code",
   "execution_count": 2,
   "metadata": {},
   "outputs": [],
   "source": [
    "def add(l1,l2):\n",
    "    temp = []\n",
    "    for i in range(0,len(l1)):\n",
    "        temp.append(l1[i]+l2[i])\n",
    "    return temp"
   ]
  },
  {
   "cell_type": "code",
   "execution_count": 3,
   "metadata": {},
   "outputs": [],
   "source": [
    "def find_labels1(x):\n",
    "    temp = []\n",
    "    for i in range(len(x)):\n",
    "        a = x[i].split('_')[0]\n",
    "        temp.append(a.split('-')[0] + '(' +  a + ')')\n",
    "        \n",
    "    return temp"
   ]
  },
  {
   "cell_type": "code",
   "execution_count": 4,
   "metadata": {},
   "outputs": [],
   "source": [
    "def find_labels2(x):\n",
    "    \n",
    "    temp = [] \n",
    "    for i in range(len(x)):\n",
    "        a = x[i].split('_')[0]\n",
    "        temp.append(a.split('-')[1] + '(' +  a + ')')\n",
    "        \n",
    "    return temp"
   ]
  },
  {
   "cell_type": "code",
   "execution_count": 5,
   "metadata": {},
   "outputs": [],
   "source": [
    "import numpy as np"
   ]
  },
  {
   "cell_type": "code",
   "execution_count": 6,
   "metadata": {},
   "outputs": [],
   "source": [
    "import matplotlib.pyplot as plt"
   ]
  },
  {
   "cell_type": "code",
   "execution_count": 7,
   "metadata": {},
   "outputs": [],
   "source": [
    "import os"
   ]
  },
  {
   "cell_type": "code",
   "execution_count": 8,
   "metadata": {},
   "outputs": [
    {
     "data": {
      "text/plain": [
       "['preprocess_result_sliced',\n",
       " 'preprocess_result_shared',\n",
       " 'process_data2.py',\n",
       " '.ipynb_checkpoints',\n",
       " 'plot_results.ipynb',\n",
       " 'process_data1.py']"
      ]
     },
     "execution_count": 8,
     "metadata": {},
     "output_type": "execute_result"
    }
   ],
   "source": [
    "os.listdir()"
   ]
  },
  {
   "cell_type": "code",
   "execution_count": 9,
   "metadata": {},
   "outputs": [],
   "source": [
    "from process_data2 import process_file2\n",
    "from process_data1 import process_file1\n"
   ]
  },
  {
   "cell_type": "code",
   "execution_count": 10,
   "metadata": {},
   "outputs": [],
   "source": [
    "shared_dir = \"preprocess_result_shared\"\n",
    "sliced_dir = \"preprocess_result_sliced\"\n",
    "\n",
    "\"\"\"\n",
    "The processed files must be defined manually like :\n",
    "shared_preprocessed_files = [\"file1.txt\", \"file2.txt\", ...].\n",
    "\n",
    "The result will be in the same order as the files.\n",
    "\"\"\" \n",
    "\n",
    "shared_preprocessed_files = os.listdir(shared_dir)\n",
    "\n",
    "sliced_preprocessed_files = os.listdir(sliced_dir)"
   ]
  },
  {
   "cell_type": "code",
   "execution_count": 11,
   "metadata": {},
   "outputs": [],
   "source": [
    "shared_preprocessed_files.sort()"
   ]
  },
  {
   "cell_type": "code",
   "execution_count": 12,
   "metadata": {},
   "outputs": [
    {
     "data": {
      "text/plain": [
       "['bwaves-omen_shared_preprocessed.txt',\n",
       " 'gcc-perl_shared_preprocessed.txt',\n",
       " 'mcf-cactu_shared_preprocessed.txt']"
      ]
     },
     "execution_count": 12,
     "metadata": {},
     "output_type": "execute_result"
    }
   ],
   "source": [
    "shared_preprocessed_files"
   ]
  },
  {
   "cell_type": "code",
   "execution_count": 13,
   "metadata": {},
   "outputs": [],
   "source": [
    "sliced_preprocessed_files.sort()"
   ]
  },
  {
   "cell_type": "code",
   "execution_count": 14,
   "metadata": {},
   "outputs": [
    {
     "data": {
      "text/plain": [
       "['bwaves-omen_i5_preprocessed.txt',\n",
       " 'gcc-perl_i5_preprocessed.txt',\n",
       " 'mcf-cactu_i5_preprocessed.txt']"
      ]
     },
     "execution_count": 14,
     "metadata": {},
     "output_type": "execute_result"
    }
   ],
   "source": [
    "sliced_preprocessed_files"
   ]
  },
  {
   "cell_type": "code",
   "execution_count": 15,
   "metadata": {},
   "outputs": [
    {
     "data": {
      "text/plain": [
       "[(100000000,\n",
       "  [(46.3177,\n",
       "    1.00461,\n",
       "    [[6489066, 4761084, 1727982, 17.27982],\n",
       "     [12, 5, 7, 7e-05],\n",
       "     [1727993, 113, 1727880, 17.2788],\n",
       "     [1727881, 278, 1727603, 17.27603]]),\n",
       "   (12.0475,\n",
       "    0.35996,\n",
       "    [[35951882, 34081234, 1870648, 18.70648],\n",
       "     [9405691, 9355523, 50168, 0.50168],\n",
       "     [2829602, 1460388, 1369214, 13.69214],\n",
       "     [2037392, 808223, 1229169, 12.29169]])]),\n",
       " (100000000,\n",
       "  [(19.5668,\n",
       "    0.28885,\n",
       "    [[22591323, 20179734, 2411589, 24.11589],\n",
       "     [0, 0, 0, 0],\n",
       "     [2417918, 637518, 1780400, 17.804],\n",
       "     [1782861, 5316, 1777545, 17.77545]]),\n",
       "   (6.36664,\n",
       "    0.982804,\n",
       "    [[32406518, 32033780, 372738, 3.72738],\n",
       "     [7883897, 7330824, 553073, 5.53073],\n",
       "     [1019594, 844809, 174785, 1.74785],\n",
       "     [207503, 56832, 150671, 1.50671]])]),\n",
       " (100000000,\n",
       "  [(2.29487,\n",
       "    0.109667,\n",
       "    [[46680031, 41807812, 4872219, 48.72219],\n",
       "     [6748169, 6748169, 0, 0.0],\n",
       "     [5389693, 589556, 4800137, 48.00137],\n",
       "     [5261118, 448438, 4812680, 48.1268]]),\n",
       "   (0.00356941,\n",
       "    0.897439,\n",
       "    [[28006921, 16552817, 11454104, 114.54104],\n",
       "     [10091014, 10091014, 0, 0.0],\n",
       "     [12124894, 10896533, 1228361, 12.28361],\n",
       "     [1339504, 569509, 769995, 7.69995]])])]"
      ]
     },
     "execution_count": 15,
     "metadata": {},
     "output_type": "execute_result"
    }
   ],
   "source": [
    "shared_preprocessed_result = []\n",
    "for file in shared_preprocessed_files:\n",
    "    file_path = os.path.join(shared_dir, file)\n",
    "    sim_inst_count, cpu_data = process_file2(file_path, 2)\n",
    "    shared_preprocessed_result.append((sim_inst_count, cpu_data))\n",
    "shared_preprocessed_result"
   ]
  },
  {
   "cell_type": "code",
   "execution_count": 16,
   "metadata": {},
   "outputs": [
    {
     "name": "stdout",
     "output_type": "stream",
     "text": [
      "46.295\n",
      "12.0475\n",
      "19.5715\n",
      "6.39783\n",
      "2.29487\n",
      "0.00356529\n"
     ]
    },
    {
     "data": {
      "text/plain": [
       "[(100000000,\n",
       "  [(46.295,\n",
       "    0.990625,\n",
       "    [[6491000, 4763024, 1727976, 17.27976],\n",
       "     [10, 3, 7, 7e-05],\n",
       "     [1727987, 110, 1727877, 17.27877],\n",
       "     [867442, 116, 867326, 8.67326],\n",
       "     [860436, 164, 860272, 8.60272]]),\n",
       "   (12.0475,\n",
       "    0.351368,\n",
       "    [[35782979, 33912344, 1870635, 18.70635],\n",
       "     [9455225, 9404997, 50228, 0.50228],\n",
       "     [2828758, 1459399, 1369359, 13.69359],\n",
       "     [1020231, 253541, 766690, 7.6669],\n",
       "     [1016582, 249788, 766794, 7.66794]])]),\n",
       " (100000000,\n",
       "  [(19.5715,\n",
       "    0.288214,\n",
       "    [[22590736, 20179085, 2411651, 24.11651],\n",
       "     [0, 0, 0, 0],\n",
       "     [2417982, 637554, 1780428, 17.80428],\n",
       "     [893828, 2241, 891587, 8.91587],\n",
       "     [889060, 1803, 887257, 8.87257]]),\n",
       "   (6.39783,\n",
       "    0.974082,\n",
       "    [[32254536, 31881792, 372744, 3.72744],\n",
       "     [7898257, 7344863, 553394, 5.53394],\n",
       "     [1019942, 840143, 179799, 1.79799],\n",
       "     [105761, 23245, 82516, 0.82516],\n",
       "     [106985, 24009, 82976, 0.82976]])]),\n",
       " (100000000,\n",
       "  [(2.29487,\n",
       "    0.109346,\n",
       "    [[46641131, 41768933, 4872198, 48.72198],\n",
       "     [6748453, 6748453, 0, 0.0],\n",
       "     [5389649, 589369, 4800280, 48.0028],\n",
       "     [2774482, 116898, 2657584, 26.57584],\n",
       "     [2486505, 105089, 2381416, 23.81416]]),\n",
       "   (0.00356529,\n",
       "    0.8958,\n",
       "    [[27824953, 16408637, 11416316, 114.16316],\n",
       "     [10066239, 10066239, 0, 0.0],\n",
       "     [12069224, 10770861, 1298363, 12.98363],\n",
       "     [700874, 291968, 408906, 4.08906],\n",
       "     [714549, 302714, 411835, 4.11835]])])]"
      ]
     },
     "execution_count": 16,
     "metadata": {},
     "output_type": "execute_result"
    }
   ],
   "source": [
    "sliced_preprocessed_result = []\n",
    "for file in sliced_preprocessed_files:\n",
    "    file_path = os.path.join(sliced_dir, file)\n",
    "    sim_inst_count, cpu_data = process_file1(file_path, 2)\n",
    "    sliced_preprocessed_result.append((sim_inst_count, cpu_data))\n",
    "sliced_preprocessed_result"
   ]
  },
  {
   "cell_type": "code",
   "execution_count": 17,
   "metadata": {},
   "outputs": [],
   "source": [
    "sliced = {'INST': 0}\n",
    "shared = {'INST' : 0}"
   ]
  },
  {
   "cell_type": "code",
   "execution_count": 18,
   "metadata": {},
   "outputs": [],
   "source": [
    "sliced_fields = {'MPKI','L2_ACCESS', 'L2_MISS', 'L2_HIT', 'LLC0_ACCESS', 'LLC0_MISS','LLC0_HIT' , 'LLC1_ACCESS', 'LLC1_MISS','LLC1_HIT','LLC1_MPKI','LLC0_MPKI','L2_MPKI'  }\n",
    "shared_fields = {'MPKI','L2_ACCESS', 'L2_MISS', 'L2_HIT', 'LLC_ACCESS', 'LLC_MISS','LLC_HIT','L2_MPKI', 'LLC_MPKI'  }"
   ]
  },
  {
   "cell_type": "code",
   "execution_count": 19,
   "metadata": {},
   "outputs": [
    {
     "data": {
      "text/plain": [
       "100000000"
      ]
     },
     "execution_count": 19,
     "metadata": {},
     "output_type": "execute_result"
    }
   ],
   "source": [
    "sliced_preprocessed_result[0][0]"
   ]
  },
  {
   "cell_type": "code",
   "execution_count": 20,
   "metadata": {},
   "outputs": [],
   "source": [
    "for i in sliced_fields:\n",
    "    \n",
    "    sliced['C0_'+i] = 0\n",
    "    sliced['C1_'+i] = 0\n",
    "    \n",
    "for i in shared_fields:\n",
    "    \n",
    "    shared['C0_'+i] = 0\n",
    "    shared['C1_'+i] = 0"
   ]
  },
  {
   "cell_type": "code",
   "execution_count": 21,
   "metadata": {},
   "outputs": [],
   "source": [
    "def fun(dic, label):\n",
    "    temp = []\n",
    "    \n",
    "    for i in range(len(dic)):\n",
    "        temp.append(dic[i][label])\n",
    "        \n",
    "    return temp"
   ]
  },
  {
   "cell_type": "code",
   "execution_count": 22,
   "metadata": {},
   "outputs": [
    {
     "data": {
      "text/plain": [
       "3"
      ]
     },
     "execution_count": 22,
     "metadata": {},
     "output_type": "execute_result"
    }
   ],
   "source": [
    "len(sliced_preprocessed_result)"
   ]
  },
  {
   "cell_type": "code",
   "execution_count": 23,
   "metadata": {},
   "outputs": [],
   "source": [
    "sliced_lis = []\n",
    "shared_lis = []\n",
    "for i in range(0,len(sliced_preprocessed_result)):\n",
    "    temp1 = sliced.copy()\n",
    "    temp2 = shared.copy()\n",
    "    sliced_lis.append(temp1)\n",
    "    shared_lis.append(temp2)"
   ]
  },
  {
   "cell_type": "code",
   "execution_count": 24,
   "metadata": {},
   "outputs": [
    {
     "data": {
      "text/plain": [
       "[{'INST': 0,\n",
       "  'C0_L2_MPKI': 0,\n",
       "  'C1_L2_MPKI': 0,\n",
       "  'C0_LLC_MISS': 0,\n",
       "  'C1_LLC_MISS': 0,\n",
       "  'C0_L2_HIT': 0,\n",
       "  'C1_L2_HIT': 0,\n",
       "  'C0_L2_ACCESS': 0,\n",
       "  'C1_L2_ACCESS': 0,\n",
       "  'C0_LLC_HIT': 0,\n",
       "  'C1_LLC_HIT': 0,\n",
       "  'C0_MPKI': 0,\n",
       "  'C1_MPKI': 0,\n",
       "  'C0_LLC_MPKI': 0,\n",
       "  'C1_LLC_MPKI': 0,\n",
       "  'C0_LLC_ACCESS': 0,\n",
       "  'C1_LLC_ACCESS': 0,\n",
       "  'C0_L2_MISS': 0,\n",
       "  'C1_L2_MISS': 0},\n",
       " {'INST': 0,\n",
       "  'C0_L2_MPKI': 0,\n",
       "  'C1_L2_MPKI': 0,\n",
       "  'C0_LLC_MISS': 0,\n",
       "  'C1_LLC_MISS': 0,\n",
       "  'C0_L2_HIT': 0,\n",
       "  'C1_L2_HIT': 0,\n",
       "  'C0_L2_ACCESS': 0,\n",
       "  'C1_L2_ACCESS': 0,\n",
       "  'C0_LLC_HIT': 0,\n",
       "  'C1_LLC_HIT': 0,\n",
       "  'C0_MPKI': 0,\n",
       "  'C1_MPKI': 0,\n",
       "  'C0_LLC_MPKI': 0,\n",
       "  'C1_LLC_MPKI': 0,\n",
       "  'C0_LLC_ACCESS': 0,\n",
       "  'C1_LLC_ACCESS': 0,\n",
       "  'C0_L2_MISS': 0,\n",
       "  'C1_L2_MISS': 0},\n",
       " {'INST': 0,\n",
       "  'C0_L2_MPKI': 0,\n",
       "  'C1_L2_MPKI': 0,\n",
       "  'C0_LLC_MISS': 0,\n",
       "  'C1_LLC_MISS': 0,\n",
       "  'C0_L2_HIT': 0,\n",
       "  'C1_L2_HIT': 0,\n",
       "  'C0_L2_ACCESS': 0,\n",
       "  'C1_L2_ACCESS': 0,\n",
       "  'C0_LLC_HIT': 0,\n",
       "  'C1_LLC_HIT': 0,\n",
       "  'C0_MPKI': 0,\n",
       "  'C1_MPKI': 0,\n",
       "  'C0_LLC_MPKI': 0,\n",
       "  'C1_LLC_MPKI': 0,\n",
       "  'C0_LLC_ACCESS': 0,\n",
       "  'C1_LLC_ACCESS': 0,\n",
       "  'C0_L2_MISS': 0,\n",
       "  'C1_L2_MISS': 0}]"
      ]
     },
     "execution_count": 24,
     "metadata": {},
     "output_type": "execute_result"
    }
   ],
   "source": [
    "shared_lis"
   ]
  },
  {
   "cell_type": "code",
   "execution_count": 25,
   "metadata": {},
   "outputs": [],
   "source": [
    "for i in range(0,len(sliced_lis)):\n",
    "    sliced_lis[i]['INST'] =  sliced_preprocessed_result[i][0]\n",
    "    sliced_lis[i]['C0_L2_MISS'] = sliced_preprocessed_result[i][1][0][2][2][2]\n",
    "    sliced_lis[i]['C1_L2_MISS']=  sliced_preprocessed_result[i][1][1][2][2][2]\n",
    "    sliced_lis[i]['C0_L2_HIT'] =  sliced_preprocessed_result[i][1][0][2][2][1]\n",
    "    sliced_lis[i]['C1_L2_HIT'] =  sliced_preprocessed_result[i][1][1][2][2][1]\n",
    "    sliced_lis[i]['C0_LLC1_MISS']= sliced_preprocessed_result[i][1][0][2][4][2]\n",
    "    sliced_lis[i]['C1_LLC1_MISS'] =  sliced_preprocessed_result[i][1][1][2][4][2]\n",
    "    sliced_lis[i]['C0_LLC0_ACCESS'] = sliced_preprocessed_result[i][1][0][2][3][0]\n",
    "    sliced_lis[i]['C1_LLC0_ACCESS'] =  sliced_preprocessed_result[i][1][1][2][3][0]\n",
    "    sliced_lis[i]['C0_LLC1_HIT'] = sliced_preprocessed_result[i][1][0][2][4][1]\n",
    "    sliced_lis[i]['C1_LLC1_HIT'] = sliced_preprocessed_result[i][1][1][2][4][1]\n",
    "    sliced_lis[i]['C0_IPC']=  sliced_preprocessed_result[i][1][0][1]\n",
    "    sliced_lis[i]['C1_IPC'] = sliced_preprocessed_result[i][1][1][1]\n",
    "    sliced_lis[i]['C0_MPKI']=  sliced_preprocessed_result[i][1][0][0]\n",
    "    sliced_lis[i]['C1_MPKI'] = sliced_preprocessed_result[i][1][1][0]\n",
    "    sliced_lis[i]['C0_LLC0_MISS'] = sliced_preprocessed_result[i][1][0][2][3][2]\n",
    "    sliced_lis[i]['C1_LLC0_MISS'] = sliced_preprocessed_result[i][1][1][2][3][2]\n",
    "    sliced_lis[i]['C0_LLC1_ACCESS'] = sliced_preprocessed_result[i][1][0][2][4][0]\n",
    "    sliced_lis[i]['C1_LLC1_ACCESS'] =  sliced_preprocessed_result[i][1][1][2][4][0]\n",
    "    sliced_lis[i]['C0_L2_ACCESS'] =  sliced_preprocessed_result[i][1][0][2][2][0]\n",
    "    sliced_lis[i]['C1_L2_ACCESS'] =  sliced_preprocessed_result[i][1][1][2][2][0]\n",
    "    sliced_lis[i]['C0_LLC0_HIT']  = sliced_preprocessed_result[i][1][0][2][3][1]\n",
    "    sliced_lis[i]['C1_LLC0_HIT']  = sliced_preprocessed_result[i][1][1][2][3][1]\n",
    "    sliced_lis[i]['C0_LLC1_MPKI'] = sliced_preprocessed_result[i][1][0][2][4][3]\n",
    "    sliced_lis[i]['C1_LLC1_MPKI'] = sliced_preprocessed_result[i][1][1][2][4][3]\n",
    "    sliced_lis[i]['C0_L2_MPKI'] =  sliced_preprocessed_result[i][1][0][2][2][3]\n",
    "    sliced_lis[i]['C1_L2_MPKI'] =  sliced_preprocessed_result[i][1][1][2][2][3]"
   ]
  },
  {
   "cell_type": "code",
   "execution_count": 26,
   "metadata": {},
   "outputs": [],
   "source": [
    "for i in range(0,len(shared_lis)):\n",
    "    shared_lis[i]['INST'] =  shared_preprocessed_result[i][0]\n",
    "    shared_lis[i]['C0_L2_MISS'] = shared_preprocessed_result[i][1][0][2][2][2]\n",
    "    shared_lis[i]['C1_L2_MISS']=  shared_preprocessed_result[i][1][1][2][2][2]\n",
    "    shared_lis[i]['C0_L2_HIT'] =  shared_preprocessed_result[i][1][0][2][2][1]\n",
    "    shared_lis[i]['C1_L2_HIT'] =  shared_preprocessed_result[i][1][1][2][2][1]\n",
    "    shared_lis[i]['C0_LLC_MISS']= shared_preprocessed_result[i][1][0][2][3][2]\n",
    "    shared_lis[i]['C1_LLC_MISS'] =  shared_preprocessed_result[i][1][1][2][3][2]\n",
    "    shared_lis[i]['C0_LLC_HIT'] = shared_preprocessed_result[i][1][0][2][3][1]\n",
    "    shared_lis[i]['C1_LLC_HIT'] = shared_preprocessed_result[i][1][1][2][3][1]\n",
    "    shared_lis[i]['C0_IPC']=  shared_preprocessed_result[i][1][0][1]\n",
    "    shared_lis[i]['C1_IPC'] = shared_preprocessed_result[i][1][1][1]\n",
    "    shared_lis[i]['C0_MPKI']=  shared_preprocessed_result[i][1][0][0]\n",
    "    shared_lis[i]['C1_MPKI'] = shared_preprocessed_result[i][1][1][0]\n",
    "    shared_lis[i]['C0_LLC_ACCESS'] = shared_preprocessed_result[i][1][0][2][3][0]\n",
    "    shared_lis[i]['C1_LLC_ACCESS'] =  shared_preprocessed_result[i][1][1][2][3][0]\n",
    "    shared_lis[i]['C0_L2_ACCESS'] =  shared_preprocessed_result[i][1][0][2][2][0]\n",
    "    shared_lis[i]['C1_L2_ACCESS'] =  shared_preprocessed_result[i][1][1][2][2][0]\n",
    "    shared_lis[i]['C0_LLC_MPKI'] = shared_preprocessed_result[i][1][0][2][3][3]\n",
    "    shared_lis[i]['C1_LLC_MPKI'] = shared_preprocessed_result[i][1][1][2][3][3]\n",
    "    shared_lis[i]['C0_L2_MPKI'] =  shared_preprocessed_result[i][1][0][2][2][3]\n",
    "    shared_lis[i]['C1_L2_MPKI'] =  shared_preprocessed_result[i][1][1][2][2][3]"
   ]
  },
  {
   "cell_type": "code",
   "execution_count": 27,
   "metadata": {},
   "outputs": [
    {
     "data": {
      "text/plain": [
       "[{'INST': 100000000,\n",
       "  'C0_L2_MPKI': 17.2788,\n",
       "  'C1_L2_MPKI': 13.69214,\n",
       "  'C0_LLC_MISS': 1727603,\n",
       "  'C1_LLC_MISS': 1229169,\n",
       "  'C0_L2_HIT': 113,\n",
       "  'C1_L2_HIT': 1460388,\n",
       "  'C0_L2_ACCESS': 1727993,\n",
       "  'C1_L2_ACCESS': 2829602,\n",
       "  'C0_LLC_HIT': 278,\n",
       "  'C1_LLC_HIT': 808223,\n",
       "  'C0_MPKI': 46.3177,\n",
       "  'C1_MPKI': 12.0475,\n",
       "  'C0_LLC_MPKI': 17.27603,\n",
       "  'C1_LLC_MPKI': 12.29169,\n",
       "  'C0_LLC_ACCESS': 1727881,\n",
       "  'C1_LLC_ACCESS': 2037392,\n",
       "  'C0_L2_MISS': 1727880,\n",
       "  'C1_L2_MISS': 1369214,\n",
       "  'C0_IPC': 1.00461,\n",
       "  'C1_IPC': 0.35996},\n",
       " {'INST': 100000000,\n",
       "  'C0_L2_MPKI': 17.804,\n",
       "  'C1_L2_MPKI': 1.74785,\n",
       "  'C0_LLC_MISS': 1777545,\n",
       "  'C1_LLC_MISS': 150671,\n",
       "  'C0_L2_HIT': 637518,\n",
       "  'C1_L2_HIT': 844809,\n",
       "  'C0_L2_ACCESS': 2417918,\n",
       "  'C1_L2_ACCESS': 1019594,\n",
       "  'C0_LLC_HIT': 5316,\n",
       "  'C1_LLC_HIT': 56832,\n",
       "  'C0_MPKI': 19.5668,\n",
       "  'C1_MPKI': 6.36664,\n",
       "  'C0_LLC_MPKI': 17.77545,\n",
       "  'C1_LLC_MPKI': 1.50671,\n",
       "  'C0_LLC_ACCESS': 1782861,\n",
       "  'C1_LLC_ACCESS': 207503,\n",
       "  'C0_L2_MISS': 1780400,\n",
       "  'C1_L2_MISS': 174785,\n",
       "  'C0_IPC': 0.28885,\n",
       "  'C1_IPC': 0.982804},\n",
       " {'INST': 100000000,\n",
       "  'C0_L2_MPKI': 48.00137,\n",
       "  'C1_L2_MPKI': 12.28361,\n",
       "  'C0_LLC_MISS': 4812680,\n",
       "  'C1_LLC_MISS': 769995,\n",
       "  'C0_L2_HIT': 589556,\n",
       "  'C1_L2_HIT': 10896533,\n",
       "  'C0_L2_ACCESS': 5389693,\n",
       "  'C1_L2_ACCESS': 12124894,\n",
       "  'C0_LLC_HIT': 448438,\n",
       "  'C1_LLC_HIT': 569509,\n",
       "  'C0_MPKI': 2.29487,\n",
       "  'C1_MPKI': 0.00356941,\n",
       "  'C0_LLC_MPKI': 48.1268,\n",
       "  'C1_LLC_MPKI': 7.69995,\n",
       "  'C0_LLC_ACCESS': 5261118,\n",
       "  'C1_LLC_ACCESS': 1339504,\n",
       "  'C0_L2_MISS': 4800137,\n",
       "  'C1_L2_MISS': 1228361,\n",
       "  'C0_IPC': 0.109667,\n",
       "  'C1_IPC': 0.897439}]"
      ]
     },
     "execution_count": 27,
     "metadata": {},
     "output_type": "execute_result"
    }
   ],
   "source": [
    "shared_lis"
   ]
  },
  {
   "cell_type": "code",
   "execution_count": 28,
   "metadata": {},
   "outputs": [
    {
     "data": {
      "image/png": "[encoded data removed]",
      "text/plain": [
       "<Figure size 432x288 with 1 Axes>"
      ]
     },
     "metadata": {
      "needs_background": "light"
     },
     "output_type": "display_data"
    }
   ],
   "source": [
    "x=[2,4,8,12,16]\n",
    "plt.title('MPKI_L1D PART 2')\n",
    "plt.plot(x,fun(sliced_lis,'C0_MPKI'), 'r' ,marker='o',label=\"malloc\")\n",
    "plt.plot(x,fun(shared_lis,'C0_MPKI'), 'b' ,marker='o',label='mmap')\n",
    "plt.grid()\n",
    "plt.legend(loc='best')\n",
    "plt.show()"
   ]
  },
  {
   "cell_type": "code",
   "execution_count": 29,
   "metadata": {},
   "outputs": [
    {
     "data": {
      "text/plain": [
       "<matplotlib.legend.Legend at 0x7feb38ccb1c0>"
      ]
     },
     "execution_count": 29,
     "metadata": {},
     "output_type": "execute_result"
    },
    {
     "data": {
      "image/png": "[encoded data removed]",
      "text/plain": [
       "<Figure size 864x576 with 1 Axes>"
      ]
     },
     "metadata": {
      "needs_background": "light"
     },
     "output_type": "display_data"
    }
   ],
   "source": [
    "fig, ax = plt.subplots(figsize=(12, 8))\n",
    "x = np.arange(3)\n",
    "\n",
    "# Define bar width. We'll use this to offset the second bar.\n",
    "bar_width = 0.4\n",
    "plt.title('CPU0 IPC')\n",
    "# Note we add the `width` parameter now which sets the width of each bar.\n",
    "a = [x - 0.0 for x in fun(sliced_lis,'C0_IPC')]\n",
    "b1 = ax.bar(x, a, width=bar_width,label='sliced' )\n",
    "\n",
    "# Same thing, but offset the x by the width of the bar.\n",
    "b2 = ax.bar(x + bar_width, fun(shared_lis,'C0_IPC'), width=bar_width, label='shared')\n",
    "\n",
    "# Fix the x-axes.\n",
    "ax.set_xticks(x + bar_width / 2)\n",
    "#ax.set_xticklabels([\"mcf (mcf-wrf) \", \"mcf (mcf-cuctu)\", \"gcc(gcc-perl)\", \"bwaves(bwaves-omen)\"])\n",
    "ax.set_xticklabels(find_labels1(shared_preprocessed_files))\n",
    "# Add legend.\n",
    "ax.legend()"
   ]
  },
  {
   "cell_type": "code",
   "execution_count": 30,
   "metadata": {},
   "outputs": [
    {
     "data": {
      "text/plain": [
       "<matplotlib.legend.Legend at 0x7feb38c32940>"
      ]
     },
     "execution_count": 30,
     "metadata": {},
     "output_type": "execute_result"
    },
    {
     "data": {
      "image/png": "[encoded data removed]",
      "text/plain": [
       "<Figure size 864x576 with 1 Axes>"
      ]
     },
     "metadata": {
      "needs_background": "light"
     },
     "output_type": "display_data"
    }
   ],
   "source": [
    "fig, ax = plt.subplots(figsize=(12, 8))\n",
    "x = np.arange(3)\n",
    "plt.title('CPU1 IPC')\n",
    "# Define bar width. We'll use this to offset the second bar.\n",
    "bar_width = 0.4\n",
    "\n",
    "# Note we add the `width` parameter now which sets the width of each bar.\n",
    "a = [x - 0.0 for x in fun(sliced_lis,'C1_IPC')]\n",
    "b1 = ax.bar(x, a, width=bar_width,label='sliced' )\n",
    "\n",
    "# Same thing, but offset the x by the width of the bar.\n",
    "b2 = ax.bar(x + bar_width, fun(shared_lis,'C1_IPC'), width=bar_width, label='shared')\n",
    "\n",
    "# Fix the x-axes.\n",
    "ax.set_xticks(x + bar_width / 2)\n",
    "#ax.set_xticklabels([\"mcf (mcf-wrf) \", \"mcf (mcf-cuctu)\", \"gcc(gcc-perl)\", \"bwaves(bwaves-omen)\"])\n",
    "ax.set_xticklabels(find_labels2(shared_preprocessed_files))\n",
    "# Add legend.\n",
    "ax.legend()"
   ]
  },
  {
   "cell_type": "code",
   "execution_count": 33,
   "metadata": {},
   "outputs": [
    {
     "data": {
      "text/plain": [
       "<matplotlib.legend.Legend at 0x7feb38b5eac0>"
      ]
     },
     "execution_count": 33,
     "metadata": {},
     "output_type": "execute_result"
    },
    {
     "data": {
      "image/png": "[encoded data removed]",
      "text/plain": [
       "<Figure size 864x576 with 1 Axes>"
      ]
     },
     "metadata": {
      "needs_background": "light"
     },
     "output_type": "display_data"
    }
   ],
   "source": [
    "fig, ax = plt.subplots(figsize=(12, 8))\n",
    "x = np.arange(3)\n",
    "plt.title('CPU0')\n",
    "# Define bar width. We'll use this to offset the second bar.\n",
    "bar_width = 0.4\n",
    "res = [i / j for i, j in zip(add(fun(sliced_lis,'C0_LLC1_MISS') ,fun(sliced_lis,'C0_LLC0_MISS') ), fun(sliced_lis,'INST'))]\n",
    "# Note we add the `width` parameter now which sets the width of each bar.\n",
    "\n",
    "a = [x + 0.00 for x in res]\n",
    "b1 = ax.bar(x, a, width=bar_width,label='sliced' )\n",
    "# Same thing, but offset the x by the width of the bar.\n",
    "\n",
    "res = [i / j for i, j in zip(fun(shared_lis,'C0_LLC_MISS'), fun(shared_lis,'INST'))]\n",
    "#a = [x - 0.05 for x in res]\n",
    "b2 = ax.bar(x + bar_width, res, width=bar_width, label='shared')\n",
    "\n",
    "# Fix the x-axes.\n",
    "ax.set_xticks(x + bar_width / 2)\n",
    "\n",
    "ax.set_xticklabels(find_labels1(shared_preprocessed_files))\n",
    "# Add legend.\n",
    "ax.legend()"
   ]
  },
  {
   "cell_type": "code",
   "execution_count": 34,
   "metadata": {},
   "outputs": [
    {
     "data": {
      "text/plain": [
       "<matplotlib.legend.Legend at 0x7feb38908850>"
      ]
     },
     "execution_count": 34,
     "metadata": {},
     "output_type": "execute_result"
    },
    {
     "data": {
      "image/png": "[encoded data removed]",
      "text/plain": [
       "<Figure size 864x576 with 1 Axes>"
      ]
     },
     "metadata": {
      "needs_background": "light"
     },
     "output_type": "display_data"
    }
   ],
   "source": [
    "fig, ax = plt.subplots(figsize=(12, 8))\n",
    "x = np.arange(3)\n",
    "plt.title('CPU1')\n",
    "# Define bar width. We'll use this to offset the second bar.\n",
    "bar_width = 0.4\n",
    "res = [i / j for i, j in zip(add(fun(sliced_lis,'C1_LLC1_MISS') ,fun(sliced_lis,'C1_LLC0_MISS') ), fun(sliced_lis,'INST'))]\n",
    "# Note we add the `width` parameter now which sets the width of each bar.\n",
    "\n",
    "a = [x + 0.00 for x in res]\n",
    "b1 = ax.bar(x, a, width=bar_width,label='sliced' )\n",
    "# Same thing, but offset the x by the width of the bar.\n",
    "\n",
    "res = [i / j for i, j in zip(fun(shared_lis,'C1_LLC_MISS'), fun(shared_lis,'INST'))]\n",
    "#a = [x - 0.05 for x in res]\n",
    "b2 = ax.bar(x + bar_width, res, width=bar_width, label='shared')\n",
    "\n",
    "# Fix the x-axes.\n",
    "ax.set_xticks(x + bar_width / 2)\n",
    "\n",
    "ax.set_xticklabels(find_labels2(shared_preprocessed_files))\n",
    "# Add legend.\n",
    "ax.legend()"
   ]
  },
  {
   "cell_type": "code",
   "execution_count": 115,
   "metadata": {},
   "outputs": [
    {
     "data": {
      "text/plain": [
       "17.2788"
      ]
     },
     "execution_count": 115,
     "metadata": {},
     "output_type": "execute_result"
    }
   ],
   "source": [
    "shared_lis[0]['C0_L2_MPKI']"
   ]
  },
  {
   "cell_type": "code",
   "execution_count": 148,
   "metadata": {},
   "outputs": [],
   "source": [
    "x =\"sas_ewd\".split(\"_\")[0]"
   ]
  },
  {
   "cell_type": "code",
   "execution_count": 149,
   "metadata": {},
   "outputs": [
    {
     "data": {
      "text/plain": [
       "'sas'"
      ]
     },
     "execution_count": 149,
     "metadata": {},
     "output_type": "execute_result"
    }
   ],
   "source": [
    "x"
   ]
  },
  {
   "cell_type": "code",
   "execution_count": null,
   "metadata": {},
   "outputs": [],
   "source": []
  }
 ],
 "metadata": {
  "kernelspec": {
   "display_name": "Python 3",
   "language": "python",
   "name": "python3"
  },
  "language_info": {
   "codemirror_mode": {
    "name": "ipython",
    "version": 3
   },
   "file_extension": ".py",
   "mimetype": "text/x-python",
   "name": "python",
   "nbconvert_exporter": "python",
   "pygments_lexer": "ipython3",
   "version": "3.8.10"
  }
 },
 "nbformat": 4,
 "nbformat_minor": 5
}
