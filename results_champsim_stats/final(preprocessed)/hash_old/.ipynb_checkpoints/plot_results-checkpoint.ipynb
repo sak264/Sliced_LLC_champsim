{
 "cells": [
  {
   "cell_type": "code",
   "execution_count": 1,
   "metadata": {},
   "outputs": [
    {
     "data": {
      "text/plain": [
       "'\\nUsage details:\\nStep 1: Get preprocessed data using get_data.sh script.\\n    a. Verify that all the files in a particular directory have valid content.\\n       If some file doesn\\'t have complete data then the script will output empty data.\\n    b. Run the script like \"get_data.sh file.txt num_cores is_shared\". is_shared is 1 if\\n       the results are for shared llc, 0 otherwise. This has to be done for each file.\\n       for FILE in *; do get_data.sh file.txt num_cores is_shared; done\\n    c. The above step will generate file_preprocessed.txt in a folder named \"preprocessed_results\" \\n    for different file_names. Move the results in the desired place.\\nStep 2:\\n    a. List the two data points to compare and corresponding directories.\\n    b. Get the processed_data for each file for each of the two data points.\\n       Signature : process_file(file, num_core)\\n       Data point structure:\\n       For each data point(e.g.\"shared\", \"sliced\"):\\n       [ [(sim_inst_count, cpu_data)] for each file in a data point]\\n       cpu_data structure\\n       [(global_mpki, ipc, cache_data) for each cpu]\\n       cache_data structure:\\n       [[total_access, hit, miss, mpki] for each cache] : 4x4\\n    c. Use the processed data as needed.\\n'"
      ]
     },
     "execution_count": 1,
     "metadata": {},
     "output_type": "execute_result"
    }
   ],
   "source": [
    "\"\"\"\n",
    "Usage details:\n",
    "Step 1: Get preprocessed data using get_data.sh script.\n",
    "    a. Verify that all the files in a particular directory have valid content.\n",
    "       If some file doesn't have complete data then the script will output empty data.\n",
    "    b. Run the script like \"get_data.sh file.txt num_cores is_shared\". is_shared is 1 if\n",
    "       the results are for shared llc, 0 otherwise. This has to be done for each file.\n",
    "       for FILE in *; do get_data.sh file.txt num_cores is_shared; done\n",
    "    c. The above step will generate file_preprocessed.txt in a folder named \"preprocessed_results\" \n",
    "    for different file_names. Move the results in the desired place.\n",
    "Step 2:\n",
    "    a. List the two data points to compare and corresponding directories.\n",
    "    b. Get the processed_data for each file for each of the two data points.\n",
    "       Signature : process_file(file, num_core)\n",
    "       Data point structure:\n",
    "       For each data point(e.g.\"shared\", \"sliced\"):\n",
    "       [ [(sim_inst_count, cpu_data)] for each file in a data point]\n",
    "       cpu_data structure\n",
    "       [(global_mpki, ipc, cache_data) for each cpu]\n",
    "       cache_data structure:\n",
    "       [[total_access, hit, miss, mpki] for each cache] : 4x4\n",
    "    c. Use the processed data as needed.\n",
    "\"\"\""
   ]
  },
  {
   "cell_type": "code",
   "execution_count": 2,
   "metadata": {},
   "outputs": [],
   "source": [
    "def find_labels1(x):\n",
    "    temp = []\n",
    "    for i in range(len(x)):\n",
    "        a = x[i].split('_')[0]\n",
    "        temp.append(a.split('-')[0] + '(' +  a + ')')\n",
    "        \n",
    "    return temp"
   ]
  },
  {
   "cell_type": "code",
   "execution_count": 3,
   "metadata": {},
   "outputs": [],
   "source": [
    "def find_labels2(x):\n",
    "    \n",
    "    temp = [] \n",
    "    for i in range(len(x)):\n",
    "        a = x[i].split('_')[0]\n",
    "        temp.append(a.split('-')[1] + '(' +  a + ')')\n",
    "        \n",
    "    return temp"
   ]
  },
  {
   "cell_type": "code",
   "execution_count": 4,
   "metadata": {},
   "outputs": [],
   "source": [
    "import numpy as np"
   ]
  },
  {
   "cell_type": "code",
   "execution_count": 5,
   "metadata": {},
   "outputs": [],
   "source": [
    "import matplotlib.pyplot as plt"
   ]
  },
  {
   "cell_type": "code",
   "execution_count": 6,
   "metadata": {},
   "outputs": [],
   "source": [
    "import os"
   ]
  },
  {
   "cell_type": "code",
   "execution_count": 7,
   "metadata": {},
   "outputs": [
    {
     "data": {
      "text/plain": [
       "['gcc-perl',\n",
       " 'bwaves-omen',\n",
       " 'mcf-cactu',\n",
       " 'process_data.py',\n",
       " '.ipynb_checkpoints',\n",
       " 'plot_results.ipynb']"
      ]
     },
     "execution_count": 7,
     "metadata": {},
     "output_type": "execute_result"
    }
   ],
   "source": [
    "os.listdir()"
   ]
  },
  {
   "cell_type": "code",
   "execution_count": 8,
   "metadata": {},
   "outputs": [],
   "source": [
    "from process_data import process_file"
   ]
  },
  {
   "cell_type": "code",
   "execution_count": 9,
   "metadata": {},
   "outputs": [],
   "source": [
    "\n",
    "gp_sliced_dir = \"gcc-perl\"\n",
    "\n",
    "mc_sliced_dir = \"mcf-cactu\"\n",
    "\n",
    "bo_sliced_dir = \"bwaves-omen\"\n",
    "\n",
    "\"\"\"\n",
    "The processed files must be defined manually like :\n",
    "shared_preprocessed_files = [\"file1.txt\", \"file2.txt\", ...].\n",
    "\n",
    "The result will be in the same order as the files.\n",
    "\"\"\" \n",
    "\n",
    "gp_sliced_preprocessed_files = os.listdir(gp_sliced_dir)\n",
    "\n",
    "\n",
    "mc_sliced_preprocessed_files = os.listdir(mc_sliced_dir)\n",
    "\n",
    "\n",
    "bo_sliced_preprocessed_files = os.listdir(bo_sliced_dir)\n"
   ]
  },
  {
   "cell_type": "code",
   "execution_count": 11,
   "metadata": {},
   "outputs": [],
   "source": [
    "gp_sliced_preprocessed_files.sort()\n",
    "mc_sliced_preprocessed_files.sort()\n",
    "bo_sliced_preprocessed_files.sort()"
   ]
  },
  {
   "cell_type": "code",
   "execution_count": 12,
   "metadata": {},
   "outputs": [
    {
     "data": {
      "text/plain": [
       "['i5_gcc-perl_preprocessed.txt',\n",
       " 'i6_gcc-perl_preprocessed.txt',\n",
       " 'i7_gcc-perl_preprocessed.txt',\n",
       " 'sandy_gcc-perl_preprocessed.txt',\n",
       " 'xenon_gcc-perl_preprocessed.txt']"
      ]
     },
     "execution_count": 12,
     "metadata": {},
     "output_type": "execute_result"
    }
   ],
   "source": [
    "gp_sliced_preprocessed_files"
   ]
  },
  {
   "cell_type": "code",
   "execution_count": 13,
   "metadata": {},
   "outputs": [],
   "source": [
    "gp_sliced_preprocessed_result = []\n",
    "for file in gp_sliced_preprocessed_files:\n",
    "    file_path = os.path.join(gp_sliced_dir, file)\n",
    "    sim_inst_count, cpu_data = process_file(file_path, 2)\n",
    "    gp_sliced_preprocessed_result.append((sim_inst_count, cpu_data))\n",
    "\n",
    "    \n",
    "mc_sliced_preprocessed_result = []\n",
    "for file in mc_sliced_preprocessed_files:\n",
    "    file_path = os.path.join(mc_sliced_dir, file)\n",
    "    sim_inst_count, cpu_data = process_file(file_path, 2)\n",
    "    mc_sliced_preprocessed_result.append((sim_inst_count, cpu_data))\n",
    "\n",
    "    \n",
    "bo_sliced_preprocessed_result = []\n",
    "for file in bo_sliced_preprocessed_files:\n",
    "    file_path = os.path.join(bo_sliced_dir, file)\n",
    "    sim_inst_count, cpu_data = process_file(file_path, 2)\n",
    "    bo_sliced_preprocessed_result.append((sim_inst_count, cpu_data))\n"
   ]
  },
  {
   "cell_type": "code",
   "execution_count": 14,
   "metadata": {},
   "outputs": [],
   "source": [
    "gp_sliced = {'INST': 0}\n",
    "gp_shared = {'INST' : 0}\n",
    "\n",
    "mc_sliced = {'INST': 0}\n",
    "mc_shared = {'INST' : 0}\n",
    "\n",
    "bo_sliced = {'INST': 0}\n",
    "bo_shared = {'INST' : 0}"
   ]
  },
  {
   "cell_type": "code",
   "execution_count": 15,
   "metadata": {},
   "outputs": [],
   "source": [
    "sliced_fields = {'MPKI','L2_ACCESS', 'L2_MISS', 'L2_HIT', 'LLC0_ACCESS', 'LLC0_MISS','LLC0_HIT' , 'LLC1_ACCESS', 'LLC1_MISS','LLC1_HIT','LLC1_MPKI','LLC0_MPKI','L2_MPKI'  }\n",
    "shared_fields = {'MPKI','L2_ACCESS', 'L2_MISS', 'L2_HIT', 'LLC_ACCESS', 'LLC_MISS','LLC_HIT','L2_MPKI', 'LLC_MPKI'  }"
   ]
  },
  {
   "cell_type": "code",
   "execution_count": 16,
   "metadata": {},
   "outputs": [
    {
     "data": {
      "text/plain": [
       "100000000"
      ]
     },
     "execution_count": 16,
     "metadata": {},
     "output_type": "execute_result"
    }
   ],
   "source": [
    "mc_sliced_preprocessed_result[0][0]"
   ]
  },
  {
   "cell_type": "code",
   "execution_count": 17,
   "metadata": {},
   "outputs": [],
   "source": [
    "for i in sliced_fields:\n",
    "    \n",
    "    gp_sliced['C0_'+i] = 0\n",
    "    gp_sliced['C1_'+i] = 0\n",
    "    \n",
    "for i in shared_fields:\n",
    "    \n",
    "    gp_shared['C0_'+i] = 0\n",
    "    gp_shared['C1_'+i] = 0\n",
    "    \n",
    "for i in sliced_fields:\n",
    "    \n",
    "    mc_sliced['C0_'+i] = 0\n",
    "    mc_sliced['C1_'+i] = 0\n",
    "    \n",
    "for i in shared_fields:\n",
    "    \n",
    "    mc_shared['C0_'+i] = 0\n",
    "    mc_shared['C1_'+i] = 0\n",
    "    \n",
    "for i in sliced_fields:\n",
    "    \n",
    "    bo_sliced['C0_'+i] = 0\n",
    "    bo_sliced['C1_'+i] = 0\n",
    "    \n",
    "for i in shared_fields:\n",
    "    \n",
    "    bo_shared['C0_'+i] = 0\n",
    "    bo_shared['C1_'+i] = 0"
   ]
  },
  {
   "cell_type": "code",
   "execution_count": 18,
   "metadata": {},
   "outputs": [],
   "source": [
    "def fun(dic, label):\n",
    "    temp = []\n",
    "    \n",
    "    for i in range(len(dic)):\n",
    "        temp.append(dic[i][label])\n",
    "        \n",
    "    return temp"
   ]
  },
  {
   "cell_type": "code",
   "execution_count": 19,
   "metadata": {},
   "outputs": [
    {
     "data": {
      "text/plain": [
       "5"
      ]
     },
     "execution_count": 19,
     "metadata": {},
     "output_type": "execute_result"
    }
   ],
   "source": [
    "len(gp_sliced_preprocessed_result)"
   ]
  },
  {
   "cell_type": "code",
   "execution_count": 20,
   "metadata": {},
   "outputs": [],
   "source": [
    "gp_sliced_lis = []\n",
    "gp_shared_lis = []\n",
    "for i in range(0,len(gp_sliced_preprocessed_result)):\n",
    "    temp1 = gp_sliced.copy()\n",
    "    temp2 = gp_shared.copy()\n",
    "    gp_sliced_lis.append(temp1)\n",
    "    gp_shared_lis.append(temp2)\n",
    "    \n",
    "mc_sliced_lis = []\n",
    "mc_shared_lis = []\n",
    "for i in range(0,len(mc_sliced_preprocessed_result)):\n",
    "    temp1 = mc_sliced.copy()\n",
    "    temp2 = mc_shared.copy()\n",
    "    mc_sliced_lis.append(temp1)\n",
    "    mc_shared_lis.append(temp2)\n",
    "    \n",
    "bo_sliced_lis = []\n",
    "bo_shared_lis = []\n",
    "for i in range(0,len(bo_sliced_preprocessed_result)):\n",
    "    temp1 = bo_sliced.copy()\n",
    "    temp2 = bo_shared.copy()\n",
    "    bo_sliced_lis.append(temp1)\n",
    "    bo_shared_lis.append(temp2)"
   ]
  },
  {
   "cell_type": "code",
   "execution_count": 41,
   "metadata": {},
   "outputs": [
    {
     "data": {
      "text/plain": [
       "[{'INST': 0,\n",
       "  'C0_LLC_ACCESS': 0,\n",
       "  'C1_LLC_ACCESS': 0,\n",
       "  'C0_LLC_MISS': 0,\n",
       "  'C1_LLC_MISS': 0,\n",
       "  'C0_LLC_MPKI': 0,\n",
       "  'C1_LLC_MPKI': 0,\n",
       "  'C0_L2_HIT': 0,\n",
       "  'C1_L2_HIT': 0,\n",
       "  'C0_L2_MISS': 0,\n",
       "  'C1_L2_MISS': 0,\n",
       "  'C0_LLC_HIT': 0,\n",
       "  'C1_LLC_HIT': 0,\n",
       "  'C0_L2_MPKI': 0,\n",
       "  'C1_L2_MPKI': 0,\n",
       "  'C0_MPKI': 0,\n",
       "  'C1_MPKI': 0,\n",
       "  'C0_L2_ACCESS': 0,\n",
       "  'C1_L2_ACCESS': 0},\n",
       " {'INST': 0,\n",
       "  'C0_LLC_ACCESS': 0,\n",
       "  'C1_LLC_ACCESS': 0,\n",
       "  'C0_LLC_MISS': 0,\n",
       "  'C1_LLC_MISS': 0,\n",
       "  'C0_LLC_MPKI': 0,\n",
       "  'C1_LLC_MPKI': 0,\n",
       "  'C0_L2_HIT': 0,\n",
       "  'C1_L2_HIT': 0,\n",
       "  'C0_L2_MISS': 0,\n",
       "  'C1_L2_MISS': 0,\n",
       "  'C0_LLC_HIT': 0,\n",
       "  'C1_LLC_HIT': 0,\n",
       "  'C0_L2_MPKI': 0,\n",
       "  'C1_L2_MPKI': 0,\n",
       "  'C0_MPKI': 0,\n",
       "  'C1_MPKI': 0,\n",
       "  'C0_L2_ACCESS': 0,\n",
       "  'C1_L2_ACCESS': 0},\n",
       " {'INST': 0,\n",
       "  'C0_LLC_ACCESS': 0,\n",
       "  'C1_LLC_ACCESS': 0,\n",
       "  'C0_LLC_MISS': 0,\n",
       "  'C1_LLC_MISS': 0,\n",
       "  'C0_LLC_MPKI': 0,\n",
       "  'C1_LLC_MPKI': 0,\n",
       "  'C0_L2_HIT': 0,\n",
       "  'C1_L2_HIT': 0,\n",
       "  'C0_L2_MISS': 0,\n",
       "  'C1_L2_MISS': 0,\n",
       "  'C0_LLC_HIT': 0,\n",
       "  'C1_LLC_HIT': 0,\n",
       "  'C0_L2_MPKI': 0,\n",
       "  'C1_L2_MPKI': 0,\n",
       "  'C0_MPKI': 0,\n",
       "  'C1_MPKI': 0,\n",
       "  'C0_L2_ACCESS': 0,\n",
       "  'C1_L2_ACCESS': 0},\n",
       " {'INST': 0,\n",
       "  'C0_LLC_ACCESS': 0,\n",
       "  'C1_LLC_ACCESS': 0,\n",
       "  'C0_LLC_MISS': 0,\n",
       "  'C1_LLC_MISS': 0,\n",
       "  'C0_LLC_MPKI': 0,\n",
       "  'C1_LLC_MPKI': 0,\n",
       "  'C0_L2_HIT': 0,\n",
       "  'C1_L2_HIT': 0,\n",
       "  'C0_L2_MISS': 0,\n",
       "  'C1_L2_MISS': 0,\n",
       "  'C0_LLC_HIT': 0,\n",
       "  'C1_LLC_HIT': 0,\n",
       "  'C0_L2_MPKI': 0,\n",
       "  'C1_L2_MPKI': 0,\n",
       "  'C0_MPKI': 0,\n",
       "  'C1_MPKI': 0,\n",
       "  'C0_L2_ACCESS': 0,\n",
       "  'C1_L2_ACCESS': 0}]"
      ]
     },
     "execution_count": 41,
     "metadata": {},
     "output_type": "execute_result"
    }
   ],
   "source": [
    "bo_shared_lis"
   ]
  },
  {
   "cell_type": "code",
   "execution_count": 42,
   "metadata": {},
   "outputs": [],
   "source": [
    "for i in range(0,len(gp_sliced_lis)):\n",
    "    gp_sliced_lis[i]['INST'] =  gp_sliced_preprocessed_result[i][0]\n",
    "    gp_sliced_lis[i]['C0_L2_MISS'] = gp_sliced_preprocessed_result[i][1][0][2][2][2]\n",
    "    gp_sliced_lis[i]['C1_L2_MISS']=  gp_sliced_preprocessed_result[i][1][1][2][2][2]\n",
    "    gp_sliced_lis[i]['C0_L2_HIT'] =  gp_sliced_preprocessed_result[i][1][0][2][2][1]\n",
    "    gp_sliced_lis[i]['C1_L2_HIT'] =  gp_sliced_preprocessed_result[i][1][1][2][2][1]\n",
    "    gp_sliced_lis[i]['C0_LLC1_MISS']= gp_sliced_preprocessed_result[i][1][0][2][3][2]\n",
    "    gp_sliced_lis[i]['C1_LLC1_MISS'] =  gp_sliced_preprocessed_result[i][1][1][2][3][2]\n",
    "    gp_sliced_lis[i]['C0_LLC0_ACCESS'] = 0\n",
    "    gp_sliced_lis[i]['C1_LLC0_ACCESS'] = 0\n",
    "    gp_sliced_lis[i]['C0_LLC1_HIT'] = gp_sliced_preprocessed_result[i][1][0][2][3][1]\n",
    "    gp_sliced_lis[i]['C1_LLC1_HIT'] = gp_sliced_preprocessed_result[i][1][1][2][3][1]\n",
    "    gp_sliced_lis[i]['C0_IPC']=  gp_sliced_preprocessed_result[i][1][0][1]\n",
    "    gp_sliced_lis[i]['C1_IPC'] = gp_sliced_preprocessed_result[i][1][1][1]\n",
    "    gp_sliced_lis[i]['C0_MPKI']=  gp_sliced_preprocessed_result[i][1][0][0]\n",
    "    gp_sliced_lis[i]['C1_MPKI'] = gp_sliced_preprocessed_result[i][1][1][0]\n",
    "    gp_sliced_lis[i]['C0_LLC0_MISS'] = 0\n",
    "    gp_sliced_lis[i]['C1_LLC0_MISS'] = 0\n",
    "    gp_sliced_lis[i]['C0_LLC1_ACCESS'] = gp_sliced_preprocessed_result[i][1][0][2][3][0]\n",
    "    gp_sliced_lis[i]['C1_LLC1_ACCESS'] =  gp_sliced_preprocessed_result[i][1][1][2][3][0]\n",
    "    gp_sliced_lis[i]['C0_L2_ACCESS'] =  gp_sliced_preprocessed_result[i][1][0][2][2][0]\n",
    "    gp_sliced_lis[i]['C1_L2_ACCESS'] =  gp_sliced_preprocessed_result[i][1][1][2][2][0]\n",
    "    gp_sliced_lis[i]['C0_LLC0_HIT']  = 0\n",
    "    gp_sliced_lis[i]['C1_LLC0_HIT']  = 0\n",
    "    gp_sliced_lis[i]['C0_LLC1_MPKI'] = gp_sliced_preprocessed_result[i][1][0][2][3][3]\n",
    "    gp_sliced_lis[i]['C1_LLC1_MPKI'] = gp_sliced_preprocessed_result[i][1][1][2][3][3]\n",
    "    gp_sliced_lis[i]['C0_L2_MPKI'] =  gp_sliced_preprocessed_result[i][1][0][2][2][3]\n",
    "    gp_sliced_lis[i]['C1_L2_MPKI'] =  gp_sliced_preprocessed_result[i][1][1][2][2][3]\n",
    "    \n",
    "for i in range(0,len(mc_sliced_lis)):\n",
    "    mc_sliced_lis[i]['INST'] =  mc_sliced_preprocessed_result[i][0]\n",
    "    mc_sliced_lis[i]['C0_L2_MISS'] = mc_sliced_preprocessed_result[i][1][0][2][2][2]\n",
    "    mc_sliced_lis[i]['C1_L2_MISS']=  mc_sliced_preprocessed_result[i][1][1][2][2][2]\n",
    "    mc_sliced_lis[i]['C0_L2_HIT'] =  mc_sliced_preprocessed_result[i][1][0][2][2][1]\n",
    "    mc_sliced_lis[i]['C1_L2_HIT'] =  mc_sliced_preprocessed_result[i][1][1][2][2][1]\n",
    "    mc_sliced_lis[i]['C0_LLC1_MISS']= mc_sliced_preprocessed_result[i][1][0][2][3][2]\n",
    "    mc_sliced_lis[i]['C1_LLC1_MISS'] =  mc_sliced_preprocessed_result[i][1][1][2][3][2]\n",
    "    mc_sliced_lis[i]['C0_LLC0_ACCESS'] = 0\n",
    "    mc_sliced_lis[i]['C1_LLC0_ACCESS'] = 0\n",
    "    mc_sliced_lis[i]['C0_LLC1_HIT'] = mc_sliced_preprocessed_result[i][1][0][2][3][1]\n",
    "    mc_sliced_lis[i]['C1_LLC1_HIT'] = mc_sliced_preprocessed_result[i][1][1][2][3][1]\n",
    "    mc_sliced_lis[i]['C0_IPC']=  mc_sliced_preprocessed_result[i][1][0][1]\n",
    "    mc_sliced_lis[i]['C1_IPC'] = mc_sliced_preprocessed_result[i][1][1][1]\n",
    "    mc_sliced_lis[i]['C0_MPKI']=  mc_sliced_preprocessed_result[i][1][0][0]\n",
    "    mc_sliced_lis[i]['C1_MPKI'] = mc_sliced_preprocessed_result[i][1][1][0]\n",
    "    mc_sliced_lis[i]['C0_LLC0_MISS'] = 0\n",
    "    mc_sliced_lis[i]['C1_LLC0_MISS'] = 0\n",
    "    mc_sliced_lis[i]['C0_LLC1_ACCESS'] = mc_sliced_preprocessed_result[i][1][0][2][3][0]\n",
    "    mc_sliced_lis[i]['C1_LLC1_ACCESS'] =  mc_sliced_preprocessed_result[i][1][1][2][3][0]\n",
    "    mc_sliced_lis[i]['C0_L2_ACCESS'] =  mc_sliced_preprocessed_result[i][1][0][2][2][0]\n",
    "    mc_sliced_lis[i]['C1_L2_ACCESS'] =  mc_sliced_preprocessed_result[i][1][1][2][2][0]\n",
    "    mc_sliced_lis[i]['C0_LLC0_HIT']  = 0\n",
    "    mc_sliced_lis[i]['C1_LLC0_HIT']  = 0\n",
    "    mc_sliced_lis[i]['C0_LLC1_MPKI'] = mc_sliced_preprocessed_result[i][1][0][2][3][3]\n",
    "    mc_sliced_lis[i]['C1_LLC1_MPKI'] = mc_sliced_preprocessed_result[i][1][1][2][3][3]\n",
    "    mc_sliced_lis[i]['C0_L2_MPKI'] =  mc_sliced_preprocessed_result[i][1][0][2][2][3]\n",
    "    mc_sliced_lis[i]['C1_L2_MPKI'] =  mc_sliced_preprocessed_result[i][1][1][2][2][3]\n",
    "    \n",
    "    \n",
    "for i in range(0,len(bo_sliced_lis)):\n",
    "    bo_sliced_lis[i]['INST'] =  bo_sliced_preprocessed_result[i][0]\n",
    "    bo_sliced_lis[i]['C0_L2_MISS'] = bo_sliced_preprocessed_result[i][1][0][2][2][2]\n",
    "    bo_sliced_lis[i]['C1_L2_MISS']=  bo_sliced_preprocessed_result[i][1][1][2][2][2]\n",
    "    bo_sliced_lis[i]['C0_L2_HIT'] =  bo_sliced_preprocessed_result[i][1][0][2][2][1]\n",
    "    bo_sliced_lis[i]['C1_L2_HIT'] =  bo_sliced_preprocessed_result[i][1][1][2][2][1]\n",
    "    bo_sliced_lis[i]['C0_LLC1_MISS']= bo_sliced_preprocessed_result[i][1][0][2][3][2]\n",
    "    bo_sliced_lis[i]['C1_LLC1_MISS'] =  bo_sliced_preprocessed_result[i][1][1][2][3][2]\n",
    "    bo_sliced_lis[i]['C0_LLC0_ACCESS'] = 0\n",
    "    bo_sliced_lis[i]['C1_LLC0_ACCESS'] = 0\n",
    "    bo_sliced_lis[i]['C0_LLC1_HIT'] = bo_sliced_preprocessed_result[i][1][0][2][3][1]\n",
    "    bo_sliced_lis[i]['C1_LLC1_HIT'] = bo_sliced_preprocessed_result[i][1][1][2][3][1]\n",
    "    bo_sliced_lis[i]['C0_IPC']=  bo_sliced_preprocessed_result[i][1][0][1]\n",
    "    bo_sliced_lis[i]['C1_IPC'] = bo_sliced_preprocessed_result[i][1][1][1]\n",
    "    bo_sliced_lis[i]['C0_MPKI']=  bo_sliced_preprocessed_result[i][1][0][0]\n",
    "    bo_sliced_lis[i]['C1_MPKI'] = bo_sliced_preprocessed_result[i][1][1][0]\n",
    "    bo_sliced_lis[i]['C0_LLC0_MISS'] = 0\n",
    "    bo_sliced_lis[i]['C1_LLC0_MISS'] = 0\n",
    "    bo_sliced_lis[i]['C0_LLC1_ACCESS'] = bo_sliced_preprocessed_result[i][1][0][2][3][0]\n",
    "    bo_sliced_lis[i]['C1_LLC1_ACCESS'] =  bo_sliced_preprocessed_result[i][1][1][2][3][0]\n",
    "    bo_sliced_lis[i]['C0_L2_ACCESS'] =  bo_sliced_preprocessed_result[i][1][0][2][2][0]\n",
    "    bo_sliced_lis[i]['C1_L2_ACCESS'] =  bo_sliced_preprocessed_result[i][1][1][2][2][0]\n",
    "    bo_sliced_lis[i]['C0_LLC0_HIT']  = 0\n",
    "    bo_sliced_lis[i]['C1_LLC0_HIT']  = 0\n",
    "    bo_sliced_lis[i]['C0_LLC1_MPKI'] = bo_sliced_preprocessed_result[i][1][0][2][3][3]\n",
    "    bo_sliced_lis[i]['C1_LLC1_MPKI'] = bo_sliced_preprocessed_result[i][1][1][2][3][3]\n",
    "    bo_sliced_lis[i]['C0_L2_MPKI'] =  bo_sliced_preprocessed_result[i][1][0][2][2][3]\n",
    "    bo_sliced_lis[i]['C1_L2_MPKI'] =  bo_sliced_preprocessed_result[i][1][1][2][2][3]"
   ]
  },
  {
   "cell_type": "code",
   "execution_count": 43,
   "metadata": {},
   "outputs": [],
   "source": [
    "for i in range(0,len(mc_shared_lis)):\n",
    "    mc_shared_lis[i]['INST'] =  mc_shared_preprocessed_result[i][0]\n",
    "    mc_shared_lis[i]['C0_L2_MISS'] = mc_shared_preprocessed_result[i][1][0][2][2][2]\n",
    "    mc_shared_lis[i]['C1_L2_MISS']=  mc_shared_preprocessed_result[i][1][1][2][2][2]\n",
    "    mc_shared_lis[i]['C0_L2_HIT'] =  mc_shared_preprocessed_result[i][1][0][2][2][1]\n",
    "    mc_shared_lis[i]['C1_L2_HIT'] =  mc_shared_preprocessed_result[i][1][1][2][2][1]\n",
    "    mc_shared_lis[i]['C0_LLC_MISS']= mc_shared_preprocessed_result[i][1][0][2][3][2]\n",
    "    mc_shared_lis[i]['C1_LLC_MISS'] =  mc_shared_preprocessed_result[i][1][1][2][3][2]\n",
    "    mc_shared_lis[i]['C0_LLC_HIT'] = mc_shared_preprocessed_result[i][1][0][2][3][1]\n",
    "    mc_shared_lis[i]['C1_LLC_HIT'] = mc_shared_preprocessed_result[i][1][1][2][3][1]\n",
    "    mc_shared_lis[i]['C0_IPC']=  mc_shared_preprocessed_result[i][1][0][1]\n",
    "    mc_shared_lis[i]['C1_IPC'] = mc_shared_preprocessed_result[i][1][1][1]\n",
    "    mc_shared_lis[i]['C0_MPKI']=  mc_shared_preprocessed_result[i][1][0][0]\n",
    "    mc_shared_lis[i]['C1_MPKI'] = mc_shared_preprocessed_result[i][1][1][0]\n",
    "    mc_shared_lis[i]['C0_LLC_ACCESS'] = mc_shared_preprocessed_result[i][1][0][2][3][0]\n",
    "    mc_shared_lis[i]['C1_LLC_ACCESS'] =  mc_shared_preprocessed_result[i][1][1][2][3][0]\n",
    "    mc_shared_lis[i]['C0_L2_ACCESS'] =  mc_shared_preprocessed_result[i][1][0][2][2][0]\n",
    "    mc_shared_lis[i]['C1_L2_ACCESS'] =  mc_shared_preprocessed_result[i][1][1][2][2][0]\n",
    "    mc_shared_lis[i]['C0_LLC_MPKI'] = mc_shared_preprocessed_result[i][1][0][2][3][3]\n",
    "    mc_shared_lis[i]['C1_LLC_MPKI'] = mc_shared_preprocessed_result[i][1][1][2][3][3]\n",
    "    mc_shared_lis[i]['C0_L2_MPKI'] =  mc_shared_preprocessed_result[i][1][0][2][2][3]\n",
    "    mc_shared_lis[i]['C1_L2_MPKI'] =  mc_shared_preprocessed_result[i][1][1][2][2][3]\n",
    "    \n",
    "    \n",
    "for i in range(0,len(gp_shared_lis)):\n",
    "    gp_shared_lis[i]['INST'] =  gp_shared_preprocessed_result[i][0]\n",
    "    gp_shared_lis[i]['C0_L2_MISS'] = gp_shared_preprocessed_result[i][1][0][2][2][2]\n",
    "    gp_shared_lis[i]['C1_L2_MISS']=  gp_shared_preprocessed_result[i][1][1][2][2][2]\n",
    "    gp_shared_lis[i]['C0_L2_HIT'] =  gp_shared_preprocessed_result[i][1][0][2][2][1]\n",
    "    gp_shared_lis[i]['C1_L2_HIT'] =  gp_shared_preprocessed_result[i][1][1][2][2][1]\n",
    "    gp_shared_lis[i]['C0_LLC_MISS']= gp_shared_preprocessed_result[i][1][0][2][3][2]\n",
    "    gp_shared_lis[i]['C1_LLC_MISS'] =  gp_shared_preprocessed_result[i][1][1][2][3][2]\n",
    "    gp_shared_lis[i]['C0_LLC_HIT'] = gp_shared_preprocessed_result[i][1][0][2][3][1]\n",
    "    gp_shared_lis[i]['C1_LLC_HIT'] = gp_shared_preprocessed_result[i][1][1][2][3][1]\n",
    "    gp_shared_lis[i]['C0_IPC']=  gp_shared_preprocessed_result[i][1][0][1]\n",
    "    gp_shared_lis[i]['C1_IPC'] = gp_shared_preprocessed_result[i][1][1][1]\n",
    "    gp_shared_lis[i]['C0_MPKI']=  gp_shared_preprocessed_result[i][1][0][0]\n",
    "    gp_shared_lis[i]['C1_MPKI'] = gp_shared_preprocessed_result[i][1][1][0]\n",
    "    gp_shared_lis[i]['C0_LLC_ACCESS'] = gp_shared_preprocessed_result[i][1][0][2][3][0]\n",
    "    gp_shared_lis[i]['C1_LLC_ACCESS'] =  gp_shared_preprocessed_result[i][1][1][2][3][0]\n",
    "    gp_shared_lis[i]['C0_L2_ACCESS'] =  gp_shared_preprocessed_result[i][1][0][2][2][0]\n",
    "    gp_shared_lis[i]['C1_L2_ACCESS'] =  gp_shared_preprocessed_result[i][1][1][2][2][0]\n",
    "    gp_shared_lis[i]['C0_LLC_MPKI'] = gp_shared_preprocessed_result[i][1][0][2][3][3]\n",
    "    gp_shared_lis[i]['C1_LLC_MPKI'] = gp_shared_preprocessed_result[i][1][1][2][3][3]\n",
    "    gp_shared_lis[i]['C0_L2_MPKI'] =  gp_shared_preprocessed_result[i][1][0][2][2][3]\n",
    "    gp_shared_lis[i]['C1_L2_MPKI'] =  gp_shared_preprocessed_result[i][1][1][2][2][3]\n",
    "    \n",
    "for i in range(0,len(bo_shared_lis)):\n",
    "    bo_shared_lis[i]['INST'] =  bo_shared_preprocessed_result[i][0]\n",
    "    bo_shared_lis[i]['C0_L2_MISS'] = bo_shared_preprocessed_result[i][1][0][2][2][2]\n",
    "    bo_shared_lis[i]['C1_L2_MISS']=  bo_shared_preprocessed_result[i][1][1][2][2][2]\n",
    "    bo_shared_lis[i]['C0_L2_HIT'] =  bo_shared_preprocessed_result[i][1][0][2][2][1]\n",
    "    bo_shared_lis[i]['C1_L2_HIT'] =  bo_shared_preprocessed_result[i][1][1][2][2][1]\n",
    "    bo_shared_lis[i]['C0_LLC_MISS']= bo_shared_preprocessed_result[i][1][0][2][3][2]\n",
    "    bo_shared_lis[i]['C1_LLC_MISS'] =  bo_shared_preprocessed_result[i][1][1][2][3][2]\n",
    "    bo_shared_lis[i]['C0_LLC_HIT'] = bo_shared_preprocessed_result[i][1][0][2][3][1]\n",
    "    bo_shared_lis[i]['C1_LLC_HIT'] = bo_shared_preprocessed_result[i][1][1][2][3][1]\n",
    "    bo_shared_lis[i]['C0_IPC']=  bo_shared_preprocessed_result[i][1][0][1]\n",
    "    bo_shared_lis[i]['C1_IPC'] = bo_shared_preprocessed_result[i][1][1][1]\n",
    "    bo_shared_lis[i]['C0_MPKI']=  bo_shared_preprocessed_result[i][1][0][0]\n",
    "    bo_shared_lis[i]['C1_MPKI'] = bo_shared_preprocessed_result[i][1][1][0]\n",
    "    bo_shared_lis[i]['C0_LLC_ACCESS'] = bo_shared_preprocessed_result[i][1][0][2][3][0]\n",
    "    bo_shared_lis[i]['C1_LLC_ACCESS'] =  bo_shared_preprocessed_result[i][1][1][2][3][0]\n",
    "    bo_shared_lis[i]['C0_L2_ACCESS'] =  bo_shared_preprocessed_result[i][1][0][2][2][0]\n",
    "    bo_shared_lis[i]['C1_L2_ACCESS'] =  bo_shared_preprocessed_result[i][1][1][2][2][0]\n",
    "    bo_shared_lis[i]['C0_LLC_MPKI'] = bo_shared_preprocessed_result[i][1][0][2][3][3]\n",
    "    bo_shared_lis[i]['C1_LLC_MPKI'] = bo_shared_preprocessed_result[i][1][1][2][3][3]\n",
    "    bo_shared_lis[i]['C0_L2_MPKI'] =  bo_shared_preprocessed_result[i][1][0][2][2][3]\n",
    "    bo_shared_lis[i]['C1_L2_MPKI'] =  bo_shared_preprocessed_result[i][1][1][2][2][3]"
   ]
  },
  {
   "cell_type": "code",
   "execution_count": 51,
   "metadata": {},
   "outputs": [
    {
     "data": {
      "text/plain": [
       "[{'INST': 100000000,\n",
       "  'C0_LLC1_MISS': 489790,\n",
       "  'C1_LLC1_MISS': 490515,\n",
       "  'C0_LLC1_ACCESS': 1021025,\n",
       "  'C1_LLC1_ACCESS': 1016911,\n",
       "  'C0_LLC1_MPKI': 4.8979,\n",
       "  'C1_LLC1_MPKI': 4.90515,\n",
       "  'C0_LLC0_MISS': 0,\n",
       "  'C1_LLC0_MISS': 0,\n",
       "  'C0_LLC0_MPKI': 0,\n",
       "  'C1_LLC0_MPKI': 0,\n",
       "  'C0_L2_MPKI': 17.27881,\n",
       "  'C1_L2_MPKI': 13.69725,\n",
       "  'C0_LLC0_HIT': 0,\n",
       "  'C1_LLC0_HIT': 0,\n",
       "  'C0_LLC0_ACCESS': 0,\n",
       "  'C1_LLC0_ACCESS': 0,\n",
       "  'C0_L2_HIT': 110,\n",
       "  'C1_L2_HIT': 1459801,\n",
       "  'C0_L2_MISS': 1727881,\n",
       "  'C1_L2_MISS': 1369725,\n",
       "  'C0_LLC1_HIT': 531235,\n",
       "  'C1_LLC1_HIT': 526396,\n",
       "  'C0_MPKI': 46.4826,\n",
       "  'C1_MPKI': 12.0475,\n",
       "  'C0_L2_ACCESS': 1727991,\n",
       "  'C1_L2_ACCESS': 2829526,\n",
       "  'C0_IPC': 1.02776,\n",
       "  'C1_IPC': 0.397855},\n",
       " {'INST': 100000000,\n",
       "  'C0_LLC1_MISS': 831353,\n",
       "  'C1_LLC1_MISS': 831351,\n",
       "  'C0_LLC1_ACCESS': 1020493,\n",
       "  'C1_LLC1_ACCESS': 1016729,\n",
       "  'C0_LLC1_MPKI': 8.31353,\n",
       "  'C1_LLC1_MPKI': 8.31351,\n",
       "  'C0_LLC0_MISS': 0,\n",
       "  'C1_LLC0_MISS': 0,\n",
       "  'C0_LLC0_MPKI': 0,\n",
       "  'C1_LLC0_MPKI': 0,\n",
       "  'C0_L2_MPKI': 17.2788,\n",
       "  'C1_L2_MPKI': 13.69751,\n",
       "  'C0_LLC0_HIT': 0,\n",
       "  'C1_LLC0_HIT': 0,\n",
       "  'C0_LLC0_ACCESS': 0,\n",
       "  'C1_LLC0_ACCESS': 0,\n",
       "  'C0_L2_HIT': 111,\n",
       "  'C1_L2_HIT': 1459077,\n",
       "  'C0_L2_MISS': 1727880,\n",
       "  'C1_L2_MISS': 1369751,\n",
       "  'C0_LLC1_HIT': 189140,\n",
       "  'C1_LLC1_HIT': 185378,\n",
       "  'C0_MPKI': 46.2118,\n",
       "  'C1_MPKI': 12.0475,\n",
       "  'C0_L2_ACCESS': 1727991,\n",
       "  'C1_L2_ACCESS': 2828828,\n",
       "  'C0_IPC': 0.990368,\n",
       "  'C1_IPC': 0.337612},\n",
       " {'INST': 100000000,\n",
       "  'C0_LLC1_MISS': 615667,\n",
       "  'C1_LLC1_MISS': 615120,\n",
       "  'C0_LLC1_ACCESS': 1020691,\n",
       "  'C1_LLC1_ACCESS': 1016937,\n",
       "  'C0_LLC1_MPKI': 6.15667,\n",
       "  'C1_LLC1_MPKI': 6.1512,\n",
       "  'C0_LLC0_MISS': 0,\n",
       "  'C1_LLC0_MISS': 0,\n",
       "  'C0_LLC0_MPKI': 0,\n",
       "  'C1_LLC0_MPKI': 0,\n",
       "  'C0_L2_MPKI': 17.27883,\n",
       "  'C1_L2_MPKI': 13.69854,\n",
       "  'C0_LLC0_HIT': 0,\n",
       "  'C1_LLC0_HIT': 0,\n",
       "  'C0_LLC0_ACCESS': 0,\n",
       "  'C1_LLC0_ACCESS': 0,\n",
       "  'C0_L2_HIT': 108,\n",
       "  'C1_L2_HIT': 1459158,\n",
       "  'C0_L2_MISS': 1727883,\n",
       "  'C1_L2_MISS': 1369854,\n",
       "  'C0_LLC1_HIT': 405024,\n",
       "  'C1_LLC1_HIT': 401817,\n",
       "  'C0_MPKI': 46.3042,\n",
       "  'C1_MPKI': 12.0475,\n",
       "  'C0_L2_ACCESS': 1727991,\n",
       "  'C1_L2_ACCESS': 2829012,\n",
       "  'C0_IPC': 1.00641,\n",
       "  'C1_IPC': 0.358338},\n",
       " {'INST': 100000000,\n",
       "  'C0_LLC1_MISS': 536889,\n",
       "  'C1_LLC1_MISS': 536839,\n",
       "  'C0_LLC1_ACCESS': 1020973,\n",
       "  'C1_LLC1_ACCESS': 1017116,\n",
       "  'C0_LLC1_MPKI': 5.36889,\n",
       "  'C1_LLC1_MPKI': 5.36839,\n",
       "  'C0_LLC0_MISS': 0,\n",
       "  'C1_LLC0_MISS': 0,\n",
       "  'C0_LLC0_MPKI': 0,\n",
       "  'C1_LLC0_MPKI': 0,\n",
       "  'C0_L2_MPKI': 17.27889,\n",
       "  'C1_L2_MPKI': 13.69839,\n",
       "  'C0_LLC0_HIT': 0,\n",
       "  'C1_LLC0_HIT': 0,\n",
       "  'C0_LLC0_ACCESS': 0,\n",
       "  'C1_LLC0_ACCESS': 0,\n",
       "  'C0_L2_HIT': 103,\n",
       "  'C1_L2_HIT': 1459636,\n",
       "  'C0_L2_MISS': 1727889,\n",
       "  'C1_L2_MISS': 1369839,\n",
       "  'C0_LLC1_HIT': 484084,\n",
       "  'C1_LLC1_HIT': 480277,\n",
       "  'C0_MPKI': 46.392,\n",
       "  'C1_MPKI': 12.0475,\n",
       "  'C0_L2_ACCESS': 1727992,\n",
       "  'C1_L2_ACCESS': 2829475,\n",
       "  'C0_IPC': 1.01947,\n",
       "  'C1_IPC': 0.377872}]"
      ]
     },
     "execution_count": 51,
     "metadata": {},
     "output_type": "execute_result"
    }
   ],
   "source": [
    "bo_sliced_lis"
   ]
  },
  {
   "cell_type": "code",
   "execution_count": 49,
   "metadata": {},
   "outputs": [
    {
     "data": {
      "image/png": "[encoded data removed]",
      "text/plain": [
       "<Figure size 432x288 with 1 Axes>"
      ]
     },
     "metadata": {
      "needs_background": "light"
     },
     "output_type": "display_data"
    }
   ],
   "source": [
    "x=[2,4,8,16]\n",
    "plt.title('MPKI_L1D PART 2')\n",
    "plt.plot(x,fun(bo_sliced_lis,'C0_IPC'), 'r' ,marker='o',label=\"malloc\")\n",
    "plt.plot(x,fun(bo_shared_lis,'C0_IPC'), 'b' ,marker='o',label='mmap')\n",
    "plt.grid()\n",
    "plt.legend(loc='best')\n",
    "plt.show()"
   ]
  },
  {
   "cell_type": "code",
   "execution_count": 52,
   "metadata": {},
   "outputs": [
    {
     "data": {
      "image/png": "[encoded data removed]",
      "text/plain": [
       "<Figure size 432x288 with 1 Axes>"
      ]
     },
     "metadata": {
      "needs_background": "light"
     },
     "output_type": "display_data"
    }
   ],
   "source": [
    "x=[2,4,8,16]\n",
    "plt.title('MPKI_L1D PART 2')\n",
    "plt.plot(x,fun(bo_sliced_lis,'C0_LLC1_MPKI'), 'r' ,marker='o',label=\"malloc\")\n",
    "plt.plot(x,fun(bo_shared_lis,'C0_LLC_MPKI'), 'b' ,marker='o',label='mmap')\n",
    "plt.grid()\n",
    "plt.legend(loc='best')\n",
    "plt.show()"
   ]
  },
  {
   "cell_type": "code",
   "execution_count": 56,
   "metadata": {},
   "outputs": [
    {
     "data": {
      "text/plain": [
       "<matplotlib.legend.Legend at 0x7f7617664a00>"
      ]
     },
     "execution_count": 56,
     "metadata": {},
     "output_type": "execute_result"
    },
    {
     "data": {
      "image/png": "[encoded data removed]",
      "text/plain": [
       "<Figure size 864x576 with 1 Axes>"
      ]
     },
     "metadata": {
      "needs_background": "light"
     },
     "output_type": "display_data"
    }
   ],
   "source": [
    "fig, ax = plt.subplots(figsize=(12, 8))\n",
    "x = np.arange(4)\n",
    "\n",
    "# Define bar width. We'll use this to offset the second bar.\n",
    "bar_width = 0.4\n",
    "\n",
    "# Note we add the `width` parameter now which sets the width of each bar.\n",
    "b1 = ax.bar(x, fun(bo_sliced_lis,'C0_LLC1_MPKI'), width=bar_width,label='shared' )\n",
    "# Same thing, but offset the x by the width of the bar.\n",
    "b2 = ax.bar(x + bar_width, fun(bo_shared_lis,'C0_LLC_MPKI'), width=bar_width, label='sliced')\n",
    "\n",
    "# Fix the x-axes.\n",
    "ax.set_xticks(x + bar_width / 2)\n",
    "ax.set_xticklabels([\"mcf (mcf-wrf) \", \"mcf (mcf-cuctu)\", \"gcc(gcc-perl)\", \"bwaves(bwaves-omen)\"])\n",
    "# Add legend.\n",
    "ax.legend()"
   ]
  },
  {
   "cell_type": "code",
   "execution_count": 162,
   "metadata": {},
   "outputs": [
    {
     "data": {
      "text/plain": [
       "<matplotlib.legend.Legend at 0x7f76861f9820>"
      ]
     },
     "execution_count": 162,
     "metadata": {},
     "output_type": "execute_result"
    },
    {
     "data": {
      "image/png": "[encoded data removed]",
      "text/plain": [
       "<Figure size 864x576 with 1 Axes>"
      ]
     },
     "metadata": {
      "needs_background": "light"
     },
     "output_type": "display_data"
    }
   ],
   "source": [
    "fig, ax = plt.subplots(figsize=(12, 8))\n",
    "x = np.arange(5)\n",
    "\n",
    "# Define bar width. We'll use this to offset the second bar.\n",
    "bar_width = 0.4\n",
    "\n",
    "# Note we add the `width` parameter now which sets the width of each bar.\n",
    "b1 = ax.bar(x, fun(sliced_lis,'C0_LLC1_MPKI'), width=bar_width,label='shared' )\n",
    "# Same thing, but offset the x by the width of the bar.\n",
    "b2 = ax.bar(x + bar_width, fun(shared_lis,'C0_LLC_MPKI'), width=bar_width, label='sliced')\n",
    "\n",
    "# Fix the x-axes.\n",
    "ax.set_xticks(x + bar_width / 2)\n",
    "\n",
    "ax.set_xticklabels(find_labels1(shared_preprocessed_files))\n",
    "# Add legend.\n",
    "ax.legend()"
   ]
  },
  {
   "cell_type": "code",
   "execution_count": 115,
   "metadata": {},
   "outputs": [
    {
     "data": {
      "text/plain": [
       "17.2788"
      ]
     },
     "execution_count": 115,
     "metadata": {},
     "output_type": "execute_result"
    }
   ],
   "source": [
    "shared_lis[0]['C0_L2_MPKI']"
   ]
  },
  {
   "cell_type": "code",
   "execution_count": 148,
   "metadata": {},
   "outputs": [],
   "source": [
    "x =\"sas_ewd\".split(\"_\")[0]"
   ]
  },
  {
   "cell_type": "code",
   "execution_count": 149,
   "metadata": {},
   "outputs": [
    {
     "data": {
      "text/plain": [
       "'sas'"
      ]
     },
     "execution_count": 149,
     "metadata": {},
     "output_type": "execute_result"
    }
   ],
   "source": [
    "x"
   ]
  },
  {
   "cell_type": "code",
   "execution_count": null,
   "metadata": {},
   "outputs": [],
   "source": []
  }
 ],
 "metadata": {
  "kernelspec": {
   "display_name": "Python 3",
   "language": "python",
   "name": "python3"
  },
  "language_info": {
   "codemirror_mode": {
    "name": "ipython",
    "version": 3
   },
   "file_extension": ".py",
   "mimetype": "text/x-python",
   "name": "python",
   "nbconvert_exporter": "python",
   "pygments_lexer": "ipython3",
   "version": "3.8.10"
  }
 },
 "nbformat": 4,
 "nbformat_minor": 5
}
