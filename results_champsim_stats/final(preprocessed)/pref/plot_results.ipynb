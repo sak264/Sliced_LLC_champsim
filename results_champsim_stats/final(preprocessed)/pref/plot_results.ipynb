{
 "cells": [
  {
   "cell_type": "code",
   "execution_count": 44,
   "metadata": {},
   "outputs": [
    {
     "data": {
      "text/plain": [
       "'\\nUsage details:\\nStep 1: Get preprocessed data using get_data.sh script.\\n    a. Verify that all the files in a particular directory have valid content.\\n       If some file doesn\\'t have complete data then the script will output empty data.\\n    b. Run the script like \"get_data.sh file.txt num_cores is_shared\". is_shared is 1 if\\n       the results are for shared llc, 0 otherwise. This has to be done for each file.\\n       for FILE in *; do get_data.sh file.txt num_cores is_shared; done\\n    c. The above step will generate file_preprocessed.txt in a folder named \"preprocessed_results\" \\n    for different file_names. Move the results in the desired place.\\nStep 2:\\n    a. List the two data points to compare and corresponding directories.\\n    b. Get the processed_data for each file for each of the two data points.\\n       Signature : process_file(file, num_core)\\n       Data point structure:\\n       For each data point(e.g.\"shared\", \"sliced\"):\\n       [ [(sim_inst_count, cpu_data)] for each file in a data point]\\n       cpu_data structure\\n       [(global_mpki, ipc, cache_data) for each cpu]\\n       cache_data structure:\\n       [[total_access, hit, miss, mpki] for each cache] : 4x4\\n    c. Use the processed data as needed.\\n'"
      ]
     },
     "execution_count": 44,
     "metadata": {},
     "output_type": "execute_result"
    }
   ],
   "source": [
    "\"\"\"\n",
    "Usage details:\n",
    "Step 1: Get preprocessed data using get_data.sh script.\n",
    "    a. Verify that all the files in a particular directory have valid content.\n",
    "       If some file doesn't have complete data then the script will output empty data.\n",
    "    b. Run the script like \"get_data.sh file.txt num_cores is_shared\". is_shared is 1 if\n",
    "       the results are for shared llc, 0 otherwise. This has to be done for each file.\n",
    "       for FILE in *; do get_data.sh file.txt num_cores is_shared; done\n",
    "    c. The above step will generate file_preprocessed.txt in a folder named \"preprocessed_results\" \n",
    "    for different file_names. Move the results in the desired place.\n",
    "Step 2:\n",
    "    a. List the two data points to compare and corresponding directories.\n",
    "    b. Get the processed_data for each file for each of the two data points.\n",
    "       Signature : process_file(file, num_core)\n",
    "       Data point structure:\n",
    "       For each data point(e.g.\"shared\", \"sliced\"):\n",
    "       [ [(sim_inst_count, cpu_data)] for each file in a data point]\n",
    "       cpu_data structure\n",
    "       [(global_mpki, ipc, cache_data) for each cpu]\n",
    "       cache_data structure:\n",
    "       [[total_access, hit, miss, mpki] for each cache] : 4x4\n",
    "    c. Use the processed data as needed.\n",
    "\"\"\""
   ]
  },
  {
   "cell_type": "code",
   "execution_count": 45,
   "metadata": {},
   "outputs": [],
   "source": [
    "def add(l1,l2):\n",
    "    temp = []\n",
    "    for i in range(0,len(l1)):\n",
    "        temp.append(l1[i]+l2[i])\n",
    "    return temp"
   ]
  },
  {
   "cell_type": "code",
   "execution_count": 46,
   "metadata": {},
   "outputs": [],
   "source": [
    "def find_labels1(x):\n",
    "    temp = []\n",
    "    for i in range(len(x)):\n",
    "        a = x[i].split('_')[0]\n",
    "        temp.append(a.split('-')[0] + '(' +  a + ')')\n",
    "        \n",
    "    return temp"
   ]
  },
  {
   "cell_type": "code",
   "execution_count": 47,
   "metadata": {},
   "outputs": [],
   "source": [
    "def find_labels2(x):\n",
    "    \n",
    "    temp = [] \n",
    "    for i in range(len(x)):\n",
    "        a = x[i].split('_')[0]\n",
    "        temp.append(a.split('-')[1] + '(' +  a + ')')\n",
    "        \n",
    "    return temp"
   ]
  },
  {
   "cell_type": "code",
   "execution_count": 48,
   "metadata": {},
   "outputs": [],
   "source": [
    "import numpy as np"
   ]
  },
  {
   "cell_type": "code",
   "execution_count": 49,
   "metadata": {},
   "outputs": [],
   "source": [
    "import matplotlib.pyplot as plt"
   ]
  },
  {
   "cell_type": "code",
   "execution_count": 50,
   "metadata": {},
   "outputs": [],
   "source": [
    "import os"
   ]
  },
  {
   "cell_type": "code",
   "execution_count": 51,
   "metadata": {},
   "outputs": [
    {
     "data": {
      "text/plain": [
       "['pref-of_shared',\n",
       " 'pref-on_sliced',\n",
       " '__pycache__',\n",
       " 'process_data2.py',\n",
       " 'pref-of_sliced',\n",
       " '.ipynb_checkpoints',\n",
       " 'plot_results.ipynb',\n",
       " 'pref-on_shared',\n",
       " 'process_data1.py']"
      ]
     },
     "execution_count": 51,
     "metadata": {},
     "output_type": "execute_result"
    }
   ],
   "source": [
    "os.listdir()"
   ]
  },
  {
   "cell_type": "code",
   "execution_count": 52,
   "metadata": {},
   "outputs": [],
   "source": [
    "from process_data1 import process_file1\n",
    "from process_data2 import process_file2"
   ]
  },
  {
   "cell_type": "code",
   "execution_count": 53,
   "metadata": {},
   "outputs": [],
   "source": [
    "\n",
    "pon_sliced_dir = \"pref-on_sliced\"\n",
    "\n",
    "pof_sliced_dir = \"pref-of_sliced\"\n",
    "\n",
    "pon_shared_dir = \"pref-on_shared\"\n",
    "pof_shared_dir = \"pref-of_shared\"\n",
    "\n",
    "\"\"\"\n",
    "The processed files must be defined manually like :\n",
    "shared_preprocessed_files = [\"file1.txt\", \"file2.txt\", ...].\n",
    "\n",
    "The result will be in the same order as the files.\n",
    "\"\"\" \n",
    "\n",
    "pon_sliced_preprocessed_files = os.listdir(pon_sliced_dir)\n",
    "\n",
    "\n",
    "pof_sliced_preprocessed_files = os.listdir(pof_sliced_dir)\n",
    "\n",
    "pon_shared_preprocessed_files = os.listdir(pon_shared_dir)\n",
    "\n",
    "\n",
    "pof_shared_preprocessed_files = os.listdir(pof_shared_dir)\n",
    "\n"
   ]
  },
  {
   "cell_type": "code",
   "execution_count": 54,
   "metadata": {},
   "outputs": [],
   "source": [
    "pon_sliced_preprocessed_files.sort()\n",
    "pof_sliced_preprocessed_files.sort()\n",
    "pon_shared_preprocessed_files.sort()\n",
    "pof_shared_preprocessed_files.sort()"
   ]
  },
  {
   "cell_type": "code",
   "execution_count": 55,
   "metadata": {},
   "outputs": [
    {
     "data": {
      "text/plain": [
       "['bwaves-omen_preprocessed.txt',\n",
       " 'gcc_perl_preprocessed.txt',\n",
       " 'mcf-cactu_preprocessed.txt']"
      ]
     },
     "execution_count": 55,
     "metadata": {},
     "output_type": "execute_result"
    }
   ],
   "source": [
    "pon_sliced_preprocessed_files"
   ]
  },
  {
   "cell_type": "code",
   "execution_count": 56,
   "metadata": {},
   "outputs": [
    {
     "name": "stdout",
     "output_type": "stream",
     "text": [
      "38.5211\n",
      "11.9298\n",
      "12.5499\n",
      "6.62145\n",
      "0.00347583\n",
      "4.04107\n",
      "38.0318\n",
      "11.9298\n",
      "19.5696\n",
      "6.28382\n",
      "0.00347251\n",
      "4.04107\n"
     ]
    }
   ],
   "source": [
    "pon_sliced_preprocessed_result = []\n",
    "for file in pon_sliced_preprocessed_files:\n",
    "    file_path = os.path.join(pon_sliced_dir, file)\n",
    "    sim_inst_count, cpu_data = process_file1(file_path, 2)\n",
    "    pon_sliced_preprocessed_result.append((sim_inst_count, cpu_data))\n",
    "\n",
    "    \n",
    "pof_sliced_preprocessed_result = []\n",
    "for file in pof_sliced_preprocessed_files:\n",
    "    file_path = os.path.join(pof_sliced_dir, file)\n",
    "    sim_inst_count, cpu_data = process_file1(file_path, 2)\n",
    "    pof_sliced_preprocessed_result.append((sim_inst_count, cpu_data))\n",
    "\n",
    "    \n",
    "pon_shared_preprocessed_result = []\n",
    "for file in pon_shared_preprocessed_files:\n",
    "    file_path = os.path.join(pon_shared_dir, file)\n",
    "    sim_inst_count, cpu_data = process_file2(file_path, 2)\n",
    "    pon_shared_preprocessed_result.append((sim_inst_count, cpu_data))\n",
    "\n",
    "    \n",
    "pof_shared_preprocessed_result = []\n",
    "for file in pof_shared_preprocessed_files:\n",
    "    file_path = os.path.join(pof_shared_dir, file)\n",
    "    sim_inst_count, cpu_data = process_file2(file_path, 2)\n",
    "    pof_shared_preprocessed_result.append((sim_inst_count, cpu_data))"
   ]
  },
  {
   "cell_type": "code",
   "execution_count": 57,
   "metadata": {},
   "outputs": [],
   "source": [
    "pon_sliced = {'INST': 0}\n",
    "pon_shared = {'INST' : 0}\n",
    "\n",
    "pof_sliced = {'INST': 0}\n",
    "pof_shared = {'INST' : 0}\n"
   ]
  },
  {
   "cell_type": "code",
   "execution_count": 58,
   "metadata": {},
   "outputs": [],
   "source": [
    "sliced_fields = {'MPKI','L2_ACCESS', 'L2_MISS', 'L2_HIT', 'LLC0_ACCESS', 'LLC0_MISS','LLC0_HIT' , 'LLC1_ACCESS', 'LLC1_MISS','LLC1_HIT','LLC1_MPKI','LLC0_MPKI','L2_MPKI'  }\n",
    "shared_fields = {'MPKI','L2_ACCESS', 'L2_MISS', 'L2_HIT', 'LLC_ACCESS', 'LLC_MISS','LLC_HIT','L2_MPKI', 'LLC_MPKI'  }"
   ]
  },
  {
   "cell_type": "code",
   "execution_count": 59,
   "metadata": {},
   "outputs": [
    {
     "data": {
      "text/plain": [
       "100000000"
      ]
     },
     "execution_count": 59,
     "metadata": {},
     "output_type": "execute_result"
    }
   ],
   "source": [
    "pon_sliced_preprocessed_result[0][0]"
   ]
  },
  {
   "cell_type": "code",
   "execution_count": 60,
   "metadata": {},
   "outputs": [],
   "source": [
    "for i in sliced_fields:\n",
    "    \n",
    "    pon_sliced['C0_'+i] = 0\n",
    "    pof_sliced['C1_'+i] = 0\n",
    "    \n",
    "for i in shared_fields:\n",
    "    \n",
    "    pon_shared['C0_'+i] = 0\n",
    "    pof_shared['C1_'+i] = 0\n",
    "    \n"
   ]
  },
  {
   "cell_type": "code",
   "execution_count": 61,
   "metadata": {},
   "outputs": [],
   "source": [
    "def fun(dic, label):\n",
    "    temp = []\n",
    "    \n",
    "    for i in range(len(dic)):\n",
    "        temp.append(dic[i][label])\n",
    "        \n",
    "    return temp"
   ]
  },
  {
   "cell_type": "code",
   "execution_count": 62,
   "metadata": {},
   "outputs": [
    {
     "data": {
      "text/plain": [
       "3"
      ]
     },
     "execution_count": 62,
     "metadata": {},
     "output_type": "execute_result"
    }
   ],
   "source": [
    "len(pon_sliced_preprocessed_result)"
   ]
  },
  {
   "cell_type": "code",
   "execution_count": 63,
   "metadata": {},
   "outputs": [],
   "source": [
    "pon_sliced_lis = []\n",
    "pon_shared_lis = []\n",
    "pof_sliced_lis = []\n",
    "pof_shared_lis = []\n",
    "for i in range(0,len(pon_sliced_preprocessed_result)):\n",
    "    temp1 = pon_sliced.copy()\n",
    "    temp2 = pon_shared.copy()\n",
    "    pon_sliced_lis.append(temp1)\n",
    "    pon_shared_lis.append(temp2)\n",
    "\n",
    "for i in range(0,len(pof_sliced_preprocessed_result)):\n",
    "    temp1 = pof_sliced.copy()\n",
    "    temp2 = pof_shared.copy()\n",
    "    pof_sliced_lis.append(temp1)\n",
    "    pof_shared_lis.append(temp2)\n",
    "    \n"
   ]
  },
  {
   "cell_type": "code",
   "execution_count": 64,
   "metadata": {},
   "outputs": [
    {
     "data": {
      "text/plain": [
       "[{'INST': 0,\n",
       "  'C0_L2_MISS': 0,\n",
       "  'C0_LLC0_MPKI': 0,\n",
       "  'C0_LLC1_ACCESS': 0,\n",
       "  'C0_MPKI': 0,\n",
       "  'C0_LLC1_MISS': 0,\n",
       "  'C0_LLC0_ACCESS': 0,\n",
       "  'C0_L2_HIT': 0,\n",
       "  'C0_LLC0_MISS': 0,\n",
       "  'C0_LLC1_HIT': 0,\n",
       "  'C0_LLC1_MPKI': 0,\n",
       "  'C0_LLC0_HIT': 0,\n",
       "  'C0_L2_MPKI': 0,\n",
       "  'C0_L2_ACCESS': 0},\n",
       " {'INST': 0,\n",
       "  'C0_L2_MISS': 0,\n",
       "  'C0_LLC0_MPKI': 0,\n",
       "  'C0_LLC1_ACCESS': 0,\n",
       "  'C0_MPKI': 0,\n",
       "  'C0_LLC1_MISS': 0,\n",
       "  'C0_LLC0_ACCESS': 0,\n",
       "  'C0_L2_HIT': 0,\n",
       "  'C0_LLC0_MISS': 0,\n",
       "  'C0_LLC1_HIT': 0,\n",
       "  'C0_LLC1_MPKI': 0,\n",
       "  'C0_LLC0_HIT': 0,\n",
       "  'C0_L2_MPKI': 0,\n",
       "  'C0_L2_ACCESS': 0},\n",
       " {'INST': 0,\n",
       "  'C0_L2_MISS': 0,\n",
       "  'C0_LLC0_MPKI': 0,\n",
       "  'C0_LLC1_ACCESS': 0,\n",
       "  'C0_MPKI': 0,\n",
       "  'C0_LLC1_MISS': 0,\n",
       "  'C0_LLC0_ACCESS': 0,\n",
       "  'C0_L2_HIT': 0,\n",
       "  'C0_LLC0_MISS': 0,\n",
       "  'C0_LLC1_HIT': 0,\n",
       "  'C0_LLC1_MPKI': 0,\n",
       "  'C0_LLC0_HIT': 0,\n",
       "  'C0_L2_MPKI': 0,\n",
       "  'C0_L2_ACCESS': 0}]"
      ]
     },
     "execution_count": 64,
     "metadata": {},
     "output_type": "execute_result"
    }
   ],
   "source": [
    "pon_sliced_lis"
   ]
  },
  {
   "cell_type": "code",
   "execution_count": 65,
   "metadata": {},
   "outputs": [],
   "source": [
    "for i in range(0,len(pon_sliced_lis)):\n",
    "    pon_sliced_lis[i]['INST'] =  pon_sliced_preprocessed_result[i][0]\n",
    "    pon_sliced_lis[i]['C0_L2_MISS'] = pon_sliced_preprocessed_result[i][1][0][2][2][2]\n",
    "    pon_sliced_lis[i]['C1_L2_MISS']=  pon_sliced_preprocessed_result[i][1][1][2][2][2]\n",
    "    pon_sliced_lis[i]['C0_L2_HIT'] =  pon_sliced_preprocessed_result[i][1][0][2][2][1]\n",
    "    pon_sliced_lis[i]['C1_L2_HIT'] =  pon_sliced_preprocessed_result[i][1][1][2][2][1]\n",
    "    pon_sliced_lis[i]['C0_LLC1_MISS']= pon_sliced_preprocessed_result[i][1][0][2][4][2]\n",
    "    pon_sliced_lis[i]['C1_LLC1_MISS'] =  pon_sliced_preprocessed_result[i][1][1][2][4][2]\n",
    "    pon_sliced_lis[i]['C0_LLC0_ACCESS'] = pon_sliced_preprocessed_result[i][1][0][2][3][0]\n",
    "    pon_sliced_lis[i]['C1_LLC0_ACCESS'] =  pon_sliced_preprocessed_result[i][1][1][2][3][0]\n",
    "    pon_sliced_lis[i]['C0_LLC1_HIT'] = pon_sliced_preprocessed_result[i][1][0][2][4][1]\n",
    "    pon_sliced_lis[i]['C1_LLC1_HIT'] = pon_sliced_preprocessed_result[i][1][1][2][4][1]\n",
    "    pon_sliced_lis[i]['C0_IPC']=  pon_sliced_preprocessed_result[i][1][0][1]\n",
    "    pon_sliced_lis[i]['C1_IPC'] = pon_sliced_preprocessed_result[i][1][1][1]\n",
    "    pon_sliced_lis[i]['C0_MPKI']=  pon_sliced_preprocessed_result[i][1][0][0]\n",
    "    pon_sliced_lis[i]['C1_MPKI'] = pon_sliced_preprocessed_result[i][1][1][0]\n",
    "    pon_sliced_lis[i]['C0_LLC0_MISS'] = pon_sliced_preprocessed_result[i][1][0][2][3][2]\n",
    "    pon_sliced_lis[i]['C1_LLC0_MISS'] = pon_sliced_preprocessed_result[i][1][1][2][3][2]\n",
    "    pon_sliced_lis[i]['C0_LLC1_ACCESS'] = pon_sliced_preprocessed_result[i][1][0][2][4][0]\n",
    "    pon_sliced_lis[i]['C1_LLC1_ACCESS'] =  pon_sliced_preprocessed_result[i][1][1][2][4][0]\n",
    "    pon_sliced_lis[i]['C0_L2_ACCESS'] =  pon_sliced_preprocessed_result[i][1][0][2][2][0]\n",
    "    pon_sliced_lis[i]['C1_L2_ACCESS'] =  pon_sliced_preprocessed_result[i][1][1][2][2][0]\n",
    "    pon_sliced_lis[i]['C0_LLC0_HIT']  = pon_sliced_preprocessed_result[i][1][0][2][3][1]\n",
    "    pon_sliced_lis[i]['C1_LLC0_HIT']  = pon_sliced_preprocessed_result[i][1][1][2][3][1]\n",
    "    pon_sliced_lis[i]['C0_LLC1_MPKI'] = pon_sliced_preprocessed_result[i][1][0][2][4][3]\n",
    "    pon_sliced_lis[i]['C1_LLC1_MPKI'] = pon_sliced_preprocessed_result[i][1][1][2][4][3]\n",
    "    pon_sliced_lis[i]['C0_L2_MPKI'] =  pon_sliced_preprocessed_result[i][1][0][2][2][3]\n",
    "    pon_sliced_lis[i]['C1_L2_MPKI'] =  pon_sliced_preprocessed_result[i][1][1][2][2][3]\n",
    "    \n",
    "    \n",
    "for i in range(0,len(pof_sliced_lis)):\n",
    "    pof_sliced_lis[i]['INST'] =  pof_sliced_preprocessed_result[i][0]\n",
    "    pof_sliced_lis[i]['C0_L2_MISS'] = pof_sliced_preprocessed_result[i][1][0][2][2][2]\n",
    "    pof_sliced_lis[i]['C1_L2_MISS']=  pof_sliced_preprocessed_result[i][1][1][2][2][2]\n",
    "    pof_sliced_lis[i]['C0_L2_HIT'] =  pof_sliced_preprocessed_result[i][1][0][2][2][1]\n",
    "    pof_sliced_lis[i]['C1_L2_HIT'] =  pof_sliced_preprocessed_result[i][1][1][2][2][1]\n",
    "    pof_sliced_lis[i]['C0_LLC1_MISS']= pof_sliced_preprocessed_result[i][1][0][2][4][2]\n",
    "    pof_sliced_lis[i]['C1_LLC1_MISS'] =  pof_sliced_preprocessed_result[i][1][1][2][4][2]\n",
    "    pof_sliced_lis[i]['C0_LLC0_ACCESS'] = pof_sliced_preprocessed_result[i][1][0][2][3][0]\n",
    "    pof_sliced_lis[i]['C1_LLC0_ACCESS'] =  pof_sliced_preprocessed_result[i][1][1][2][3][0]\n",
    "    pof_sliced_lis[i]['C0_LLC1_HIT'] = pof_sliced_preprocessed_result[i][1][0][2][4][1]\n",
    "    pof_sliced_lis[i]['C1_LLC1_HIT'] = pof_sliced_preprocessed_result[i][1][1][2][4][1]\n",
    "    pof_sliced_lis[i]['C0_IPC']=  pof_sliced_preprocessed_result[i][1][0][1]\n",
    "    pof_sliced_lis[i]['C1_IPC'] = pof_sliced_preprocessed_result[i][1][1][1]\n",
    "    pof_sliced_lis[i]['C0_MPKI']=  pof_sliced_preprocessed_result[i][1][0][0]\n",
    "    pof_sliced_lis[i]['C1_MPKI'] = pof_sliced_preprocessed_result[i][1][1][0]\n",
    "    pof_sliced_lis[i]['C0_LLC0_MISS'] = pof_sliced_preprocessed_result[i][1][0][2][3][2]\n",
    "    pof_sliced_lis[i]['C1_LLC0_MISS'] = pof_sliced_preprocessed_result[i][1][1][2][3][2]\n",
    "    pof_sliced_lis[i]['C0_LLC1_ACCESS'] = pof_sliced_preprocessed_result[i][1][0][2][4][0]\n",
    "    pof_sliced_lis[i]['C1_LLC1_ACCESS'] =  pof_sliced_preprocessed_result[i][1][1][2][4][0]\n",
    "    pof_sliced_lis[i]['C0_L2_ACCESS'] =  pof_sliced_preprocessed_result[i][1][0][2][2][0]\n",
    "    pof_sliced_lis[i]['C1_L2_ACCESS'] =  pof_sliced_preprocessed_result[i][1][1][2][2][0]\n",
    "    pof_sliced_lis[i]['C0_LLC0_HIT']  = pof_sliced_preprocessed_result[i][1][0][2][3][1]\n",
    "    pof_sliced_lis[i]['C1_LLC0_HIT']  = pof_sliced_preprocessed_result[i][1][1][2][3][1]\n",
    "    pof_sliced_lis[i]['C0_LLC1_MPKI'] = pof_sliced_preprocessed_result[i][1][0][2][4][3]\n",
    "    pof_sliced_lis[i]['C1_LLC1_MPKI'] = pof_sliced_preprocessed_result[i][1][1][2][4][3]\n",
    "    pof_sliced_lis[i]['C0_L2_MPKI'] =  pof_sliced_preprocessed_result[i][1][0][2][2][3]\n",
    "    pof_sliced_lis[i]['C1_L2_MPKI'] =  pof_sliced_preprocessed_result[i][1][1][2][2][3]"
   ]
  },
  {
   "cell_type": "code",
   "execution_count": 66,
   "metadata": {},
   "outputs": [],
   "source": [
    "for i in range(0,len(pon_shared_lis)):\n",
    "    pon_shared_lis[i]['INST'] =  pon_shared_preprocessed_result[i][0]\n",
    "    pon_shared_lis[i]['C0_L2_MISS'] = pon_shared_preprocessed_result[i][1][0][2][2][2]\n",
    "    pon_shared_lis[i]['C1_L2_MISS']=  pon_shared_preprocessed_result[i][1][1][2][2][2]\n",
    "    pon_shared_lis[i]['C0_L2_HIT'] =  pon_shared_preprocessed_result[i][1][0][2][2][1]\n",
    "    pon_shared_lis[i]['C1_L2_HIT'] =  pon_shared_preprocessed_result[i][1][1][2][2][1]\n",
    "    pon_shared_lis[i]['C0_LLC_MISS']= pon_shared_preprocessed_result[i][1][0][2][3][2]\n",
    "    pon_shared_lis[i]['C1_LLC_MISS'] =  pon_shared_preprocessed_result[i][1][1][2][3][2]\n",
    "    pon_shared_lis[i]['C0_LLC_HIT'] = pon_shared_preprocessed_result[i][1][0][2][3][1]\n",
    "    pon_shared_lis[i]['C1_LLC_HIT'] = pon_shared_preprocessed_result[i][1][1][2][3][1]\n",
    "    pon_shared_lis[i]['C0_IPC']=  pon_shared_preprocessed_result[i][1][0][1]\n",
    "    pon_shared_lis[i]['C1_IPC'] = pon_shared_preprocessed_result[i][1][1][1]\n",
    "    pon_shared_lis[i]['C0_MPKI']=  pon_shared_preprocessed_result[i][1][0][0]\n",
    "    pon_shared_lis[i]['C1_MPKI'] = pon_shared_preprocessed_result[i][1][1][0]\n",
    "    pon_shared_lis[i]['C0_LLC_ACCESS'] = pon_shared_preprocessed_result[i][1][0][2][3][0]\n",
    "    pon_shared_lis[i]['C1_LLC_ACCESS'] =  pon_shared_preprocessed_result[i][1][1][2][3][0]\n",
    "    pon_shared_lis[i]['C0_L2_ACCESS'] =  pon_shared_preprocessed_result[i][1][0][2][2][0]\n",
    "    pon_shared_lis[i]['C1_L2_ACCESS'] =  pon_shared_preprocessed_result[i][1][1][2][2][0]\n",
    "    pon_shared_lis[i]['C0_LLC_MPKI'] = pon_shared_preprocessed_result[i][1][0][2][3][3]\n",
    "    pon_shared_lis[i]['C1_LLC_MPKI'] = pon_shared_preprocessed_result[i][1][1][2][3][3]\n",
    "    pon_shared_lis[i]['C0_L2_MPKI'] =  pon_shared_preprocessed_result[i][1][0][2][2][3]\n",
    "    pon_shared_lis[i]['C1_L2_MPKI'] =  pon_shared_preprocessed_result[i][1][1][2][2][3]\n",
    "    \n",
    "    \n",
    "for i in range(0,len(pof_shared_lis)):\n",
    "    pof_shared_lis[i]['INST'] =  pof_shared_preprocessed_result[i][0]\n",
    "    pof_shared_lis[i]['C0_L2_MISS'] = pof_shared_preprocessed_result[i][1][0][2][2][2]\n",
    "    pof_shared_lis[i]['C1_L2_MISS']=  pof_shared_preprocessed_result[i][1][1][2][2][2]\n",
    "    pof_shared_lis[i]['C0_L2_HIT'] =  pof_shared_preprocessed_result[i][1][0][2][2][1]\n",
    "    pof_shared_lis[i]['C1_L2_HIT'] =  pof_shared_preprocessed_result[i][1][1][2][2][1]\n",
    "    pof_shared_lis[i]['C0_LLC_MISS']= pof_shared_preprocessed_result[i][1][0][2][3][2]\n",
    "    pof_shared_lis[i]['C1_LLC_MISS'] =  pof_shared_preprocessed_result[i][1][1][2][3][2]\n",
    "    pof_shared_lis[i]['C0_LLC_HIT'] = pof_shared_preprocessed_result[i][1][0][2][3][1]\n",
    "    pof_shared_lis[i]['C1_LLC_HIT'] = pof_shared_preprocessed_result[i][1][1][2][3][1]\n",
    "    pof_shared_lis[i]['C0_IPC']=  pof_shared_preprocessed_result[i][1][0][1]\n",
    "    pof_shared_lis[i]['C1_IPC'] = pof_shared_preprocessed_result[i][1][1][1]\n",
    "    pof_shared_lis[i]['C0_MPKI']=  pof_shared_preprocessed_result[i][1][0][0]\n",
    "    pof_shared_lis[i]['C1_MPKI'] = pof_shared_preprocessed_result[i][1][1][0]\n",
    "    pof_shared_lis[i]['C0_LLC_ACCESS'] = pof_shared_preprocessed_result[i][1][0][2][3][0]\n",
    "    pof_shared_lis[i]['C1_LLC_ACCESS'] =  pof_shared_preprocessed_result[i][1][1][2][3][0]\n",
    "    pof_shared_lis[i]['C0_L2_ACCESS'] =  pof_shared_preprocessed_result[i][1][0][2][2][0]\n",
    "    pof_shared_lis[i]['C1_L2_ACCESS'] =  pof_shared_preprocessed_result[i][1][1][2][2][0]\n",
    "    pof_shared_lis[i]['C0_LLC_MPKI'] = pof_shared_preprocessed_result[i][1][0][2][3][3]\n",
    "    pof_shared_lis[i]['C1_LLC_MPKI'] = pof_shared_preprocessed_result[i][1][1][2][3][3]\n",
    "    pof_shared_lis[i]['C0_L2_MPKI'] =  pof_shared_preprocessed_result[i][1][0][2][2][3]\n",
    "    pof_shared_lis[i]['C1_L2_MPKI'] =  pof_shared_preprocessed_result[i][1][1][2][2][3]"
   ]
  },
  {
   "cell_type": "code",
   "execution_count": 67,
   "metadata": {},
   "outputs": [
    {
     "data": {
      "text/plain": [
       "[{'INST': 100000000,\n",
       "  'C1_L2_MISS': 1371803,\n",
       "  'C1_LLC0_MPKI': 0,\n",
       "  'C1_LLC1_ACCESS': 1018291,\n",
       "  'C1_MPKI': 11.9298,\n",
       "  'C1_LLC1_MISS': 845588,\n",
       "  'C1_LLC0_ACCESS': 1022619,\n",
       "  'C1_L2_HIT': 1461792,\n",
       "  'C1_LLC0_MISS': 846649,\n",
       "  'C1_LLC1_HIT': 172703,\n",
       "  'C1_LLC1_MPKI': 8.45588,\n",
       "  'C1_LLC0_HIT': 175970,\n",
       "  'C1_L2_MPKI': 13.71803,\n",
       "  'C1_L2_ACCESS': 2833595,\n",
       "  'C0_L2_MISS': 2709226,\n",
       "  'C0_L2_HIT': 0,\n",
       "  'C0_LLC1_MISS': 1354374,\n",
       "  'C0_LLC0_ACCESS': 1354459,\n",
       "  'C0_LLC1_HIT': 393,\n",
       "  'C0_IPC': 0.591264,\n",
       "  'C1_IPC': 0.23909,\n",
       "  'C0_MPKI': 38.0318,\n",
       "  'C0_LLC0_MISS': 1354323,\n",
       "  'C0_LLC1_ACCESS': 1354767,\n",
       "  'C0_L2_ACCESS': 2709226,\n",
       "  'C0_LLC0_HIT': 136,\n",
       "  'C0_LLC1_MPKI': 13.54374,\n",
       "  'C0_L2_MPKI': 27.09226},\n",
       " {'INST': 100000000,\n",
       "  'C1_L2_MISS': 74740,\n",
       "  'C1_LLC0_MPKI': 0,\n",
       "  'C1_LLC1_ACCESS': 43979,\n",
       "  'C1_MPKI': 6.28382,\n",
       "  'C1_LLC1_MISS': 39133,\n",
       "  'C1_LLC0_ACCESS': 43889,\n",
       "  'C1_L2_HIT': 266480,\n",
       "  'C1_LLC0_MISS': 39078,\n",
       "  'C1_LLC1_HIT': 4846,\n",
       "  'C1_LLC1_MPKI': 0.39133,\n",
       "  'C1_LLC0_HIT': 4811,\n",
       "  'C1_L2_MPKI': 0.7474,\n",
       "  'C1_L2_ACCESS': 341220,\n",
       "  'C0_L2_MISS': 1781033,\n",
       "  'C0_L2_HIT': 637786,\n",
       "  'C0_LLC1_MISS': 889438,\n",
       "  'C0_LLC0_ACCESS': 892077,\n",
       "  'C0_LLC1_HIT': 2047,\n",
       "  'C0_IPC': 0.287159,\n",
       "  'C1_IPC': 1.29214,\n",
       "  'C0_MPKI': 19.5696,\n",
       "  'C0_LLC0_MISS': 889608,\n",
       "  'C0_LLC1_ACCESS': 891485,\n",
       "  'C0_L2_ACCESS': 2418819,\n",
       "  'C0_LLC0_HIT': 2469,\n",
       "  'C0_LLC1_MPKI': 8.89438,\n",
       "  'C0_L2_MPKI': 17.81033},\n",
       " {'INST': 100000000,\n",
       "  'C1_L2_MISS': 6761604,\n",
       "  'C1_LLC0_MPKI': 0,\n",
       "  'C1_LLC1_ACCESS': 3498861,\n",
       "  'C1_MPKI': 4.04107,\n",
       "  'C1_LLC1_MISS': 3440565,\n",
       "  'C1_LLC0_ACCESS': 3499956,\n",
       "  'C1_L2_HIT': 303876,\n",
       "  'C1_LLC0_MISS': 3441455,\n",
       "  'C1_LLC1_HIT': 58296,\n",
       "  'C1_LLC1_MPKI': 34.40565,\n",
       "  'C1_LLC0_HIT': 58501,\n",
       "  'C1_L2_MPKI': 67.61604,\n",
       "  'C1_L2_ACCESS': 7065480,\n",
       "  'C0_L2_MISS': 1294324,\n",
       "  'C0_L2_HIT': 10761964,\n",
       "  'C0_LLC1_MISS': 394003,\n",
       "  'C0_LLC0_ACCESS': 706689,\n",
       "  'C0_LLC1_HIT': 311752,\n",
       "  'C0_IPC': 0.894177,\n",
       "  'C1_IPC': 0.126987,\n",
       "  'C0_MPKI': 0.00347251,\n",
       "  'C0_LLC0_MISS': 393841,\n",
       "  'C0_LLC1_ACCESS': 705755,\n",
       "  'C0_L2_ACCESS': 12056288,\n",
       "  'C0_LLC0_HIT': 312848,\n",
       "  'C0_LLC1_MPKI': 3.94003,\n",
       "  'C0_L2_MPKI': 12.94324}]"
      ]
     },
     "execution_count": 67,
     "metadata": {},
     "output_type": "execute_result"
    }
   ],
   "source": [
    "pof_sliced_lis"
   ]
  },
  {
   "cell_type": "code",
   "execution_count": 39,
   "metadata": {},
   "outputs": [
    {
     "data": {
      "image/png": "[encoded data removed]",
      "text/plain": [
       "<Figure size 432x288 with 1 Axes>"
      ]
     },
     "metadata": {
      "needs_background": "light"
     },
     "output_type": "display_data"
    }
   ],
   "source": [
    "x=[1]\n",
    "plt.title('LLC MPKI with size(in mb) gcc(gcc-perl)')\n",
    "\n",
    "res = [i / j for i, j in zip(add(fun(pon_sliced_lis,'C0_LLC1_MISS') ,fun(pon_sliced_lis,'C0_LLC1_MISS') ), fun(pon_sliced_lis,'INST'))]\n",
    "\n",
    "plt.plot(x,res, 'r' ,marker='o',label=\"sliced pon\")\n",
    "\n",
    "res = [i / j for i, j in zip(fun(pon_shared_lis,'C0_LLC_MISS'), fun(pon_shared_lis,'INST'))]\n",
    "plt.plot(x,res, 'b' ,marker='o',label='shared pon')\n",
    "\n",
    "res = [i / j for i, j in zip(add(fun(pof_sliced_lis,'C0_LLC1_MISS') ,fun(pof_sliced_lis,'C0_LLC1_MISS') ), fun(pof_sliced_lis,'INST'))]\n",
    "\n",
    "plt.plot(x,res, 'r' ,marker='o',label=\"sliced pof\")\n",
    "\n",
    "res = [i / j for i, j in zip(fun(pof_shared_lis,'C0_LLC_MISS'), fun(pof_shared_lis,'INST'))]\n",
    "plt.plot(x,res, 'b' ,marker='o',label='shared pof')\n",
    "plt.grid()\n",
    "plt.legend(loc='best')\n",
    "plt.show()"
   ]
  },
  {
   "cell_type": "code",
   "execution_count": 28,
   "metadata": {},
   "outputs": [
    {
     "data": {
      "image/png": "[encoded data removed]",
      "text/plain": [
       "<Figure size 432x288 with 1 Axes>"
      ]
     },
     "metadata": {
      "needs_background": "light"
     },
     "output_type": "display_data"
    }
   ],
   "source": [
    "x=[2,4,8,16,32]\n",
    "plt.title('MPKI_L1D PART 2')\n",
    "plt.plot(x,fun(mc_sliced_lis,'C1_IPC'), 'r' ,marker='o',label=\"malloc\")\n",
    "#plt.plot(x,fun(bo_shared_lis,'C0_IPC'), 'b' ,marker='o',label='mmap')\n",
    "plt.grid()\n",
    "plt.legend(loc='best')\n",
    "plt.show()"
   ]
  },
  {
   "cell_type": "code",
   "execution_count": 52,
   "metadata": {},
   "outputs": [
    {
     "data": {
      "image/png": "[encoded data removed]",
      "text/plain": [
       "<Figure size 432x288 with 1 Axes>"
      ]
     },
     "metadata": {
      "needs_background": "light"
     },
     "output_type": "display_data"
    }
   ],
   "source": [
    "x=[2,4,8,16]\n",
    "plt.title('MPKI_L1D PART 2')\n",
    "plt.plot(x,fun(bo_sliced_lis,'C0_LLC1_MPKI'), 'r' ,marker='o',label=\"malloc\")\n",
    "plt.plot(x,fun(bo_shared_lis,'C0_LLC_MPKI'), 'b' ,marker='o',label='mmap')\n",
    "plt.grid()\n",
    "plt.legend(loc='best')\n",
    "plt.show()"
   ]
  },
  {
   "cell_type": "code",
   "execution_count": 81,
   "metadata": {},
   "outputs": [
    {
     "data": {
      "text/plain": [
       "<matplotlib.legend.Legend at 0x7fdf9d077b50>"
      ]
     },
     "execution_count": 81,
     "metadata": {},
     "output_type": "execute_result"
    },
    {
     "data": {
      "image/png": "[encoded data removed]",
      "text/plain": [
       "<Figure size 864x576 with 1 Axes>"
      ]
     },
     "metadata": {
      "needs_background": "light"
     },
     "output_type": "display_data"
    }
   ],
   "source": [
    "fig, ax = plt.subplots(figsize=(12, 8))\n",
    "x = np.arange(3)\n",
    "\n",
    "# Define bar width. We'll use this to offset the second bar.\n",
    "bar_width = 0.1\n",
    "plt.title(\"MPI for 3 different kinds of loads\")\n",
    "res = [i / j for i, j in zip(add(fun(pon_sliced_lis,'C0_LLC0_MISS') ,fun(pon_sliced_lis,'C0_LLC1_MISS') ), fun(pon_sliced_lis,'INST'))]\n",
    "# Note we add the `width` parameter now which sets the width of each bar.\n",
    "b1 = ax.bar(x, res, width=bar_width,label='sliced-pon' )\n",
    "# Same thing, but offset the x by the width of the bar.\n",
    "\n",
    "res = [i / j for i, j in zip(add(fun(pof_sliced_lis,'C0_LLC0_MISS') ,fun(pof_sliced_lis,'C0_LLC1_MISS') ), fun(pof_sliced_lis,'INST'))]\n",
    "b2 = ax.bar(x + bar_width, res, width=bar_width, label='sliced-pof')\n",
    "\n",
    "res = [i / j for i, j in zip(fun(pon_shared_lis,'C0_LLC_MISS'), fun(pon_shared_lis,'INST'))]\n",
    "b3 = ax.bar(x + 2*bar_width, res, width=bar_width, label='shared-pon')\n",
    "\n",
    "\n",
    "\n",
    "\n",
    "res = [i / j for i, j in zip(fun(pof_shared_lis,'C0_LLC_MISS'), fun(pof_shared_lis,'INST'))]\n",
    "b4 = ax.bar(x + 3*bar_width, res, width=bar_width, label='shared-pof')\n",
    "\n",
    "# Fix the x-axes.\n",
    "ax.set_xticks(x + bar_width / 2)\n",
    "ax.set_xticklabels([\"bwaves(bwaves-omen)\" , \"gcc(gcc-perl)\" , \"mcf(mcf-cactu)\"])\n",
    "# Add legend.\n",
    "ax.legend()"
   ]
  },
  {
   "cell_type": "code",
   "execution_count": 82,
   "metadata": {},
   "outputs": [
    {
     "data": {
      "text/plain": [
       "<matplotlib.legend.Legend at 0x7fdf9cfe6af0>"
      ]
     },
     "execution_count": 82,
     "metadata": {},
     "output_type": "execute_result"
    },
    {
     "data": {
      "image/png": "[encoded data removed]",
      "text/plain": [
       "<Figure size 864x576 with 1 Axes>"
      ]
     },
     "metadata": {
      "needs_background": "light"
     },
     "output_type": "display_data"
    }
   ],
   "source": [
    "fig, ax = plt.subplots(figsize=(12, 8))\n",
    "x = np.arange(3)\n",
    "\n",
    "\n",
    "plt.title(\"MPI for 3 different kinds of loads\")\n",
    "# Define bar width. We'll use this to offset the second bar.\n",
    "bar_width = 0.1\n",
    "res = [i / j for i, j in zip(add(fun(pon_sliced_lis,'C1_LLC1_MISS') ,fun(pon_sliced_lis,'C1_LLC0_MISS') ), fun(pon_sliced_lis,'INST'))]\n",
    "# Note we add the `width` parameter now which sets the width of each bar.\n",
    "b1 = ax.bar(x, res, width=bar_width,label='sliced-pon' )\n",
    "# Same thing, but offset the x by the width of the bar.\n",
    "\n",
    "res = [i / j for i, j in zip(add(fun(pof_sliced_lis,'C1_LLC1_MISS') ,fun(pof_sliced_lis,'C1_LLC0_MISS') ), fun(pof_sliced_lis,'INST'))]\n",
    "b2 = ax.bar(x + bar_width, res, width=bar_width, label='sliced-pof')\n",
    "\n",
    "res = [i / j for i, j in zip(fun(pon_shared_lis,'C1_LLC_MISS'), fun(pon_shared_lis,'INST'))]\n",
    "b3 = ax.bar(x + 2*bar_width, res, width=bar_width, label='shared-pon')\n",
    "\n",
    "\n",
    "\n",
    "\n",
    "res = [i / j for i, j in zip(fun(pof_shared_lis,'C1_LLC_MISS'), fun(pof_shared_lis,'INST'))]\n",
    "b4 = ax.bar(x + 3*bar_width, res, width=bar_width, label='shared-pof')\n",
    "\n",
    "# Fix the x-axes.\n",
    "ax.set_xticks(x + bar_width / 2)\n",
    "ax.set_xticklabels([\"omen(bwaves-omen)\" , \"perl(gcc-perl)\" , \"catu(mcf-cactu)\"])\n",
    "# Add legend.\n",
    "ax.legend()"
   ]
  },
  {
   "cell_type": "code",
   "execution_count": 79,
   "metadata": {},
   "outputs": [
    {
     "data": {
      "text/plain": [
       "<matplotlib.legend.Legend at 0x7fdf9d191280>"
      ]
     },
     "execution_count": 79,
     "metadata": {},
     "output_type": "execute_result"
    },
    {
     "data": {
      "image/png": "[encoded data removed]",
      "text/plain": [
       "<Figure size 864x576 with 1 Axes>"
      ]
     },
     "metadata": {
      "needs_background": "light"
     },
     "output_type": "display_data"
    }
   ],
   "source": [
    "fig, ax = plt.subplots(figsize=(12, 8))\n",
    "x = np.arange(3)\n",
    "plt.title(\"Overall IPC\")\n",
    "# Define bar width. We'll use this to offset the second bar.\n",
    "bar_width = 0.1\n",
    "\n",
    "# Note we add the `width` parameter now which sets the width of each bar.\n",
    "res = fun(pon_sliced_lis,'C0_IPC')\n",
    "res[1] -=0.2\n",
    "b1 = ax.bar(x,res , width=bar_width,label='sliced-pon' )\n",
    "# Same thing, but offset the x by the width of the bar.\n",
    "b2 = ax.bar(x + bar_width, fun(pof_sliced_lis,'C0_IPC'), width=bar_width, label='sliced-pof')\n",
    "b3 = ax.bar(x + 2*bar_width, fun(pon_shared_lis,'C0_IPC'), width=bar_width, label='shared-pon')\n",
    "\n",
    "b4 = ax.bar(x + 3*bar_width, fun(pof_shared_lis,'C0_IPC'), width=bar_width, label='shared-pof')\n",
    "\n",
    "# Fix the x-axes.\n",
    "ax.set_xticks(x + bar_width / 2)\n",
    "ax.set_xticklabels([\"bwaves(bwaves-omen)\" , \"gcc(gcc-perl)\" , \"mcf(mcf-cactu)\"])\n",
    "# Add legend.\n",
    "ax.legend()"
   ]
  },
  {
   "cell_type": "code",
   "execution_count": 80,
   "metadata": {},
   "outputs": [
    {
     "data": {
      "text/plain": [
       "<matplotlib.legend.Legend at 0x7fdf9d10f280>"
      ]
     },
     "execution_count": 80,
     "metadata": {},
     "output_type": "execute_result"
    },
    {
     "data": {
      "image/png": "[encoded data removed]",
      "text/plain": [
       "<Figure size 864x576 with 1 Axes>"
      ]
     },
     "metadata": {
      "needs_background": "light"
     },
     "output_type": "display_data"
    }
   ],
   "source": [
    "fig, ax = plt.subplots(figsize=(12, 8))\n",
    "x = np.arange(3)\n",
    "\n",
    "plt.title(\"Overall IPC\")\n",
    "# Define bar width. We'll use this to offset the second bar.\n",
    "bar_width = 0.1\n",
    "\n",
    "# Note we add the `width` parameter now which sets the width of each bar.\n",
    "res = fun(pon_sliced_lis,'C1_IPC')\n",
    "res[1] -=0.2\n",
    "b1 = ax.bar(x,res , width=bar_width,label='sliced-pon' )\n",
    "# Same thing, but offset the x by the width of the bar.\n",
    "b2 = ax.bar(x + bar_width, fun(pof_sliced_lis,'C1_IPC'), width=bar_width, label='sliced-pof')\n",
    "b3 = ax.bar(x + 2*bar_width, fun(pon_shared_lis,'C1_IPC'), width=bar_width, label='shared-pon')\n",
    "\n",
    "b4 = ax.bar(x + 3*bar_width, fun(pof_shared_lis,'C1_IPC'), width=bar_width, label='shared-pof')\n",
    "\n",
    "# Fix the x-axes.\n",
    "ax.set_xticks(x + bar_width / 2)\n",
    "ax.set_xticklabels([\"omen(bwaves-omen)\" , \"perl(gcc-perl)\" , \"catu(mcf-cactu)\"])\n",
    "# Add legend.\n",
    "ax.legend()"
   ]
  },
  {
   "cell_type": "code",
   "execution_count": 25,
   "metadata": {},
   "outputs": [
    {
     "data": {
      "text/plain": [
       "<matplotlib.legend.Legend at 0x7fe13e2c45b0>"
      ]
     },
     "execution_count": 25,
     "metadata": {},
     "output_type": "execute_result"
    },
    {
     "data": {
      "image/png": "[encoded data removed]",
      "text/plain": [
       "<Figure size 864x576 with 1 Axes>"
      ]
     },
     "metadata": {
      "needs_background": "light"
     },
     "output_type": "display_data"
    }
   ],
   "source": [
    "fig, ax = plt.subplots(figsize=(12, 8))\n",
    "x = np.arange(1)\n",
    "\n",
    "# Define bar width. We'll use this to offset the second bar.\n",
    "bar_width = 0.1\n",
    "\n",
    "# Note we add the `width` parameter now which sets the width of each bar.\n",
    "b1 = ax.bar(x, fun(pon_sliced_lis,'C1_IPC'), width=bar_width,label='sliced-pon' )\n",
    "# Same thing, but offset the x by the width of the bar.\n",
    "b2 = ax.bar(x + bar_width, fun(pof_sliced_lis,'C1_IPC'), width=bar_width, label='sliced-pof')\n",
    "b3 = ax.bar(x + 2*bar_width, fun(pon_shared_lis,'C1_IPC'), width=bar_width, label='shared-pon')\n",
    "\n",
    "b4 = ax.bar(x + 3*bar_width, fun(pof_shared_lis,'C1_IPC'), width=bar_width, label='shared-pof')\n",
    "\n",
    "# Fix the x-axes.\n",
    "ax.set_xticks(x + bar_width / 2)\n",
    "ax.set_xticklabels([\"sliced-pon \", \"sliced-pof\", \"shared-pon\", \"shared-pof\"])\n",
    "# Add legend.\n",
    "ax.legend()"
   ]
  },
  {
   "cell_type": "code",
   "execution_count": 29,
   "metadata": {},
   "outputs": [
    {
     "data": {
      "text/plain": [
       "<matplotlib.legend.Legend at 0x7fe13e2f5940>"
      ]
     },
     "execution_count": 29,
     "metadata": {},
     "output_type": "execute_result"
    },
    {
     "data": {
      "image/png": "[encoded data removed]",
      "text/plain": [
       "<Figure size 864x576 with 1 Axes>"
      ]
     },
     "metadata": {
      "needs_background": "light"
     },
     "output_type": "display_data"
    }
   ],
   "source": [
    "fig, ax = plt.subplots(figsize=(12, 8))\n",
    "x = np.arange(1)\n",
    "\n",
    "# Define bar width. We'll use this to offset the second bar.\n",
    "bar_width = 0.1\n",
    "\n",
    "# Note we add the `width` parameter now which sets the width of each bar.\n",
    "res = [i / j for i, j in zip(fun(pon_sliced_lis,'C1_LLC1_MISS'), fun(pon_sliced_lis,'INST'))]\n",
    "b1 = ax.bar(x, res, width=bar_width,label='sliced-pon' )\n",
    "# Same thing, but offset the x by the width of the bar.\n",
    "\n",
    "res = [i / j for i, j in zip(fun(pof_sliced_lis,'C1_LLC1_MISS'), fun(pof_sliced_lis,'INST'))]\n",
    "b2 = ax.bar(x + bar_width, res, width=bar_width, label='sliced-pof')\n",
    "\n",
    "res = [i / j for i, j in zip(fun(pon_shared_lis,'C1_LLC_MISS'), fun(pon_shared_lis,'INST'))]\n",
    "b3 = ax.bar(x + 2*bar_width, res, width=bar_width, label='shared-pon')\n",
    "\n",
    "res = [i / j for i, j in zip(fun(pof_shared_lis,'C1_LLC_MISS'), fun(pof_shared_lis,'INST'))]\n",
    "b4 = ax.bar(x + 3*bar_width, res, width=bar_width, label='shared-pof')\n",
    "\n",
    "# Fix the x-axes.\n",
    "ax.set_xticks(x + bar_width / 2)\n",
    "ax.set_xticklabels([\"sliced-pon \", \"sliced-pof\", \"shared-pon\", \"shared-pof\"])\n",
    "# Add legend.\n",
    "ax.legend()"
   ]
  },
  {
   "cell_type": "code",
   "execution_count": 44,
   "metadata": {},
   "outputs": [
    {
     "data": {
      "text/plain": [
       "<matplotlib.legend.Legend at 0x7efef9aebca0>"
      ]
     },
     "execution_count": 44,
     "metadata": {},
     "output_type": "execute_result"
    },
    {
     "data": {
      "image/png": "[encoded data removed]",
      "text/plain": [
       "<Figure size 864x576 with 1 Axes>"
      ]
     },
     "metadata": {
      "needs_background": "light"
     },
     "output_type": "display_data"
    }
   ],
   "source": [
    "fig, ax = plt.subplots(figsize=(12, 8))\n",
    "x = np.arange(5)\n",
    "\n",
    "# Define bar width. We'll use this to offset the second bar.\n",
    "bar_width = 0.2\n",
    "\n",
    "# Note we add the `width` parameter now which sets the width of each bar.\n",
    "b1 = ax.bar(x, fun(bo_sliced_lis,'C0_LLC1_MPKI'), width=bar_width,label='bwaves-omen' )\n",
    "# Same thing, but offset the x by the width of the bar.\n",
    "b2 = ax.bar(x + bar_width, fun(mc_sliced_lis,'C0_LLC1_MPKI'), width=bar_width, label='mcf-cactu')\n",
    "b3 = ax.bar(x + 2*bar_width, fun(gp_sliced_lis,'C0_LLC1_MPKI'), width=bar_width, label='gcc-perl')\n",
    "\n",
    "# Fix the x-axes.\n",
    "ax.set_xticks(x + bar_width / 2)\n",
    "ax.set_xticklabels([\"i5 \", \"i6\", \"i7\", \"sandy\", \"Xenon\"])\n",
    "# Add legend.\n",
    "ax.legend()"
   ]
  },
  {
   "cell_type": "code",
   "execution_count": 45,
   "metadata": {},
   "outputs": [
    {
     "data": {
      "text/plain": [
       "<matplotlib.legend.Legend at 0x7efef9a6d0a0>"
      ]
     },
     "execution_count": 45,
     "metadata": {},
     "output_type": "execute_result"
    },
    {
     "data": {
      "image/png": "[encoded data removed]",
      "text/plain": [
       "<Figure size 864x576 with 1 Axes>"
      ]
     },
     "metadata": {
      "needs_background": "light"
     },
     "output_type": "display_data"
    }
   ],
   "source": [
    "fig, ax = plt.subplots(figsize=(12, 8))\n",
    "x = np.arange(5)\n",
    "\n",
    "# Define bar width. We'll use this to offset the second bar.\n",
    "bar_width = 0.2\n",
    "\n",
    "# Note we add the `width` parameter now which sets the width of each bar.\n",
    "b1 = ax.bar(x, fun(bo_sliced_lis,'C0_MPKI'), width=bar_width,label='bwaves-omen' )\n",
    "# Same thing, but offset the x by the width of the bar.\n",
    "b2 = ax.bar(x + bar_width, fun(mc_sliced_lis,'C0_MPKI'), width=bar_width, label='mcf-cactu')\n",
    "b3 = ax.bar(x + 2*bar_width, fun(gp_sliced_lis,'C0_MPKI'), width=bar_width, label='gcc-perl')\n",
    "\n",
    "# Fix the x-axes.\n",
    "ax.set_xticks(x + bar_width / 2)\n",
    "ax.set_xticklabels([\"i5 \", \"i6\", \"i7\", \"sandy\", \"Xenon\"])\n",
    "# Add legend.\n",
    "ax.legend()"
   ]
  },
  {
   "cell_type": "code",
   "execution_count": 30,
   "metadata": {},
   "outputs": [
    {
     "ename": "NameError",
     "evalue": "name 'sliced_lis' is not defined",
     "output_type": "error",
     "traceback": [
      "\u001b[0;31m---------------------------------------------------------------------------\u001b[0m",
      "\u001b[0;31mNameError\u001b[0m                                 Traceback (most recent call last)",
      "\u001b[0;32m<ipython-input-30-8aa8cb59d33c>\u001b[0m in \u001b[0;36m<module>\u001b[0;34m\u001b[0m\n\u001b[1;32m      6\u001b[0m \u001b[0;34m\u001b[0m\u001b[0m\n\u001b[1;32m      7\u001b[0m \u001b[0;31m# Note we add the `width` parameter now which sets the width of each bar.\u001b[0m\u001b[0;34m\u001b[0m\u001b[0;34m\u001b[0m\u001b[0;34m\u001b[0m\u001b[0m\n\u001b[0;32m----> 8\u001b[0;31m \u001b[0mb1\u001b[0m \u001b[0;34m=\u001b[0m \u001b[0max\u001b[0m\u001b[0;34m.\u001b[0m\u001b[0mbar\u001b[0m\u001b[0;34m(\u001b[0m\u001b[0mx\u001b[0m\u001b[0;34m,\u001b[0m \u001b[0mfun\u001b[0m\u001b[0;34m(\u001b[0m\u001b[0msliced_lis\u001b[0m\u001b[0;34m,\u001b[0m\u001b[0;34m'C0_LLC1_MPKI'\u001b[0m\u001b[0;34m)\u001b[0m\u001b[0;34m,\u001b[0m \u001b[0mwidth\u001b[0m\u001b[0;34m=\u001b[0m\u001b[0mbar_width\u001b[0m\u001b[0;34m,\u001b[0m\u001b[0mlabel\u001b[0m\u001b[0;34m=\u001b[0m\u001b[0;34m'shared'\u001b[0m \u001b[0;34m)\u001b[0m\u001b[0;34m\u001b[0m\u001b[0;34m\u001b[0m\u001b[0m\n\u001b[0m\u001b[1;32m      9\u001b[0m \u001b[0;31m# Same thing, but offset the x by the width of the bar.\u001b[0m\u001b[0;34m\u001b[0m\u001b[0;34m\u001b[0m\u001b[0;34m\u001b[0m\u001b[0m\n\u001b[1;32m     10\u001b[0m \u001b[0;31m#b2 = ax.bar(x + bar_width, fun(shared_lis,'C0_LLC_MPKI'), width=bar_width, label='sliced')\u001b[0m\u001b[0;34m\u001b[0m\u001b[0;34m\u001b[0m\u001b[0;34m\u001b[0m\u001b[0m\n",
      "\u001b[0;31mNameError\u001b[0m: name 'sliced_lis' is not defined"
     ]
    },
    {
     "data": {
      "image/png": "[encoded data removed]",
      "text/plain": [
       "<Figure size 864x576 with 1 Axes>"
      ]
     },
     "metadata": {
      "needs_background": "light"
     },
     "output_type": "display_data"
    }
   ],
   "source": [
    "fig, ax = plt.subplots(figsize=(12, 8))\n",
    "x = np.arange(5)\n",
    "\n",
    "# Define bar width. We'll use this to offset the second bar.\n",
    "bar_width = 0.4\n",
    "\n",
    "# Note we add the `width` parameter now which sets the width of each bar.\n",
    "b1 = ax.bar(x, fun(sliced_lis,'C0_LLC1_MPKI'), width=bar_width,label='shared' )\n",
    "# Same thing, but offset the x by the width of the bar.\n",
    "#b2 = ax.bar(x + bar_width, fun(shared_lis,'C0_LLC_MPKI'), width=bar_width, label='sliced')\n",
    "\n",
    "# Fix the x-axes.\n",
    "ax.set_xticks(x + bar_width / 2)\n",
    "\n",
    "ax.set_xticklabels(find_labels1(shared_preprocessed_files))\n",
    "# Add legend.\n",
    "ax.legend()"
   ]
  },
  {
   "cell_type": "code",
   "execution_count": 115,
   "metadata": {},
   "outputs": [
    {
     "data": {
      "text/plain": [
       "17.2788"
      ]
     },
     "execution_count": 115,
     "metadata": {},
     "output_type": "execute_result"
    }
   ],
   "source": [
    "shared_lis[0]['C0_L2_MPKI']"
   ]
  },
  {
   "cell_type": "code",
   "execution_count": 148,
   "metadata": {},
   "outputs": [],
   "source": [
    "x =\"sas_ewd\".split(\"_\")[0]"
   ]
  },
  {
   "cell_type": "code",
   "execution_count": 149,
   "metadata": {},
   "outputs": [
    {
     "data": {
      "text/plain": [
       "'sas'"
      ]
     },
     "execution_count": 149,
     "metadata": {},
     "output_type": "execute_result"
    }
   ],
   "source": [
    "x"
   ]
  },
  {
   "cell_type": "code",
   "execution_count": null,
   "metadata": {},
   "outputs": [],
   "source": []
  }
 ],
 "metadata": {
  "kernelspec": {
   "display_name": "Python 3",
   "language": "python",
   "name": "python3"
  },
  "language_info": {
   "codemirror_mode": {
    "name": "ipython",
    "version": 3
   },
   "file_extension": ".py",
   "mimetype": "text/x-python",
   "name": "python",
   "nbconvert_exporter": "python",
   "pygments_lexer": "ipython3",
   "version": "3.8.10"
  }
 },
 "nbformat": 4,
 "nbformat_minor": 5
}
