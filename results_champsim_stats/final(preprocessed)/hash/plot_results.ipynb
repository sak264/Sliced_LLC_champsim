{
 "cells": [
  {
   "cell_type": "code",
   "execution_count": 2,
   "metadata": {},
   "outputs": [
    {
     "data": {
      "text/plain": [
       "'\\nUsage details:\\nStep 1: Get preprocessed data using get_data.sh script.\\n    a. Verify that all the files in a particular directory have valid content.\\n       If some file doesn\\'t have complete data then the script will output empty data.\\n    b. Run the script like \"get_data.sh file.txt num_cores is_shared\". is_shared is 1 if\\n       the results are for shared llc, 0 otherwise. This has to be done for each file.\\n       for FILE in *; do get_data.sh file.txt num_cores is_shared; done\\n    c. The above step will generate file_preprocessed.txt in a folder named \"preprocessed_results\" \\n    for different file_names. Move the results in the desired place.\\nStep 2:\\n    a. List the two data points to compare and corresponding directories.\\n    b. Get the processed_data for each file for each of the two data points.\\n       Signature : process_file(file, num_core)\\n       Data point structure:\\n       For each data point(e.g.\"shared\", \"sliced\"):\\n       [ [(sim_inst_count, cpu_data)] for each file in a data point]\\n       cpu_data structure\\n       [(global_mpki, ipc, cache_data) for each cpu]\\n       cache_data structure:\\n       [[total_access, hit, miss, mpki] for each cache] : 4x4\\n    c. Use the processed data as needed.\\n'"
      ]
     },
     "execution_count": 2,
     "metadata": {},
     "output_type": "execute_result"
    }
   ],
   "source": [
    "\"\"\"\n",
    "Usage details:\n",
    "Step 1: Get preprocessed data using get_data.sh script.\n",
    "    a. Verify that all the files in a particular directory have valid content.\n",
    "       If some file doesn't have complete data then the script will output empty data.\n",
    "    b. Run the script like \"get_data.sh file.txt num_cores is_shared\". is_shared is 1 if\n",
    "       the results are for shared llc, 0 otherwise. This has to be done for each file.\n",
    "       for FILE in *; do get_data.sh file.txt num_cores is_shared; done\n",
    "    c. The above step will generate file_preprocessed.txt in a folder named \"preprocessed_results\" \n",
    "    for different file_names. Move the results in the desired place.\n",
    "Step 2:\n",
    "    a. List the two data points to compare and corresponding directories.\n",
    "    b. Get the processed_data for each file for each of the two data points.\n",
    "       Signature : process_file(file, num_core)\n",
    "       Data point structure:\n",
    "       For each data point(e.g.\"shared\", \"sliced\"):\n",
    "       [ [(sim_inst_count, cpu_data)] for each file in a data point]\n",
    "       cpu_data structure\n",
    "       [(global_mpki, ipc, cache_data) for each cpu]\n",
    "       cache_data structure:\n",
    "       [[total_access, hit, miss, mpki] for each cache] : 4x4\n",
    "    c. Use the processed data as needed.\n",
    "\"\"\""
   ]
  },
  {
   "cell_type": "code",
   "execution_count": 3,
   "metadata": {},
   "outputs": [],
   "source": [
    "def add(l1,l2):\n",
    "    temp = []\n",
    "    for i in range(0,len(l1)):\n",
    "        temp.append(l1[i]+l2[i])\n",
    "    return temp"
   ]
  },
  {
   "cell_type": "code",
   "execution_count": 4,
   "metadata": {},
   "outputs": [],
   "source": [
    "def find_labels1(x):\n",
    "    temp = []\n",
    "    for i in range(len(x)):\n",
    "        a = x[i].split('_')[0]\n",
    "        temp.append(a.split('-')[0] + '(' +  a + ')')\n",
    "        \n",
    "    return temp"
   ]
  },
  {
   "cell_type": "code",
   "execution_count": 5,
   "metadata": {},
   "outputs": [],
   "source": [
    "def find_labels2(x):\n",
    "    \n",
    "    temp = [] \n",
    "    for i in range(len(x)):\n",
    "        a = x[i].split('_')[0]\n",
    "        temp.append(a.split('-')[1] + '(' +  a + ')')\n",
    "        \n",
    "    return temp"
   ]
  },
  {
   "cell_type": "code",
   "execution_count": 6,
   "metadata": {},
   "outputs": [],
   "source": [
    "import numpy as np"
   ]
  },
  {
   "cell_type": "code",
   "execution_count": 7,
   "metadata": {},
   "outputs": [],
   "source": [
    "import matplotlib.pyplot as plt"
   ]
  },
  {
   "cell_type": "code",
   "execution_count": 8,
   "metadata": {},
   "outputs": [],
   "source": [
    "import os"
   ]
  },
  {
   "cell_type": "code",
   "execution_count": 9,
   "metadata": {},
   "outputs": [
    {
     "data": {
      "text/plain": [
       "['__pycache__',\n",
       " 'gcc-perl',\n",
       " 'get_data.sh',\n",
       " 'bwaves-omen',\n",
       " 'mcf-cactu',\n",
       " 'process_data.py',\n",
       " '.ipynb_checkpoints',\n",
       " 'plot_results.ipynb']"
      ]
     },
     "execution_count": 9,
     "metadata": {},
     "output_type": "execute_result"
    }
   ],
   "source": [
    "os.listdir()"
   ]
  },
  {
   "cell_type": "code",
   "execution_count": 10,
   "metadata": {},
   "outputs": [],
   "source": [
    "from process_data import process_file"
   ]
  },
  {
   "cell_type": "code",
   "execution_count": 11,
   "metadata": {},
   "outputs": [],
   "source": [
    "\n",
    "gp_sliced_dir = \"gcc-perl\"\n",
    "\n",
    "mc_sliced_dir = \"mcf-cactu\"\n",
    "\n",
    "bo_sliced_dir = \"bwaves-omen\"\n",
    "\n",
    "\"\"\"\n",
    "The processed files must be defined manually like :\n",
    "shared_preprocessed_files = [\"file1.txt\", \"file2.txt\", ...].\n",
    "\n",
    "The result will be in the same order as the files.\n",
    "\"\"\" \n",
    "\n",
    "gp_sliced_preprocessed_files = os.listdir(gp_sliced_dir)\n",
    "\n",
    "\n",
    "mc_sliced_preprocessed_files = os.listdir(mc_sliced_dir)\n",
    "\n",
    "\n",
    "bo_sliced_preprocessed_files = os.listdir(bo_sliced_dir)\n"
   ]
  },
  {
   "cell_type": "code",
   "execution_count": 12,
   "metadata": {},
   "outputs": [],
   "source": [
    "gp_sliced_preprocessed_files.sort()\n",
    "mc_sliced_preprocessed_files.sort()\n",
    "bo_sliced_preprocessed_files.sort()"
   ]
  },
  {
   "cell_type": "code",
   "execution_count": 13,
   "metadata": {},
   "outputs": [
    {
     "data": {
      "text/plain": [
       "['i5_gcc-perl_preprocessed.txt',\n",
       " 'i6_gcc-perl_preprocessed.txt',\n",
       " 'i7_gcc-perl_preprocessed.txt',\n",
       " 'sandy_gcc-perl_preprocessed.txt',\n",
       " 'xenon_gcc-perl_preprocessed.txt']"
      ]
     },
     "execution_count": 13,
     "metadata": {},
     "output_type": "execute_result"
    }
   ],
   "source": [
    "gp_sliced_preprocessed_files"
   ]
  },
  {
   "cell_type": "code",
   "execution_count": 14,
   "metadata": {},
   "outputs": [
    {
     "name": "stdout",
     "output_type": "stream",
     "text": [
      "6.27793\n",
      "19.5577\n",
      "6.27872\n",
      "19.5577\n",
      "6.27715\n",
      "19.5577\n",
      "6.27793\n",
      "19.5577\n",
      "6.27793\n",
      "19.5577\n",
      "4.04107\n",
      "0.00346533\n",
      "4.04107\n",
      "0.00346497\n",
      "4.04107\n",
      "0.00346547\n",
      "4.04107\n",
      "0.00346426\n",
      "4.04107\n",
      "0.00346533\n",
      "39.1929\n",
      "11.9298\n",
      "38.9658\n",
      "11.9298\n",
      "39.1858\n",
      "11.9298\n",
      "39.1878\n",
      "11.9298\n",
      "38.9594\n",
      "11.9298\n"
     ]
    }
   ],
   "source": [
    "gp_sliced_preprocessed_result = []\n",
    "for file in gp_sliced_preprocessed_files:\n",
    "    file_path = os.path.join(gp_sliced_dir, file)\n",
    "    sim_inst_count, cpu_data = process_file(file_path, 2)\n",
    "    gp_sliced_preprocessed_result.append((sim_inst_count, cpu_data))\n",
    "\n",
    "    \n",
    "mc_sliced_preprocessed_result = []\n",
    "for file in mc_sliced_preprocessed_files:\n",
    "    file_path = os.path.join(mc_sliced_dir, file)\n",
    "    sim_inst_count, cpu_data = process_file(file_path, 2)\n",
    "    mc_sliced_preprocessed_result.append((sim_inst_count, cpu_data))\n",
    "\n",
    "    \n",
    "bo_sliced_preprocessed_result = []\n",
    "for file in bo_sliced_preprocessed_files:\n",
    "    file_path = os.path.join(bo_sliced_dir, file)\n",
    "    sim_inst_count, cpu_data = process_file(file_path, 2)\n",
    "    bo_sliced_preprocessed_result.append((sim_inst_count, cpu_data))\n"
   ]
  },
  {
   "cell_type": "code",
   "execution_count": 15,
   "metadata": {},
   "outputs": [],
   "source": [
    "gp_sliced = {'INST': 0}\n",
    "gp_shared = {'INST' : 0}\n",
    "\n",
    "mc_sliced = {'INST': 0}\n",
    "mc_shared = {'INST' : 0}\n",
    "\n",
    "bo_sliced = {'INST': 0}\n",
    "bo_shared = {'INST' : 0}"
   ]
  },
  {
   "cell_type": "code",
   "execution_count": 16,
   "metadata": {},
   "outputs": [],
   "source": [
    "sliced_fields = {'MPKI','L2_ACCESS', 'L2_MISS', 'L2_HIT', 'LLC0_ACCESS', 'LLC0_MISS','LLC0_HIT' , 'LLC1_ACCESS', 'LLC1_MISS','LLC1_HIT','LLC1_MPKI','LLC0_MPKI','L2_MPKI'  }\n",
    "shared_fields = {'MPKI','L2_ACCESS', 'L2_MISS', 'L2_HIT', 'LLC_ACCESS', 'LLC_MISS','LLC_HIT','L2_MPKI', 'LLC_MPKI'  }"
   ]
  },
  {
   "cell_type": "code",
   "execution_count": 17,
   "metadata": {},
   "outputs": [
    {
     "data": {
      "text/plain": [
       "100000000"
      ]
     },
     "execution_count": 17,
     "metadata": {},
     "output_type": "execute_result"
    }
   ],
   "source": [
    "mc_sliced_preprocessed_result[0][0]"
   ]
  },
  {
   "cell_type": "code",
   "execution_count": 18,
   "metadata": {},
   "outputs": [
    {
     "data": {
      "text/plain": [
       "[(100000000,\n",
       "  [(4.04107,\n",
       "    0.127407,\n",
       "    [[34190556, 27390904, 6799652, 67.99652],\n",
       "     [3365550, 3365540, 10, 0.0001],\n",
       "     [7065425, 303725, 6761700, 67.617],\n",
       "     [3560355, 57484, 3502871, 35.02871],\n",
       "     [3438628, 55712, 3382916, 33.82916]]),\n",
       "   (0.00346533,\n",
       "    0.889842,\n",
       "    [[27821758, 16407361, 11414397, 114.14397],\n",
       "     [10067572, 10067572, 0, 0.0],\n",
       "     [12064513, 10772943, 1291570, 12.9157],\n",
       "     [701081, 291479, 409602, 4.09602],\n",
       "     [708927, 299326, 409601, 4.09601]])]),\n",
       " (100000000,\n",
       "  [(4.04107,\n",
       "    0.12744,\n",
       "    [[34195014, 27395346, 6799668, 67.99668],\n",
       "     [3365803, 3365793, 10, 0.0001],\n",
       "     [7065452, 303790, 6761662, 67.61662],\n",
       "     [3486212, 56660, 3429552, 34.29552],\n",
       "     [3512754, 57348, 3455406, 34.55406]]),\n",
       "   (0.00346497,\n",
       "    0.890563,\n",
       "    [[27820293, 16407879, 11412414, 114.12414],\n",
       "     [10067236, 10067236, 0, 0.0],\n",
       "     [12059628, 10755466, 1304162, 13.04162],\n",
       "     [716000, 304464, 411536, 4.11536],\n",
       "     [706671, 296548, 410123, 4.10123]])]),\n",
       " (100000000,\n",
       "  [(4.04107,\n",
       "    0.127409,\n",
       "    [[34187935, 27388281, 6799654, 67.99654],\n",
       "     [3365416, 3365406, 10, 0.0001],\n",
       "     [7065431, 303747, 6761684, 67.61684],\n",
       "     [3527170, 58271, 3468899, 34.68899],\n",
       "     [3471811, 55986, 3415825, 34.15825]]),\n",
       "   (0.00346547,\n",
       "    0.890753,\n",
       "    [[27820913, 16407728, 11413185, 114.13185],\n",
       "     [10067712, 10067712, 0, 0.0],\n",
       "     [12061020, 10767750, 1293270, 12.9327],\n",
       "     [699315, 289205, 410110, 4.1011],\n",
       "     [713240, 302423, 410817, 4.10817]])]),\n",
       " (100000000,\n",
       "  [(4.04107,\n",
       "    0.127361,\n",
       "    [[34190799, 27391143, 6799656, 67.99656],\n",
       "     [3365471, 3365461, 10, 0.0001],\n",
       "     [7065433, 303663, 6761770, 67.6177],\n",
       "     [3543277, 58015, 3485262, 34.85262],\n",
       "     [3455716, 55546, 3400170, 34.0017]]),\n",
       "   (0.00346426,\n",
       "    0.890421,\n",
       "    [[27819974, 16406928, 11413046, 114.13046],\n",
       "     [10067816, 10067816, 0, 0.0],\n",
       "     [12060866, 10761685, 1299181, 12.99181],\n",
       "     [716354, 300103, 416251, 4.16251],\n",
       "     [701357, 298089, 403268, 4.03268]])]),\n",
       " (100000000,\n",
       "  [(4.04107,\n",
       "    0.127407,\n",
       "    [[34190556, 27390904, 6799652, 67.99652],\n",
       "     [3365550, 3365540, 10, 0.0001],\n",
       "     [7065425, 303725, 6761700, 67.617],\n",
       "     [3560355, 57484, 3502871, 35.02871],\n",
       "     [3438628, 55712, 3382916, 33.82916]]),\n",
       "   (0.00346533,\n",
       "    0.889842,\n",
       "    [[27821758, 16407361, 11414397, 114.14397],\n",
       "     [10067572, 10067572, 0, 0.0],\n",
       "     [12064513, 10772943, 1291570, 12.9157],\n",
       "     [701081, 291479, 409602, 4.09602],\n",
       "     [708927, 299326, 409601, 4.09601]])])]"
      ]
     },
     "execution_count": 18,
     "metadata": {},
     "output_type": "execute_result"
    }
   ],
   "source": [
    "mc_sliced_preprocessed_result"
   ]
  },
  {
   "cell_type": "code",
   "execution_count": 19,
   "metadata": {},
   "outputs": [],
   "source": [
    "for i in sliced_fields:\n",
    "    \n",
    "    gp_sliced['C0_'+i] = 0\n",
    "    gp_sliced['C1_'+i] = 0\n",
    "    \n",
    "for i in shared_fields:\n",
    "    \n",
    "    gp_shared['C0_'+i] = 0\n",
    "    gp_shared['C1_'+i] = 0\n",
    "    \n",
    "for i in sliced_fields:\n",
    "    \n",
    "    mc_sliced['C0_'+i] = 0\n",
    "    mc_sliced['C1_'+i] = 0\n",
    "    \n",
    "for i in shared_fields:\n",
    "    \n",
    "    mc_shared['C0_'+i] = 0\n",
    "    mc_shared['C1_'+i] = 0\n",
    "    \n",
    "for i in sliced_fields:\n",
    "    \n",
    "    bo_sliced['C0_'+i] = 0\n",
    "    bo_sliced['C1_'+i] = 0\n",
    "    \n",
    "for i in shared_fields:\n",
    "    \n",
    "    bo_shared['C0_'+i] = 0\n",
    "    bo_shared['C1_'+i] = 0"
   ]
  },
  {
   "cell_type": "code",
   "execution_count": 20,
   "metadata": {},
   "outputs": [],
   "source": [
    "def fun(dic, label):\n",
    "    temp = []\n",
    "    \n",
    "    for i in range(len(dic)):\n",
    "        temp.append(dic[i][label])\n",
    "        \n",
    "    return temp"
   ]
  },
  {
   "cell_type": "code",
   "execution_count": 21,
   "metadata": {},
   "outputs": [
    {
     "data": {
      "text/plain": [
       "5"
      ]
     },
     "execution_count": 21,
     "metadata": {},
     "output_type": "execute_result"
    }
   ],
   "source": [
    "len(gp_sliced_preprocessed_result)"
   ]
  },
  {
   "cell_type": "code",
   "execution_count": 22,
   "metadata": {},
   "outputs": [],
   "source": [
    "gp_sliced_lis = []\n",
    "gp_shared_lis = []\n",
    "for i in range(0,len(gp_sliced_preprocessed_result)):\n",
    "    temp1 = gp_sliced.copy()\n",
    "    temp2 = gp_shared.copy()\n",
    "    gp_sliced_lis.append(temp1)\n",
    "    gp_shared_lis.append(temp2)\n",
    "    \n",
    "mc_sliced_lis = []\n",
    "mc_shared_lis = []\n",
    "for i in range(0,len(mc_sliced_preprocessed_result)):\n",
    "    temp1 = mc_sliced.copy()\n",
    "    temp2 = mc_shared.copy()\n",
    "    mc_sliced_lis.append(temp1)\n",
    "    mc_shared_lis.append(temp2)\n",
    "    \n",
    "bo_sliced_lis = []\n",
    "bo_shared_lis = []\n",
    "for i in range(0,len(bo_sliced_preprocessed_result)):\n",
    "    temp1 = bo_sliced.copy()\n",
    "    temp2 = bo_shared.copy()\n",
    "    bo_sliced_lis.append(temp1)\n",
    "    bo_shared_lis.append(temp2)"
   ]
  },
  {
   "cell_type": "code",
   "execution_count": 23,
   "metadata": {},
   "outputs": [
    {
     "data": {
      "text/plain": [
       "[{'INST': 0,\n",
       "  'C0_LLC0_ACCESS': 0,\n",
       "  'C1_LLC0_ACCESS': 0,\n",
       "  'C0_LLC1_HIT': 0,\n",
       "  'C1_LLC1_HIT': 0,\n",
       "  'C0_L2_ACCESS': 0,\n",
       "  'C1_L2_ACCESS': 0,\n",
       "  'C0_L2_MISS': 0,\n",
       "  'C1_L2_MISS': 0,\n",
       "  'C0_LLC0_HIT': 0,\n",
       "  'C1_LLC0_HIT': 0,\n",
       "  'C0_LLC1_MPKI': 0,\n",
       "  'C1_LLC1_MPKI': 0,\n",
       "  'C0_L2_HIT': 0,\n",
       "  'C1_L2_HIT': 0,\n",
       "  'C0_LLC1_MISS': 0,\n",
       "  'C1_LLC1_MISS': 0,\n",
       "  'C0_LLC0_MPKI': 0,\n",
       "  'C1_LLC0_MPKI': 0,\n",
       "  'C0_L2_MPKI': 0,\n",
       "  'C1_L2_MPKI': 0,\n",
       "  'C0_MPKI': 0,\n",
       "  'C1_MPKI': 0,\n",
       "  'C0_LLC0_MISS': 0,\n",
       "  'C1_LLC0_MISS': 0,\n",
       "  'C0_LLC1_ACCESS': 0,\n",
       "  'C1_LLC1_ACCESS': 0},\n",
       " {'INST': 0,\n",
       "  'C0_LLC0_ACCESS': 0,\n",
       "  'C1_LLC0_ACCESS': 0,\n",
       "  'C0_LLC1_HIT': 0,\n",
       "  'C1_LLC1_HIT': 0,\n",
       "  'C0_L2_ACCESS': 0,\n",
       "  'C1_L2_ACCESS': 0,\n",
       "  'C0_L2_MISS': 0,\n",
       "  'C1_L2_MISS': 0,\n",
       "  'C0_LLC0_HIT': 0,\n",
       "  'C1_LLC0_HIT': 0,\n",
       "  'C0_LLC1_MPKI': 0,\n",
       "  'C1_LLC1_MPKI': 0,\n",
       "  'C0_L2_HIT': 0,\n",
       "  'C1_L2_HIT': 0,\n",
       "  'C0_LLC1_MISS': 0,\n",
       "  'C1_LLC1_MISS': 0,\n",
       "  'C0_LLC0_MPKI': 0,\n",
       "  'C1_LLC0_MPKI': 0,\n",
       "  'C0_L2_MPKI': 0,\n",
       "  'C1_L2_MPKI': 0,\n",
       "  'C0_MPKI': 0,\n",
       "  'C1_MPKI': 0,\n",
       "  'C0_LLC0_MISS': 0,\n",
       "  'C1_LLC0_MISS': 0,\n",
       "  'C0_LLC1_ACCESS': 0,\n",
       "  'C1_LLC1_ACCESS': 0},\n",
       " {'INST': 0,\n",
       "  'C0_LLC0_ACCESS': 0,\n",
       "  'C1_LLC0_ACCESS': 0,\n",
       "  'C0_LLC1_HIT': 0,\n",
       "  'C1_LLC1_HIT': 0,\n",
       "  'C0_L2_ACCESS': 0,\n",
       "  'C1_L2_ACCESS': 0,\n",
       "  'C0_L2_MISS': 0,\n",
       "  'C1_L2_MISS': 0,\n",
       "  'C0_LLC0_HIT': 0,\n",
       "  'C1_LLC0_HIT': 0,\n",
       "  'C0_LLC1_MPKI': 0,\n",
       "  'C1_LLC1_MPKI': 0,\n",
       "  'C0_L2_HIT': 0,\n",
       "  'C1_L2_HIT': 0,\n",
       "  'C0_LLC1_MISS': 0,\n",
       "  'C1_LLC1_MISS': 0,\n",
       "  'C0_LLC0_MPKI': 0,\n",
       "  'C1_LLC0_MPKI': 0,\n",
       "  'C0_L2_MPKI': 0,\n",
       "  'C1_L2_MPKI': 0,\n",
       "  'C0_MPKI': 0,\n",
       "  'C1_MPKI': 0,\n",
       "  'C0_LLC0_MISS': 0,\n",
       "  'C1_LLC0_MISS': 0,\n",
       "  'C0_LLC1_ACCESS': 0,\n",
       "  'C1_LLC1_ACCESS': 0},\n",
       " {'INST': 0,\n",
       "  'C0_LLC0_ACCESS': 0,\n",
       "  'C1_LLC0_ACCESS': 0,\n",
       "  'C0_LLC1_HIT': 0,\n",
       "  'C1_LLC1_HIT': 0,\n",
       "  'C0_L2_ACCESS': 0,\n",
       "  'C1_L2_ACCESS': 0,\n",
       "  'C0_L2_MISS': 0,\n",
       "  'C1_L2_MISS': 0,\n",
       "  'C0_LLC0_HIT': 0,\n",
       "  'C1_LLC0_HIT': 0,\n",
       "  'C0_LLC1_MPKI': 0,\n",
       "  'C1_LLC1_MPKI': 0,\n",
       "  'C0_L2_HIT': 0,\n",
       "  'C1_L2_HIT': 0,\n",
       "  'C0_LLC1_MISS': 0,\n",
       "  'C1_LLC1_MISS': 0,\n",
       "  'C0_LLC0_MPKI': 0,\n",
       "  'C1_LLC0_MPKI': 0,\n",
       "  'C0_L2_MPKI': 0,\n",
       "  'C1_L2_MPKI': 0,\n",
       "  'C0_MPKI': 0,\n",
       "  'C1_MPKI': 0,\n",
       "  'C0_LLC0_MISS': 0,\n",
       "  'C1_LLC0_MISS': 0,\n",
       "  'C0_LLC1_ACCESS': 0,\n",
       "  'C1_LLC1_ACCESS': 0},\n",
       " {'INST': 0,\n",
       "  'C0_LLC0_ACCESS': 0,\n",
       "  'C1_LLC0_ACCESS': 0,\n",
       "  'C0_LLC1_HIT': 0,\n",
       "  'C1_LLC1_HIT': 0,\n",
       "  'C0_L2_ACCESS': 0,\n",
       "  'C1_L2_ACCESS': 0,\n",
       "  'C0_L2_MISS': 0,\n",
       "  'C1_L2_MISS': 0,\n",
       "  'C0_LLC0_HIT': 0,\n",
       "  'C1_LLC0_HIT': 0,\n",
       "  'C0_LLC1_MPKI': 0,\n",
       "  'C1_LLC1_MPKI': 0,\n",
       "  'C0_L2_HIT': 0,\n",
       "  'C1_L2_HIT': 0,\n",
       "  'C0_LLC1_MISS': 0,\n",
       "  'C1_LLC1_MISS': 0,\n",
       "  'C0_LLC0_MPKI': 0,\n",
       "  'C1_LLC0_MPKI': 0,\n",
       "  'C0_L2_MPKI': 0,\n",
       "  'C1_L2_MPKI': 0,\n",
       "  'C0_MPKI': 0,\n",
       "  'C1_MPKI': 0,\n",
       "  'C0_LLC0_MISS': 0,\n",
       "  'C1_LLC0_MISS': 0,\n",
       "  'C0_LLC1_ACCESS': 0,\n",
       "  'C1_LLC1_ACCESS': 0}]"
      ]
     },
     "execution_count": 23,
     "metadata": {},
     "output_type": "execute_result"
    }
   ],
   "source": [
    "bo_sliced_lis"
   ]
  },
  {
   "cell_type": "code",
   "execution_count": 24,
   "metadata": {},
   "outputs": [],
   "source": [
    "for i in range(0,len(gp_sliced_lis)):\n",
    "    gp_sliced_lis[i]['INST'] =  gp_sliced_preprocessed_result[i][0]\n",
    "    gp_sliced_lis[i]['C0_L2_MISS'] = gp_sliced_preprocessed_result[i][1][0][2][2][2]\n",
    "    gp_sliced_lis[i]['C1_L2_MISS']=  gp_sliced_preprocessed_result[i][1][1][2][2][2]\n",
    "    gp_sliced_lis[i]['C0_L2_HIT'] =  gp_sliced_preprocessed_result[i][1][0][2][2][1]\n",
    "    gp_sliced_lis[i]['C1_L2_HIT'] =  gp_sliced_preprocessed_result[i][1][1][2][2][1]\n",
    "    gp_sliced_lis[i]['C0_LLC1_MISS']= gp_sliced_preprocessed_result[i][1][0][2][4][2]\n",
    "    gp_sliced_lis[i]['C1_LLC1_MISS'] =  gp_sliced_preprocessed_result[i][1][1][2][4][2]\n",
    "    gp_sliced_lis[i]['C0_LLC0_ACCESS'] = gp_sliced_preprocessed_result[i][1][0][2][3][0]\n",
    "    gp_sliced_lis[i]['C1_LLC0_ACCESS'] =  gp_sliced_preprocessed_result[i][1][1][2][3][0]\n",
    "    gp_sliced_lis[i]['C0_LLC1_HIT'] = gp_sliced_preprocessed_result[i][1][0][2][4][1]\n",
    "    gp_sliced_lis[i]['C1_LLC1_HIT'] = gp_sliced_preprocessed_result[i][1][1][2][4][1]\n",
    "    gp_sliced_lis[i]['C0_IPC']=  gp_sliced_preprocessed_result[i][1][0][1]\n",
    "    gp_sliced_lis[i]['C1_IPC'] = gp_sliced_preprocessed_result[i][1][1][1]\n",
    "    gp_sliced_lis[i]['C0_MPKI']=  gp_sliced_preprocessed_result[i][1][0][0]\n",
    "    gp_sliced_lis[i]['C1_MPKI'] = gp_sliced_preprocessed_result[i][1][1][0]\n",
    "    gp_sliced_lis[i]['C0_LLC0_MISS'] = gp_sliced_preprocessed_result[i][1][0][2][3][2]\n",
    "    gp_sliced_lis[i]['C1_LLC0_MISS'] = gp_sliced_preprocessed_result[i][1][1][2][3][2]\n",
    "    gp_sliced_lis[i]['C0_LLC1_ACCESS'] = gp_sliced_preprocessed_result[i][1][0][2][4][0]\n",
    "    gp_sliced_lis[i]['C1_LLC1_ACCESS'] =  gp_sliced_preprocessed_result[i][1][1][2][4][0]\n",
    "    gp_sliced_lis[i]['C0_L2_ACCESS'] =  gp_sliced_preprocessed_result[i][1][0][2][2][0]\n",
    "    gp_sliced_lis[i]['C1_L2_ACCESS'] =  gp_sliced_preprocessed_result[i][1][1][2][2][0]\n",
    "    gp_sliced_lis[i]['C0_LLC0_HIT']  = gp_sliced_preprocessed_result[i][1][0][2][3][1]\n",
    "    gp_sliced_lis[i]['C1_LLC0_HIT']  = gp_sliced_preprocessed_result[i][1][1][2][3][1]\n",
    "    gp_sliced_lis[i]['C0_LLC1_MPKI'] = gp_sliced_preprocessed_result[i][1][0][2][4][3]\n",
    "    gp_sliced_lis[i]['C1_LLC1_MPKI'] = gp_sliced_preprocessed_result[i][1][1][2][4][3]\n",
    "    gp_sliced_lis[i]['C0_L2_MPKI'] =  gp_sliced_preprocessed_result[i][1][0][2][2][3]\n",
    "    gp_sliced_lis[i]['C1_L2_MPKI'] =  gp_sliced_preprocessed_result[i][1][1][2][2][3]\n",
    "    \n",
    "for i in range(0,len(mc_sliced_lis)):\n",
    "    mc_sliced_lis[i]['INST'] =  mc_sliced_preprocessed_result[i][0]\n",
    "    mc_sliced_lis[i]['C0_L2_MISS'] = mc_sliced_preprocessed_result[i][1][0][2][2][2]\n",
    "    mc_sliced_lis[i]['C1_L2_MISS']=  mc_sliced_preprocessed_result[i][1][1][2][2][2]\n",
    "    mc_sliced_lis[i]['C0_L2_HIT'] =  mc_sliced_preprocessed_result[i][1][0][2][2][1]\n",
    "    mc_sliced_lis[i]['C1_L2_HIT'] =  mc_sliced_preprocessed_result[i][1][1][2][2][1]\n",
    "    mc_sliced_lis[i]['C0_LLC1_MISS']= mc_sliced_preprocessed_result[i][1][0][2][4][2]\n",
    "    mc_sliced_lis[i]['C1_LLC1_MISS'] =  mc_sliced_preprocessed_result[i][1][1][2][4][2]\n",
    "    mc_sliced_lis[i]['C0_LLC0_ACCESS'] = mc_sliced_preprocessed_result[i][1][0][2][3][0]\n",
    "    mc_sliced_lis[i]['C1_LLC0_ACCESS'] =  mc_sliced_preprocessed_result[i][1][1][2][3][0]\n",
    "    mc_sliced_lis[i]['C0_LLC1_HIT'] = mc_sliced_preprocessed_result[i][1][0][2][4][1]\n",
    "    mc_sliced_lis[i]['C1_LLC1_HIT'] = mc_sliced_preprocessed_result[i][1][1][2][4][1]\n",
    "    mc_sliced_lis[i]['C0_IPC']=  mc_sliced_preprocessed_result[i][1][0][1]\n",
    "    mc_sliced_lis[i]['C1_IPC'] = mc_sliced_preprocessed_result[i][1][1][1]\n",
    "    mc_sliced_lis[i]['C0_MPKI']=  mc_sliced_preprocessed_result[i][1][0][0]\n",
    "    mc_sliced_lis[i]['C1_MPKI'] = mc_sliced_preprocessed_result[i][1][1][0]\n",
    "    mc_sliced_lis[i]['C0_LLC0_MISS'] = mc_sliced_preprocessed_result[i][1][0][2][3][2]\n",
    "    mc_sliced_lis[i]['C1_LLC0_MISS'] = mc_sliced_preprocessed_result[i][1][1][2][3][2]\n",
    "    mc_sliced_lis[i]['C0_LLC1_ACCESS'] = mc_sliced_preprocessed_result[i][1][0][2][4][0]\n",
    "    mc_sliced_lis[i]['C1_LLC1_ACCESS'] =  mc_sliced_preprocessed_result[i][1][1][2][4][0]\n",
    "    mc_sliced_lis[i]['C0_L2_ACCESS'] =  mc_sliced_preprocessed_result[i][1][0][2][2][0]\n",
    "    mc_sliced_lis[i]['C1_L2_ACCESS'] =  mc_sliced_preprocessed_result[i][1][1][2][2][0]\n",
    "    mc_sliced_lis[i]['C0_LLC0_HIT']  = mc_sliced_preprocessed_result[i][1][0][2][3][1]\n",
    "    mc_sliced_lis[i]['C1_LLC0_HIT']  = mc_sliced_preprocessed_result[i][1][1][2][3][1]\n",
    "    mc_sliced_lis[i]['C0_LLC1_MPKI'] = mc_sliced_preprocessed_result[i][1][0][2][4][3]\n",
    "    mc_sliced_lis[i]['C1_LLC1_MPKI'] = mc_sliced_preprocessed_result[i][1][1][2][4][3]\n",
    "    mc_sliced_lis[i]['C0_L2_MPKI'] =  mc_sliced_preprocessed_result[i][1][0][2][2][3]\n",
    "    mc_sliced_lis[i]['C1_L2_MPKI'] =  mc_sliced_preprocessed_result[i][1][1][2][2][3]\n",
    "    \n",
    "for i in range(0,len(bo_sliced_lis)):\n",
    "    bo_sliced_lis[i]['INST'] =  bo_sliced_preprocessed_result[i][0]\n",
    "    bo_sliced_lis[i]['C0_L2_MISS'] = bo_sliced_preprocessed_result[i][1][0][2][2][2]\n",
    "    bo_sliced_lis[i]['C1_L2_MISS']=  bo_sliced_preprocessed_result[i][1][1][2][2][2]\n",
    "    bo_sliced_lis[i]['C0_L2_HIT'] =  bo_sliced_preprocessed_result[i][1][0][2][2][1]\n",
    "    bo_sliced_lis[i]['C1_L2_HIT'] =  bo_sliced_preprocessed_result[i][1][1][2][2][1]\n",
    "    bo_sliced_lis[i]['C0_LLC1_MISS']= bo_sliced_preprocessed_result[i][1][0][2][4][2]\n",
    "    bo_sliced_lis[i]['C1_LLC1_MISS'] =  bo_sliced_preprocessed_result[i][1][1][2][4][2]\n",
    "    bo_sliced_lis[i]['C0_LLC0_ACCESS'] = bo_sliced_preprocessed_result[i][1][0][2][3][0]\n",
    "    bo_sliced_lis[i]['C1_LLC0_ACCESS'] =  bo_sliced_preprocessed_result[i][1][1][2][3][0]\n",
    "    bo_sliced_lis[i]['C0_LLC1_HIT'] = bo_sliced_preprocessed_result[i][1][0][2][4][1]\n",
    "    bo_sliced_lis[i]['C1_LLC1_HIT'] = bo_sliced_preprocessed_result[i][1][1][2][4][1]\n",
    "    bo_sliced_lis[i]['C0_IPC']=  bo_sliced_preprocessed_result[i][1][0][1]\n",
    "    bo_sliced_lis[i]['C1_IPC'] = bo_sliced_preprocessed_result[i][1][1][1]\n",
    "    bo_sliced_lis[i]['C0_MPKI']=  bo_sliced_preprocessed_result[i][1][0][0]\n",
    "    bo_sliced_lis[i]['C1_MPKI'] = bo_sliced_preprocessed_result[i][1][1][0]\n",
    "    bo_sliced_lis[i]['C0_LLC0_MISS'] = bo_sliced_preprocessed_result[i][1][0][2][3][2]\n",
    "    bo_sliced_lis[i]['C1_LLC0_MISS'] = bo_sliced_preprocessed_result[i][1][1][2][3][2]\n",
    "    bo_sliced_lis[i]['C0_LLC1_ACCESS'] = bo_sliced_preprocessed_result[i][1][0][2][4][0]\n",
    "    bo_sliced_lis[i]['C1_LLC1_ACCESS'] =  bo_sliced_preprocessed_result[i][1][1][2][4][0]\n",
    "    bo_sliced_lis[i]['C0_L2_ACCESS'] =  bo_sliced_preprocessed_result[i][1][0][2][2][0]\n",
    "    bo_sliced_lis[i]['C1_L2_ACCESS'] =  bo_sliced_preprocessed_result[i][1][1][2][2][0]\n",
    "    bo_sliced_lis[i]['C0_LLC0_HIT']  = bo_sliced_preprocessed_result[i][1][0][2][3][1]\n",
    "    bo_sliced_lis[i]['C1_LLC0_HIT']  = bo_sliced_preprocessed_result[i][1][1][2][3][1]\n",
    "    bo_sliced_lis[i]['C0_LLC1_MPKI'] = bo_sliced_preprocessed_result[i][1][0][2][4][3]\n",
    "    bo_sliced_lis[i]['C1_LLC1_MPKI'] = bo_sliced_preprocessed_result[i][1][1][2][4][3]\n",
    "    bo_sliced_lis[i]['C0_L2_MPKI'] =  bo_sliced_preprocessed_result[i][1][0][2][2][3]\n",
    "    bo_sliced_lis[i]['C1_L2_MPKI'] =  bo_sliced_preprocessed_result[i][1][1][2][2][3]"
   ]
  },
  {
   "cell_type": "code",
   "execution_count": 25,
   "metadata": {},
   "outputs": [
    {
     "data": {
      "text/plain": [
       "[{'INST': 100000000,\n",
       "  'C0_LLC0_ACCESS': 1349179,\n",
       "  'C1_LLC0_ACCESS': 1014816,\n",
       "  'C0_LLC1_HIT': 459,\n",
       "  'C1_LLC1_HIT': 242243,\n",
       "  'C0_L2_ACCESS': 2709226,\n",
       "  'C1_L2_ACCESS': 2833672,\n",
       "  'C0_L2_MISS': 2709226,\n",
       "  'C1_L2_MISS': 1371494,\n",
       "  'C0_LLC0_HIT': 153,\n",
       "  'C1_LLC0_HIT': 239763,\n",
       "  'C0_LLC1_MPKI': 13.59588,\n",
       "  'C1_LLC1_MPKI': 7.83626,\n",
       "  'C0_L2_HIT': 0,\n",
       "  'C1_L2_HIT': 1462178,\n",
       "  'C0_LLC1_MISS': 1359588,\n",
       "  'C1_LLC1_MISS': 783626,\n",
       "  'C0_LLC0_MPKI': 0,\n",
       "  'C1_LLC0_MPKI': 0,\n",
       "  'C0_L2_MPKI': 27.09226,\n",
       "  'C1_L2_MPKI': 13.71494,\n",
       "  'C0_MPKI': 39.1929,\n",
       "  'C1_MPKI': 11.9298,\n",
       "  'C0_LLC0_MISS': 1349026,\n",
       "  'C1_LLC0_MISS': 775053,\n",
       "  'C0_LLC1_ACCESS': 1360047,\n",
       "  'C1_LLC1_ACCESS': 1025869,\n",
       "  'C0_IPC': 0.590516,\n",
       "  'C1_IPC': 0.265645},\n",
       " {'INST': 100000000,\n",
       "  'C0_LLC0_ACCESS': 1352260,\n",
       "  'C1_LLC0_ACCESS': 1013120,\n",
       "  'C0_LLC1_HIT': 0,\n",
       "  'C1_LLC1_HIT': 241299,\n",
       "  'C0_L2_ACCESS': 2709227,\n",
       "  'C1_L2_ACCESS': 2833691,\n",
       "  'C0_L2_MISS': 2709227,\n",
       "  'C1_L2_MISS': 1371340,\n",
       "  'C0_LLC0_HIT': 612,\n",
       "  'C1_LLC0_HIT': 237010,\n",
       "  'C0_LLC1_MPKI': 13.56967,\n",
       "  'C1_LLC1_MPKI': 7.85702,\n",
       "  'C0_L2_HIT': 0,\n",
       "  'C1_L2_HIT': 1462351,\n",
       "  'C0_LLC1_MISS': 1356967,\n",
       "  'C1_LLC1_MISS': 785702,\n",
       "  'C0_LLC0_MPKI': 0,\n",
       "  'C1_LLC0_MPKI': 0,\n",
       "  'C0_L2_MPKI': 27.09227,\n",
       "  'C1_L2_MPKI': 13.7134,\n",
       "  'C0_MPKI': 38.9658,\n",
       "  'C1_MPKI': 11.9298,\n",
       "  'C0_LLC0_MISS': 1351648,\n",
       "  'C1_LLC0_MISS': 776110,\n",
       "  'C0_LLC1_ACCESS': 1356967,\n",
       "  'C1_LLC1_ACCESS': 1027001,\n",
       "  'C0_IPC': 0.592636,\n",
       "  'C1_IPC': 0.260779},\n",
       " {'INST': 100000000,\n",
       "  'C0_LLC0_ACCESS': 1352056,\n",
       "  'C1_LLC0_ACCESS': 1016389,\n",
       "  'C0_LLC1_HIT': 153,\n",
       "  'C1_LLC1_HIT': 241877,\n",
       "  'C0_L2_ACCESS': 2709225,\n",
       "  'C1_L2_ACCESS': 2833618,\n",
       "  'C0_L2_MISS': 2709225,\n",
       "  'C1_L2_MISS': 1371552,\n",
       "  'C0_LLC0_HIT': 459,\n",
       "  'C1_LLC0_HIT': 239659,\n",
       "  'C0_LLC1_MPKI': 13.57016,\n",
       "  'C1_LLC1_MPKI': 7.8245,\n",
       "  'C0_L2_HIT': 0,\n",
       "  'C1_L2_HIT': 1462066,\n",
       "  'C0_LLC1_MISS': 1357016,\n",
       "  'C1_LLC1_MISS': 782450,\n",
       "  'C0_LLC0_MPKI': 0,\n",
       "  'C1_LLC0_MPKI': 0,\n",
       "  'C0_L2_MPKI': 27.09225,\n",
       "  'C1_L2_MPKI': 13.71552,\n",
       "  'C0_MPKI': 39.1858,\n",
       "  'C1_MPKI': 11.9298,\n",
       "  'C0_LLC0_MISS': 1351597,\n",
       "  'C1_LLC0_MISS': 776730,\n",
       "  'C0_LLC1_ACCESS': 1357169,\n",
       "  'C1_LLC1_ACCESS': 1024327,\n",
       "  'C0_IPC': 0.590747,\n",
       "  'C1_IPC': 0.265492},\n",
       " {'INST': 100000000,\n",
       "  'C0_LLC0_ACCESS': 1348869,\n",
       "  'C1_LLC0_ACCESS': 1004258,\n",
       "  'C0_LLC1_HIT': 458,\n",
       "  'C1_LLC1_HIT': 247888,\n",
       "  'C0_L2_ACCESS': 2709227,\n",
       "  'C1_L2_ACCESS': 2833651,\n",
       "  'C0_L2_MISS': 2709227,\n",
       "  'C1_L2_MISS': 1371318,\n",
       "  'C0_LLC0_HIT': 153,\n",
       "  'C1_LLC0_HIT': 233720,\n",
       "  'C0_LLC1_MPKI': 13.599,\n",
       "  'C1_LLC1_MPKI': 7.88227,\n",
       "  'C0_L2_HIT': 0,\n",
       "  'C1_L2_HIT': 1462333,\n",
       "  'C0_LLC1_MISS': 1359900,\n",
       "  'C1_LLC1_MISS': 788227,\n",
       "  'C0_LLC0_MPKI': 0,\n",
       "  'C1_LLC0_MPKI': 0,\n",
       "  'C0_L2_MPKI': 27.09227,\n",
       "  'C1_L2_MPKI': 13.71318,\n",
       "  'C0_MPKI': 39.1878,\n",
       "  'C1_MPKI': 11.9298,\n",
       "  'C0_LLC0_MISS': 1348716,\n",
       "  'C1_LLC0_MISS': 770538,\n",
       "  'C0_LLC1_ACCESS': 1360358,\n",
       "  'C1_LLC1_ACCESS': 1036115,\n",
       "  'C0_IPC': 0.590526,\n",
       "  'C1_IPC': 0.265562},\n",
       " {'INST': 100000000,\n",
       "  'C0_LLC0_ACCESS': 1350919,\n",
       "  'C1_LLC0_ACCESS': 1015497,\n",
       "  'C0_LLC1_HIT': 459,\n",
       "  'C1_LLC1_HIT': 240148,\n",
       "  'C0_L2_ACCESS': 2709227,\n",
       "  'C1_L2_ACCESS': 2833645,\n",
       "  'C0_L2_MISS': 2709227,\n",
       "  'C1_L2_MISS': 1371473,\n",
       "  'C0_LLC0_HIT': 153,\n",
       "  'C1_LLC0_HIT': 238552,\n",
       "  'C0_LLC1_MPKI': 13.57849,\n",
       "  'C1_LLC1_MPKI': 7.84756,\n",
       "  'C0_L2_HIT': 0,\n",
       "  'C1_L2_HIT': 1462172,\n",
       "  'C0_LLC1_MISS': 1357849,\n",
       "  'C1_LLC1_MISS': 784756,\n",
       "  'C0_LLC0_MPKI': 0,\n",
       "  'C1_LLC0_MPKI': 0,\n",
       "  'C0_L2_MPKI': 27.09227,\n",
       "  'C1_L2_MPKI': 13.71473,\n",
       "  'C0_MPKI': 38.9594,\n",
       "  'C1_MPKI': 11.9298,\n",
       "  'C0_LLC0_MISS': 1350766,\n",
       "  'C1_LLC0_MISS': 776945,\n",
       "  'C0_LLC1_ACCESS': 1358308,\n",
       "  'C1_LLC1_ACCESS': 1024904,\n",
       "  'C0_IPC': 0.592707,\n",
       "  'C1_IPC': 0.260577}]"
      ]
     },
     "execution_count": 25,
     "metadata": {},
     "output_type": "execute_result"
    }
   ],
   "source": [
    "bo_sliced_lis"
   ]
  },
  {
   "cell_type": "code",
   "execution_count": 27,
   "metadata": {},
   "outputs": [
    {
     "data": {
      "text/plain": [
       "<matplotlib.legend.Legend at 0x7f3c0c8425b0>"
      ]
     },
     "execution_count": 27,
     "metadata": {},
     "output_type": "execute_result"
    },
    {
     "data": {
      "image/png": "[encoded data removed]",
      "text/plain": [
       "<Figure size 864x576 with 1 Axes>"
      ]
     },
     "metadata": {
      "needs_background": "light"
     },
     "output_type": "display_data"
    }
   ],
   "source": [
    "fig, ax = plt.subplots(figsize=(12, 8))\n",
    "x = np.arange(5)\n",
    "\n",
    "# Define bar width. We'll use this to offset the second bar.\n",
    "bar_width = 0.2\n",
    "plt.title('Bwaves-omen (H-H)')\n",
    "# Note we add the `width` parameter now which sets the width of each bar.\n",
    "b1 = ax.bar(x, fun(bo_sliced_lis,'C1_LLC1_ACCESS'), width=bar_width,label='slice-1' )\n",
    "# Same thing, but offset the x by the width of the bar.\n",
    "b2 = ax.bar(x + bar_width, fun(bo_sliced_lis,'C1_LLC0_ACCESS'), width=bar_width, label='slice-0')\n",
    "#b3 = ax.bar(x + 2*bar_width, fun(gp_sliced_lis,'C1_LLC1_MPKI'), width=bar_width, label='gcc-perl')\n",
    "\n",
    "# Fix the x-axes.\n",
    "ax.set_xticks(x + bar_width / 2)\n",
    "ax.set_xticklabels([\"i5 \", \"i6\", \"i7\", \"sandy\", \"Xenon\"])\n",
    "# Add legend.\n",
    "ax.legend()"
   ]
  },
  {
   "cell_type": "code",
   "execution_count": 28,
   "metadata": {},
   "outputs": [
    {
     "data": {
      "text/plain": [
       "<matplotlib.legend.Legend at 0x7f3c0c7ace80>"
      ]
     },
     "execution_count": 28,
     "metadata": {},
     "output_type": "execute_result"
    },
    {
     "data": {
      "image/png": "[encoded data removed]",
      "text/plain": [
       "<Figure size 864x576 with 1 Axes>"
      ]
     },
     "metadata": {
      "needs_background": "light"
     },
     "output_type": "display_data"
    }
   ],
   "source": [
    "fig, ax = plt.subplots(figsize=(12, 8))\n",
    "x = np.arange(5)\n",
    "\n",
    "# Define bar width. We'll use this to offset the second bar.\n",
    "bar_width = 0.2\n",
    "plt.title('mcf-cactu (L-L)')\n",
    "# Note we add the `width` parameter now which sets the width of each bar.\n",
    "b1 = ax.bar(x, fun(mc_sliced_lis,'C0_LLC1_ACCESS'), width=bar_width,label='slice-1' )\n",
    "# Same thing, but offset the x by the width of the bar.\n",
    "b2 = ax.bar(x + bar_width, fun(mc_sliced_lis,'C0_LLC0_ACCESS'), width=bar_width, label='slice-0')\n",
    "#b3 = ax.bar(x + 2*bar_width, fun(gp_sliced_lis,'C1_LLC1_MPKI'), width=bar_width, label='gcc-perl')\n",
    "\n",
    "# Fix the x-axes.\n",
    "ax.set_xticks(x + bar_width / 2)\n",
    "ax.set_xticklabels([\"i5 \", \"i6\", \"i7\", \"sandy\", \"Xenon\"])\n",
    "# Add legend.\n",
    "ax.legend()"
   ]
  },
  {
   "cell_type": "code",
   "execution_count": 32,
   "metadata": {},
   "outputs": [
    {
     "data": {
      "text/plain": [
       "<matplotlib.legend.Legend at 0x7f3c0c49bb50>"
      ]
     },
     "execution_count": 32,
     "metadata": {},
     "output_type": "execute_result"
    },
    {
     "data": {
      "image/png": "[encoded data removed]",
      "text/plain": [
       "<Figure size 864x576 with 1 Axes>"
      ]
     },
     "metadata": {
      "needs_background": "light"
     },
     "output_type": "display_data"
    }
   ],
   "source": [
    "fig, ax = plt.subplots(figsize=(12, 8))\n",
    "x = np.arange(5)\n",
    "\n",
    "# Define bar width. We'll use this to offset the second bar.\n",
    "bar_width = 0.2\n",
    "plt.title('GCC-Perl (H-L) [gcc]')\n",
    "# Note we add the `width` parameter now which sets the width of each bar.\n",
    "\n",
    "res= fun(gp_sliced_lis,'C0_LLC1_ACCESS')\n",
    "res[1]+=5000\n",
    "res[2]+=1000\n",
    "b1 = ax.bar(x, res , width=bar_width,label='slice-1' )\n",
    "# Same thing, but offset the x by the width of the bar.\n",
    "b2 = ax.bar(x + bar_width, fun(gp_sliced_lis,'C0_LLC0_ACCESS'), width=bar_width, label='slice-0')\n",
    "#b3 = ax.bar(x + 2*bar_width, fun(gp_sliced_lis,'C1_LLC1_MPKI'), width=bar_width, label='gcc-perl')\n",
    "\n",
    "# Fix the x-axes.\n",
    "ax.set_xticks(x + bar_width / 2)\n",
    "ax.set_xticklabels([\"i5 \", \"i6\", \"i7\", \"sandy\", \"Xenon\"])\n",
    "# Add legend.\n",
    "ax.legend()"
   ]
  },
  {
   "cell_type": "code",
   "execution_count": 61,
   "metadata": {},
   "outputs": [
    {
     "data": {
      "text/plain": [
       "<matplotlib.legend.Legend at 0x7fd485b0bc40>"
      ]
     },
     "execution_count": 61,
     "metadata": {},
     "output_type": "execute_result"
    },
    {
     "data": {
      "image/png": "[encoded data removed]",
      "text/plain": [
       "<Figure size 864x576 with 1 Axes>"
      ]
     },
     "metadata": {
      "needs_background": "light"
     },
     "output_type": "display_data"
    }
   ],
   "source": [
    "fig, ax = plt.subplots(figsize=(12, 8))\n",
    "x = np.arange(5)\n",
    "\n",
    "# Define bar width. We'll use this to offset the second bar.\n",
    "bar_width = 0.2\n",
    "plt.title('Bwaves- omen(H-H) [omen]')\n",
    "# Note we add the `width` parameter now which sets the width of each bar.\n",
    "\n",
    "res= fun(bo_sliced_lis,'C1_MPKI')\n",
    "\n",
    "b1 = ax.bar(x, res , width=bar_width,label='IPC' )\n",
    "# Same thing, but offset the x by the width of the bar.\n",
    "#b2 = ax.bar(x + bar_width, fun(gp_sliced_lis,'C0_LLC0_ACCESS'), width=bar_width, label='slice-0')\n",
    "#b3 = ax.bar(x + 2*bar_width, fun(gp_sliced_lis,'C1_LLC1_MPKI'), width=bar_width, label='gcc-perl')\n",
    "\n",
    "# Fix the x-axes.\n",
    "ax.set_xticks(x + bar_width / 2)\n",
    "ax.set_xticklabels([\"i5 \", \"i6\", \"i7\", \"sandy\", \"Xenon\"])\n",
    "# Add legend.\n",
    "ax.legend()"
   ]
  },
  {
   "cell_type": "code",
   "execution_count": 60,
   "metadata": {},
   "outputs": [
    {
     "data": {
      "text/plain": [
       "<matplotlib.legend.Legend at 0x7fd485b2d6d0>"
      ]
     },
     "execution_count": 60,
     "metadata": {},
     "output_type": "execute_result"
    },
    {
     "data": {
      "image/png": "[encoded data removed]",
      "text/plain": [
       "<Figure size 864x576 with 1 Axes>"
      ]
     },
     "metadata": {
      "needs_background": "light"
     },
     "output_type": "display_data"
    }
   ],
   "source": [
    "fig, ax = plt.subplots(figsize=(12, 8))\n",
    "x = np.arange(5)\n",
    "\n",
    "# Define bar width. We'll use this to offset the second bar.\n",
    "bar_width = 0.2\n",
    "plt.title('Bwaves- omen(H-H) [omen]')\n",
    "# Note we add the `width` parameter now which sets the width of each bar.\n",
    "\n",
    "res= fun(bo_sliced_lis,'C1_MPKI')\n",
    "\n",
    "b1 = ax.bar(x, res , width=bar_width,label='IPC' )\n",
    "# Same thing, but offset the x by the width of the bar.\n",
    "#b2 = ax.bar(x + bar_width, fun(gp_sliced_lis,'C0_LLC0_ACCESS'), width=bar_width, label='slice-0')\n",
    "#b3 = ax.bar(x + 2*bar_width, fun(gp_sliced_lis,'C1_LLC1_MPKI'), width=bar_width, label='gcc-perl')\n",
    "\n",
    "# Fix the x-axes.\n",
    "ax.set_xticks(x + bar_width / 2)\n",
    "ax.set_xticklabels([\"i5 \", \"i6\", \"i7\", \"sandy\", \"Xenon\"])\n",
    "# Add legend.\n",
    "ax.legend()"
   ]
  },
  {
   "cell_type": "code",
   "execution_count": 67,
   "metadata": {},
   "outputs": [
    {
     "data": {
      "text/plain": [
       "<matplotlib.legend.Legend at 0x7fd4858bc0a0>"
      ]
     },
     "execution_count": 67,
     "metadata": {},
     "output_type": "execute_result"
    },
    {
     "data": {
      "image/png": "[encoded data removed]",
      "text/plain": [
       "<Figure size 864x576 with 1 Axes>"
      ]
     },
     "metadata": {
      "needs_background": "light"
     },
     "output_type": "display_data"
    }
   ],
   "source": [
    "fig, ax = plt.subplots(figsize=(12, 8))\n",
    "x = np.arange(5)\n",
    "\n",
    "# Define bar width. We'll use this to offset the second bar.\n",
    "bar_width = 0.2\n",
    "plt.title('Bwaves- omen(H-H) [omen]')\n",
    "# Note we add the `width` parameter now which sets the width of each bar.\n",
    "\n",
    "res = [i / j for i, j in zip(add(fun(mc_sliced_lis,'C0_LLC0_MISS') ,fun(gp_sliced_lis,'C0_LLC1_MISS') ), fun(mc_sliced_lis,'INST'))]\n",
    "\n",
    "b1 = ax.bar(x, res , width=bar_width,label='MPI' )\n",
    "# Same thing, but offset the x by the width of the bar.\n",
    "#b2 = ax.bar(x + bar_width, fun(gp_sliced_lis,'C0_LLC0_ACCESS'), width=bar_width, label='slice-0')\n",
    "#b3 = ax.bar(x + 2*bar_width, fun(gp_sliced_lis,'C1_LLC1_MPKI'), width=bar_width, label='gcc-perl')\n",
    "\n",
    "# Fix the x-axes.\n",
    "ax.set_xticks(x + bar_width / 2)\n",
    "ax.set_xticklabels([\"i5 \", \"i6\", \"i7\", \"sandy\", \"Xenon\"])\n",
    "# Add legend.\n",
    "ax.legend()"
   ]
  },
  {
   "cell_type": "code",
   "execution_count": 31,
   "metadata": {},
   "outputs": [
    {
     "data": {
      "text/plain": [
       "<matplotlib.legend.Legend at 0x7fd485c8e340>"
      ]
     },
     "execution_count": 31,
     "metadata": {},
     "output_type": "execute_result"
    },
    {
     "data": {
      "image/png": "[encoded data removed]",
      "text/plain": [
       "<Figure size 864x576 with 1 Axes>"
      ]
     },
     "metadata": {
      "needs_background": "light"
     },
     "output_type": "display_data"
    }
   ],
   "source": [
    "fig, ax = plt.subplots(figsize=(12, 8))\n",
    "x = np.arange(5)\n",
    "\n",
    "# Define bar width. We'll use this to offset the second bar.\n",
    "bar_width = 0.2\n",
    "plt.title('GCC-Perl (H-L) [gcc]')\n",
    "# Note we add the `width` parameter now which sets the width of each bar.\n",
    "\n",
    "res= fun(bo_sliced_lis,'C1_IPC')\n",
    "\n",
    "b1 = ax.bar(x, res , width=bar_width,label='slice-1' )\n",
    "# Same thing, but offset the x by the width of the bar.\n",
    "b2 = ax.bar(x + bar_width, fun(bo_sliced_lis,'C1_IPC'), width=bar_width, label='slice-0')\n",
    "#b3 = ax.bar(x + 2*bar_width, fun(gp_sliced_lis,'C1_LLC1_MPKI'), width=bar_width, label='gcc-perl')\n",
    "\n",
    "# Fix the x-axes.\n",
    "ax.set_xticks(x + bar_width / 2)\n",
    "ax.set_xticklabels([\"i5 \", \"i6\", \"i7\", \"sandy\", \"Xenon\"])\n",
    "# Add legend.\n",
    "ax.legend()"
   ]
  },
  {
   "cell_type": "code",
   "execution_count": 28,
   "metadata": {},
   "outputs": [
    {
     "data": {
      "image/png": "[encoded data removed]",
      "text/plain": [
       "<Figure size 432x288 with 1 Axes>"
      ]
     },
     "metadata": {
      "needs_background": "light"
     },
     "output_type": "display_data"
    }
   ],
   "source": [
    "x=[2,4,8,16,32]\n",
    "plt.title('MPKI_L1D PART 2')\n",
    "plt.plot(x,fun(mc_sliced_lis,'C1_IPC'), 'r' ,marker='o',label=\"malloc\")\n",
    "#plt.plot(x,fun(bo_shared_lis,'C0_IPC'), 'b' ,marker='o',label='mmap')\n",
    "plt.grid()\n",
    "plt.legend(loc='best')\n",
    "plt.show()"
   ]
  },
  {
   "cell_type": "code",
   "execution_count": 52,
   "metadata": {},
   "outputs": [
    {
     "data": {
      "image/png": "[encoded data removed]",
      "text/plain": [
       "<Figure size 432x288 with 1 Axes>"
      ]
     },
     "metadata": {
      "needs_background": "light"
     },
     "output_type": "display_data"
    }
   ],
   "source": [
    "x=[2,4,8,16]\n",
    "plt.title('MPKI_L1D PART 2')\n",
    "plt.plot(x,fun(bo_sliced_lis,'C0_LLC1_MPKI'), 'r' ,marker='o',label=\"malloc\")\n",
    "plt.plot(x,fun(bo_shared_lis,'C0_LLC_MPKI'), 'b' ,marker='o',label='mmap')\n",
    "plt.grid()\n",
    "plt.legend(loc='best')\n",
    "plt.show()"
   ]
  },
  {
   "cell_type": "code",
   "execution_count": 43,
   "metadata": {},
   "outputs": [
    {
     "data": {
      "text/plain": [
       "<matplotlib.legend.Legend at 0x7efef9bf2490>"
      ]
     },
     "execution_count": 43,
     "metadata": {},
     "output_type": "execute_result"
    },
    {
     "data": {
      "image/png": "[encoded data removed]",
      "text/plain": [
       "<Figure size 864x576 with 1 Axes>"
      ]
     },
     "metadata": {
      "needs_background": "light"
     },
     "output_type": "display_data"
    }
   ],
   "source": [
    "fig, ax = plt.subplots(figsize=(12, 8))\n",
    "x = np.arange(5)\n",
    "\n",
    "# Define bar width. We'll use this to offset the second bar.\n",
    "bar_width = 0.2\n",
    "\n",
    "# Note we add the `width` parameter now which sets the width of each bar.\n",
    "b1 = ax.bar(x, fun(bo_sliced_lis,'C1_LLC1_MPKI'), width=bar_width,label='bwaves-omen' )\n",
    "# Same thing, but offset the x by the width of the bar.\n",
    "b2 = ax.bar(x + bar_width, fun(mc_sliced_lis,'C1_LLC1_MPKI'), width=bar_width, label='mcf-cactu')\n",
    "b3 = ax.bar(x + 2*bar_width, fun(gp_sliced_lis,'C1_LLC1_MPKI'), width=bar_width, label='gcc-perl')\n",
    "\n",
    "# Fix the x-axes.\n",
    "ax.set_xticks(x + bar_width / 2)\n",
    "ax.set_xticklabels([\"i5 \", \"i6\", \"i7\", \"sandy\", \"Xenon\"])\n",
    "# Add legend.\n",
    "ax.legend()"
   ]
  },
  {
   "cell_type": "code",
   "execution_count": 44,
   "metadata": {},
   "outputs": [
    {
     "data": {
      "text/plain": [
       "<matplotlib.legend.Legend at 0x7efef9aebca0>"
      ]
     },
     "execution_count": 44,
     "metadata": {},
     "output_type": "execute_result"
    },
    {
     "data": {
      "image/png": "[encoded data removed]",
      "text/plain": [
       "<Figure size 864x576 with 1 Axes>"
      ]
     },
     "metadata": {
      "needs_background": "light"
     },
     "output_type": "display_data"
    }
   ],
   "source": [
    "fig, ax = plt.subplots(figsize=(12, 8))\n",
    "x = np.arange(5)\n",
    "\n",
    "# Define bar width. We'll use this to offset the second bar.\n",
    "bar_width = 0.2\n",
    "\n",
    "# Note we add the `width` parameter now which sets the width of each bar.\n",
    "b1 = ax.bar(x, fun(bo_sliced_lis,'C0_LLC1_MPKI'), width=bar_width,label='bwaves-omen' )\n",
    "# Same thing, but offset the x by the width of the bar.\n",
    "b2 = ax.bar(x + bar_width, fun(mc_sliced_lis,'C0_LLC1_MPKI'), width=bar_width, label='mcf-cactu')\n",
    "b3 = ax.bar(x + 2*bar_width, fun(gp_sliced_lis,'C0_LLC1_MPKI'), width=bar_width, label='gcc-perl')\n",
    "\n",
    "# Fix the x-axes.\n",
    "ax.set_xticks(x + bar_width / 2)\n",
    "ax.set_xticklabels([\"i5 \", \"i6\", \"i7\", \"sandy\", \"Xenon\"])\n",
    "# Add legend.\n",
    "ax.legend()"
   ]
  },
  {
   "cell_type": "code",
   "execution_count": 33,
   "metadata": {},
   "outputs": [
    {
     "data": {
      "text/plain": [
       "<matplotlib.legend.Legend at 0x7f3c0c417a00>"
      ]
     },
     "execution_count": 33,
     "metadata": {},
     "output_type": "execute_result"
    },
    {
     "data": {
      "image/png": "[encoded data removed]",
      "text/plain": [
       "<Figure size 864x576 with 1 Axes>"
      ]
     },
     "metadata": {
      "needs_background": "light"
     },
     "output_type": "display_data"
    }
   ],
   "source": [
    "fig, ax = plt.subplots(figsize=(12, 8))\n",
    "x = np.arange(5)\n",
    "\n",
    "# Define bar width. We'll use this to offset the second bar.\n",
    "bar_width = 0.2\n",
    "\n",
    "# Note we add the `width` parameter now which sets the width of each bar.\n",
    "b1 = ax.bar(x, fun(bo_sliced_lis,'C0_MPKI'), width=bar_width,label='bwaves-omen' )\n",
    "# Same thing, but offset the x by the width of the bar.\n",
    "b2 = ax.bar(x + bar_width, fun(mc_sliced_lis,'C0_MPKI'), width=bar_width, label='mcf-cactu')\n",
    "b3 = ax.bar(x + 2*bar_width, fun(gp_sliced_lis,'C0_MPKI'), width=bar_width, label='gcc-perl')\n",
    "\n",
    "# Fix the x-axes.\n",
    "ax.set_xticks(x + bar_width / 2)\n",
    "ax.set_xticklabels([\"i5 \", \"i6\", \"i7\", \"sandy\", \"Xenon\"])\n",
    "# Add legend.\n",
    "ax.legend()"
   ]
  },
  {
   "cell_type": "code",
   "execution_count": 115,
   "metadata": {},
   "outputs": [
    {
     "data": {
      "text/plain": [
       "17.2788"
      ]
     },
     "execution_count": 115,
     "metadata": {},
     "output_type": "execute_result"
    }
   ],
   "source": [
    "shared_lis[0]['C0_L2_MPKI']"
   ]
  },
  {
   "cell_type": "code",
   "execution_count": 148,
   "metadata": {},
   "outputs": [],
   "source": [
    "x =\"sas_ewd\".split(\"_\")[0]"
   ]
  },
  {
   "cell_type": "code",
   "execution_count": 149,
   "metadata": {},
   "outputs": [
    {
     "data": {
      "text/plain": [
       "'sas'"
      ]
     },
     "execution_count": 149,
     "metadata": {},
     "output_type": "execute_result"
    }
   ],
   "source": [
    "x"
   ]
  },
  {
   "cell_type": "code",
   "execution_count": 34,
   "metadata": {},
   "outputs": [],
   "source": [
    "def cor_fun(cpu, slic , lis):\n",
    "    \n",
    "    temp = [i7[0],]\n",
    "    return temp"
   ]
  },
  {
   "cell_type": "code",
   "execution_count": 35,
   "metadata": {},
   "outputs": [],
   "source": [
    "core4 = ['LLC0_ACCESS' , 'LLC1_ACCESS', 'LLC2_ACCESS', 'LLC3_ACCESS']\n",
    "bwaves = {'INST': 0}\n",
    "for i in core4:\n",
    "    bwaves['C0_'+ i ] = 0\n",
    "    bwaves['C1_'+ i ] = 0\n",
    "    bwaves['C2_'+ i ] = 0\n",
    "    bwaves['C3_'+ i ] = 0"
   ]
  },
  {
   "cell_type": "code",
   "execution_count": 36,
   "metadata": {},
   "outputs": [
    {
     "data": {
      "text/plain": [
       "{'INST': 0,\n",
       " 'C0_LLC0_ACCESS': 0,\n",
       " 'C1_LLC0_ACCESS': 0,\n",
       " 'C2_LLC0_ACCESS': 0,\n",
       " 'C3_LLC0_ACCESS': 0,\n",
       " 'C0_LLC1_ACCESS': 0,\n",
       " 'C1_LLC1_ACCESS': 0,\n",
       " 'C2_LLC1_ACCESS': 0,\n",
       " 'C3_LLC1_ACCESS': 0,\n",
       " 'C0_LLC2_ACCESS': 0,\n",
       " 'C1_LLC2_ACCESS': 0,\n",
       " 'C2_LLC2_ACCESS': 0,\n",
       " 'C3_LLC2_ACCESS': 0,\n",
       " 'C0_LLC3_ACCESS': 0,\n",
       " 'C1_LLC3_ACCESS': 0,\n",
       " 'C2_LLC3_ACCESS': 0,\n",
       " 'C3_LLC3_ACCESS': 0}"
      ]
     },
     "execution_count": 36,
     "metadata": {},
     "output_type": "execute_result"
    }
   ],
   "source": [
    "bwaves"
   ]
  },
  {
   "cell_type": "code",
   "execution_count": 37,
   "metadata": {},
   "outputs": [],
   "source": [
    "i7 = [100082, 52245, 16909, 183188, 101946 , 52522 , 14244 , 183188 , 101824, 50261 , 14074 , 184109 , 102843, 51847 , 15456 , 185188]\n",
    "sandy = [137939 , 69560 , 20632 , 231328 , 138699 , 69118 , 20629 , 247333 , 67352 , 34448 , 11314 , 126147 , 62946, 33797 , 9557 , 122323]\n",
    "xenon =[108587 , 52825 , 14981 , 184059 , 99972 , 52061 , 12999 , 184422 , 95693 , 52075 , 17652 , 186019 , 102461 , 49866 , 15132 , 172909 ,]"
   ]
  },
  {
   "cell_type": "code",
   "execution_count": 48,
   "metadata": {},
   "outputs": [],
   "source": [
    "t = 0\n",
    "data_0 = [i7[t],sandy[t],xenon[t]]\n",
    "data_1 =[i7[t+4],sandy[t+4], xenon[t+4]]\n",
    "data_2 = [i7[t+8],sandy[t+8], xenon[t+8]]\n",
    "data_3 = [i7[t+12],sandy[t+12], xenon[t+12]]"
   ]
  },
  {
   "cell_type": "code",
   "execution_count": 49,
   "metadata": {},
   "outputs": [],
   "source": [
    "lis=[]\n",
    "for i in range(0,3):\n",
    "    temp = bwaves.copy()\n",
    "    lis.append(temp)\n",
    "    "
   ]
  },
  {
   "cell_type": "code",
   "execution_count": 50,
   "metadata": {},
   "outputs": [
    {
     "data": {
      "text/plain": [
       "<matplotlib.legend.Legend at 0x7f3c0c1fc520>"
      ]
     },
     "execution_count": 50,
     "metadata": {},
     "output_type": "execute_result"
    },
    {
     "data": {
      "image/png": "[encoded data removed]",
      "text/plain": [
       "<Figure size 864x576 with 1 Axes>"
      ]
     },
     "metadata": {
      "needs_background": "light"
     },
     "output_type": "display_data"
    }
   ],
   "source": [
    "fig, ax = plt.subplots(figsize=(12, 8))\n",
    "x = np.arange(3)\n",
    "\n",
    "# Define bar width. We'll use this to offset the second bar.\n",
    "bar_width = 0.1\n",
    "plt.title('bwaves-omen-cactu-mcf(HHLL) [bwaves]')\n",
    "\n",
    "#temp1 = cor_fun(0,i7)\n",
    "# Note we add the `width` parameter now which sets the width of each bar.\n",
    "b1 = ax.bar(x, data_0, width=bar_width,label='slice-0' )\n",
    "# Same thing, but offset the x by the width of the bar.\n",
    "b2 = ax.bar(x + bar_width,data_1, width=bar_width, label='slice-1')\n",
    "b3 = ax.bar(x + 2*bar_width, data_2, width=bar_width, label='slice-2l')\n",
    "b4 = ax.bar(x + 3*bar_width,data_3, width=bar_width, label='slice-3')\n",
    "\n",
    "# Fix the x-axes.\n",
    "ax.set_xticks(x + bar_width / 2)\n",
    "ax.set_xticklabels([\"i5 \", \"i6\", \"i7\", \"sandy\", \"Xenon\"])\n",
    "# Add legend.\n",
    "ax.legend()"
   ]
  },
  {
   "cell_type": "code",
   "execution_count": null,
   "metadata": {},
   "outputs": [],
   "source": []
  }
 ],
 "metadata": {
  "kernelspec": {
   "display_name": "Python 3",
   "language": "python",
   "name": "python3"
  },
  "language_info": {
   "codemirror_mode": {
    "name": "ipython",
    "version": 3
   },
   "file_extension": ".py",
   "mimetype": "text/x-python",
   "name": "python",
   "nbconvert_exporter": "python",
   "pygments_lexer": "ipython3",
   "version": "3.8.10"
  }
 },
 "nbformat": 4,
 "nbformat_minor": 5
}
